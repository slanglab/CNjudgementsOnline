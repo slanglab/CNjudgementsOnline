{
 "cells": [
  {
   "cell_type": "code",
   "execution_count": 17,
   "metadata": {},
   "outputs": [],
   "source": [
    "import pandas as pd\n",
    "import matplotlib\n",
    "import matplotlib.pyplot as plt\n",
    "import matplotlib.font_manager\n",
    "matplotlib.font_manager._rebuild()\n",
    "matplotlib.rcParams['font.family'] = ['Heiti TC']\n",
    "import seaborn as sns\n",
    "from scipy import stats\n",
    "import numpy as np\n"
   ]
  },
  {
   "cell_type": "code",
   "execution_count": 2,
   "metadata": {},
   "outputs": [],
   "source": [
    "%reload_ext autoreload\n",
    "%autoreload 2\n",
    "%aimport Scripts\n",
    "\n",
    "from Scripts.dangerousDriving import bloodAlcoholDistribution as baDis\n",
    "from Scripts.utils import util"
   ]
  },
  {
   "cell_type": "code",
   "execution_count": 101,
   "metadata": {},
   "outputs": [],
   "source": [
    "pd.set_option('display.max_colwidth', 1000)"
   ]
  },
  {
   "cell_type": "markdown",
   "metadata": {},
   "source": [
    "## Load national and Xinjinag Data"
   ]
  },
  {
   "cell_type": "code",
   "execution_count": 112,
   "metadata": {},
   "outputs": [],
   "source": [
    "national = pd.read_csv('./dataframes/dangerousDriving/nationalDD.csv')"
   ]
  },
  {
   "cell_type": "code",
   "execution_count": 113,
   "metadata": {},
   "outputs": [],
   "source": [
    "xinjiang = pd.read_csv('./dataframes/dangerousDriving/xinjiangDD.csv')"
   ]
  },
  {
   "cell_type": "code",
   "execution_count": null,
   "metadata": {},
   "outputs": [],
   "source": []
  },
  {
   "cell_type": "markdown",
   "metadata": {},
   "source": [
    "## Blood Alcohol Content distribution"
   ]
  },
  {
   "cell_type": "markdown",
   "metadata": {},
   "source": [
    "### National"
   ]
  },
  {
   "cell_type": "code",
   "execution_count": 152,
   "metadata": {},
   "outputs": [],
   "source": [
    "nationalResults, NNnote, NNnoMatchCount, NNmultipleMatchesCount, NNparseNumErrorCount, NNfirstHalfMatchCount = baDis.extractAlcoholNumber(national)\n",
    "\n"
   ]
  },
  {
   "cell_type": "code",
   "execution_count": 157,
   "metadata": {},
   "outputs": [
    {
     "name": "stdout",
     "output_type": "stream",
     "text": [
      "len nationalResults: 265231\n",
      "national noMatchCount: 6175\n",
      "national multipleMatchesCount: 38957\n",
      "national parseNumErrorCount: 490\n",
      "national firstHalfMatchCount: 26832\n",
      "total national DD rows: 265231\n"
     ]
    }
   ],
   "source": [
    "print('len nationalResults: {}'.format(len(nationalResults)))\n",
    "print('national noMatchCount: {}'.format(NNnoMatchCount))\n",
    "print('national multipleMatchesCount: {}'.format(NNmultipleMatchesCount))\n",
    "print('national parseNumErrorCount: {}'.format(NNparseNumErrorCount))\n",
    "print('national firstHalfMatchCount: {}'.format(NNfirstHalfMatchCount))\n",
    "\n",
    "print('total national DD rows: {}'.format(len(national))) "
   ]
  },
  {
   "cell_type": "code",
   "execution_count": 158,
   "metadata": {},
   "outputs": [],
   "source": [
    "national['bloodAlcoholContent'] = nationalResults\n",
    "national['baNotes'] = NNnote"
   ]
  },
  {
   "cell_type": "code",
   "execution_count": 263,
   "metadata": {},
   "outputs": [],
   "source": [
    "# national.to_csv('./dataframes/dangerousDriving/nationalDDWithBAcontent.csv', index=False)"
   ]
  },
  {
   "cell_type": "code",
   "execution_count": 161,
   "metadata": {},
   "outputs": [],
   "source": [
    "noMatch = national[national[\"baNotes\"]=='noMatch']"
   ]
  },
  {
   "cell_type": "code",
   "execution_count": 187,
   "metadata": {},
   "outputs": [
    {
     "data": {
      "text/html": [
       "<div>\n",
       "<style scoped>\n",
       "    .dataframe tbody tr th:only-of-type {\n",
       "        vertical-align: middle;\n",
       "    }\n",
       "\n",
       "    .dataframe tbody tr th {\n",
       "        vertical-align: top;\n",
       "    }\n",
       "\n",
       "    .dataframe thead th {\n",
       "        text-align: right;\n",
       "    }\n",
       "</style>\n",
       "<table border=\"1\" class=\"dataframe\">\n",
       "  <thead>\n",
       "    <tr style=\"text-align: right;\">\n",
       "      <th></th>\n",
       "      <th>fact</th>\n",
       "      <th>lawArticle</th>\n",
       "      <th>moneyPunishment</th>\n",
       "      <th>imprisonment</th>\n",
       "    </tr>\n",
       "  </thead>\n",
       "  <tbody>\n",
       "    <tr>\n",
       "      <th>61775</th>\n",
       "      <td>五家渠垦区人检察院指控，2014年8月20日23时30分许，被告人杨某某在五家渠市酒后驾驶车辆自人民南路由南向北行驶，与相对方向的三轮小货车相撞，致车上的人员受伤，车辆受损，经五家渠交通警察大队认定，被告人杨某某负此事故的主要责任。经鉴定，被告人杨某某的血液检测出乙醇，每一百毫升血液中含乙醇一百二十三毫克。公诉机关认为被告人杨某某的行为构成××，并向本院提交了相关证据，提请本院依法惩处。</td>\n",
       "      <td>133</td>\n",
       "      <td>0</td>\n",
       "      <td>2</td>\n",
       "    </tr>\n",
       "  </tbody>\n",
       "</table>\n",
       "</div>"
      ],
      "text/plain": [
       "                                                                                                                                                                                                      fact  \\\n",
       "61775  五家渠垦区人检察院指控，2014年8月20日23时30分许，被告人杨某某在五家渠市酒后驾驶车辆自人民南路由南向北行驶，与相对方向的三轮小货车相撞，致车上的人员受伤，车辆受损，经五家渠交通警察大队认定，被告人杨某某负此事故的主要责任。经鉴定，被告人杨某某的血液检测出乙醇，每一百毫升血液中含乙醇一百二十三毫克。公诉机关认为被告人杨某某的行为构成××，并向本院提交了相关证据，提请本院依法惩处。   \n",
       "\n",
       "       lawArticle  moneyPunishment  imprisonment  \n",
       "61775         133                0             2  "
      ]
     },
     "execution_count": 187,
     "metadata": {},
     "output_type": "execute_result"
    }
   ],
   "source": [
    "noMatch.sample()[['fact', 'lawArticle', 'moneyPunishment', 'imprisonment']]"
   ]
  },
  {
   "cell_type": "code",
   "execution_count": null,
   "metadata": {},
   "outputs": [],
   "source": []
  },
  {
   "cell_type": "code",
   "execution_count": 212,
   "metadata": {},
   "outputs": [],
   "source": [
    "allMatches = national[~national.baNotes.eq('parseError') & ~national.baNotes.eq('noMatch')]"
   ]
  },
  {
   "cell_type": "code",
   "execution_count": 213,
   "metadata": {},
   "outputs": [
    {
     "data": {
      "text/plain": [
       "258566"
      ]
     },
     "execution_count": 213,
     "metadata": {},
     "output_type": "execute_result"
    }
   ],
   "source": [
    "len(allMatches)"
   ]
  },
  {
   "cell_type": "code",
   "execution_count": 159,
   "metadata": {},
   "outputs": [],
   "source": [
    "baHalfMatch = national[national[\"baNotes\"]=='firstHalfMatch']"
   ]
  },
  {
   "cell_type": "code",
   "execution_count": 160,
   "metadata": {},
   "outputs": [
    {
     "data": {
      "text/plain": [
       "26737"
      ]
     },
     "execution_count": 160,
     "metadata": {},
     "output_type": "execute_result"
    }
   ],
   "source": [
    "len(baHalfMatch)"
   ]
  },
  {
   "cell_type": "code",
   "execution_count": null,
   "metadata": {},
   "outputs": [],
   "source": []
  },
  {
   "cell_type": "code",
   "execution_count": 214,
   "metadata": {},
   "outputs": [],
   "source": [
    "nationalResults99 = util.getPercentileList(allMatches['bloodAlcoholContent'].tolist(), 99)\n"
   ]
  },
  {
   "cell_type": "code",
   "execution_count": 261,
   "metadata": {},
   "outputs": [
    {
     "data": {
      "text/plain": [
       "Text(0.5, 1.0, '99 Percentail National Dangerous Driving Blood Alcohol Content Distribution ( if present)')"
      ]
     },
     "execution_count": 261,
     "metadata": {},
     "output_type": "execute_result"
    },
    {
     "data": {
      "image/png": "[encoded data removed]",
      "text/plain": [
       "<Figure size 432x288 with 1 Axes>"
      ]
     },
     "metadata": {
      "needs_background": "light"
     },
     "output_type": "display_data"
    }
   ],
   "source": [
    "sns.distplot(nationalResults99)\n",
    "plt.title('99 Percentail National Dangerous Driving Blood Alcohol Content Distribution ( if present)')\n"
   ]
  },
  {
   "cell_type": "code",
   "execution_count": null,
   "metadata": {},
   "outputs": [],
   "source": []
  },
  {
   "cell_type": "code",
   "execution_count": 216,
   "metadata": {},
   "outputs": [],
   "source": [
    "matchedNotDrunkcontent = allMatches[allMatches['bloodAlcoholContent']< 20]"
   ]
  },
  {
   "cell_type": "code",
   "execution_count": 217,
   "metadata": {},
   "outputs": [
    {
     "data": {
      "text/plain": [
       "13928"
      ]
     },
     "execution_count": 217,
     "metadata": {},
     "output_type": "execute_result"
    }
   ],
   "source": [
    "len(matchedNotDrunkcontent)"
   ]
  },
  {
   "cell_type": "code",
   "execution_count": 227,
   "metadata": {},
   "outputs": [
    {
     "data": {
      "text/html": [
       "<div>\n",
       "<style scoped>\n",
       "    .dataframe tbody tr th:only-of-type {\n",
       "        vertical-align: middle;\n",
       "    }\n",
       "\n",
       "    .dataframe tbody tr th {\n",
       "        vertical-align: top;\n",
       "    }\n",
       "\n",
       "    .dataframe thead th {\n",
       "        text-align: right;\n",
       "    }\n",
       "</style>\n",
       "<table border=\"1\" class=\"dataframe\">\n",
       "  <thead>\n",
       "    <tr style=\"text-align: right;\">\n",
       "      <th></th>\n",
       "      <th>fact</th>\n",
       "      <th>lawArticle</th>\n",
       "      <th>moneyPunishment</th>\n",
       "      <th>imprisonment</th>\n",
       "    </tr>\n",
       "  </thead>\n",
       "  <tbody>\n",
       "    <tr>\n",
       "      <th>130682</th>\n",
       "      <td>公诉机关指控，2015年9月10日20时30分许，被告人赵某某酒后驾驶牌号为沪CTXXXX小型轿车行驶至上海市嘉定区百安路、嘉安公路口北约80米处，被民警查获。经检验，其血液中乙醇含量为1.85毫克／毫升，达到醉酒程度。赵某某到案后如实供述了犯罪事实。公诉机关认为赵某某具有如实供述的处罚情节，建议判处赵某某二个月以上三个月以下××并处罚金，可适用××。</td>\n",
       "      <td>133</td>\n",
       "      <td>2000</td>\n",
       "      <td>2</td>\n",
       "    </tr>\n",
       "  </tbody>\n",
       "</table>\n",
       "</div>"
      ],
      "text/plain": [
       "                                                                                                                                                                                     fact  \\\n",
       "130682  公诉机关指控，2015年9月10日20时30分许，被告人赵某某酒后驾驶牌号为沪CTXXXX小型轿车行驶至上海市嘉定区百安路、嘉安公路口北约80米处，被民警查获。经检验，其血液中乙醇含量为1.85毫克／毫升，达到醉酒程度。赵某某到案后如实供述了犯罪事实。公诉机关认为赵某某具有如实供述的处罚情节，建议判处赵某某二个月以上三个月以下××并处罚金，可适用××。   \n",
       "\n",
       "        lawArticle  moneyPunishment  imprisonment  \n",
       "130682         133             2000             2  "
      ]
     },
     "execution_count": 227,
     "metadata": {},
     "output_type": "execute_result"
    }
   ],
   "source": [
    "matchedNotDrunkcontent.sample()[['fact', 'lawArticle', 'moneyPunishment', 'imprisonment']]"
   ]
  },
  {
   "cell_type": "code",
   "execution_count": 219,
   "metadata": {},
   "outputs": [],
   "source": [
    "matchedDrunkDriving =  allMatches[allMatches['bloodAlcoholContent']>= 20]"
   ]
  },
  {
   "cell_type": "code",
   "execution_count": 220,
   "metadata": {},
   "outputs": [
    {
     "data": {
      "text/plain": [
       "244638"
      ]
     },
     "execution_count": 220,
     "metadata": {},
     "output_type": "execute_result"
    }
   ],
   "source": [
    "len(matchedDrunkDriving)"
   ]
  },
  {
   "cell_type": "code",
   "execution_count": null,
   "metadata": {},
   "outputs": [],
   "source": []
  },
  {
   "cell_type": "markdown",
   "metadata": {},
   "source": [
    "### National - What's up with the no blood alcohol content matches cases"
   ]
  },
  {
   "cell_type": "markdown",
   "metadata": {},
   "source": [
    "National has 6175/265231 (2.3%) cases cannot match blood alcohol content\n",
    "\n",
    "(1) What types are these cases if not drunk driving?"
   ]
  },
  {
   "cell_type": "code",
   "execution_count": 236,
   "metadata": {
    "scrolled": true
   },
   "outputs": [
    {
     "data": {
      "text/html": [
       "<div>\n",
       "<style scoped>\n",
       "    .dataframe tbody tr th:only-of-type {\n",
       "        vertical-align: middle;\n",
       "    }\n",
       "\n",
       "    .dataframe tbody tr th {\n",
       "        vertical-align: top;\n",
       "    }\n",
       "\n",
       "    .dataframe thead th {\n",
       "        text-align: right;\n",
       "    }\n",
       "</style>\n",
       "<table border=\"1\" class=\"dataframe\">\n",
       "  <thead>\n",
       "    <tr style=\"text-align: right;\">\n",
       "      <th></th>\n",
       "      <th>fact</th>\n",
       "      <th>lawArticle</th>\n",
       "      <th>moneyPunishment</th>\n",
       "      <th>imprisonment</th>\n",
       "    </tr>\n",
       "  </thead>\n",
       "  <tbody>\n",
       "    <tr>\n",
       "      <th>227847</th>\n",
       "      <td>宁夏回族自治区灵武市人民检察院指控，被告人王某某无视道路交通安全，醉酒后在道路上驾驶机动车辆，其行为已触犯《中华人民共和国刑法》××××××第（二）项之规定，犯罪事实清楚，证据确实充分，应当以××追究其刑事责任。被告人王某某归案后，如实供述自己的犯罪事实，适用《中华人民共和国刑法》××××之规定，可以从轻处罚。\\r\\n适用的证据有：户籍证明；证人证言；血醇检验鉴定意见书；被告人供述等证据。</td>\n",
       "      <td>133</td>\n",
       "      <td>3000</td>\n",
       "      <td>1</td>\n",
       "    </tr>\n",
       "  </tbody>\n",
       "</table>\n",
       "</div>"
      ],
      "text/plain": [
       "                                                                                                                                                                                                        fact  \\\n",
       "227847  宁夏回族自治区灵武市人民检察院指控，被告人王某某无视道路交通安全，醉酒后在道路上驾驶机动车辆，其行为已触犯《中华人民共和国刑法》××××××第（二）项之规定，犯罪事实清楚，证据确实充分，应当以××追究其刑事责任。被告人王某某归案后，如实供述自己的犯罪事实，适用《中华人民共和国刑法》××××之规定，可以从轻处罚。\\r\\n适用的证据有：户籍证明；证人证言；血醇检验鉴定意见书；被告人供述等证据。   \n",
       "\n",
       "        lawArticle  moneyPunishment  imprisonment  \n",
       "227847         133             3000             1  "
      ]
     },
     "execution_count": 236,
     "metadata": {},
     "output_type": "execute_result"
    }
   ],
   "source": [
    "noMatch.sample()[['fact', 'lawArticle', 'moneyPunishment', 'imprisonment']]"
   ]
  },
  {
   "cell_type": "code",
   "execution_count": null,
   "metadata": {},
   "outputs": [],
   "source": []
  },
  {
   "cell_type": "markdown",
   "metadata": {},
   "source": [
    "### Xinjiang"
   ]
  },
  {
   "cell_type": "code",
   "execution_count": 242,
   "metadata": {},
   "outputs": [],
   "source": [
    "xinjiangResults, XJnote, XJnoMatchCount, XJmultipleMatchesCount, XJparseNumErrorCount, XJfirstHalfMatchCount = baDis.extractAlcoholNumber(xinjiang)\n"
   ]
  },
  {
   "cell_type": "code",
   "execution_count": 243,
   "metadata": {},
   "outputs": [
    {
     "name": "stdout",
     "output_type": "stream",
     "text": [
      "len xinjiangResults: 2703\n",
      "Xinjiang noMatchCount: 33\n",
      "Xinjiang multipleMatchesCount: 140\n",
      "Xinjiang parseNumErrorCount: 4\n",
      "Xinjiang firstHalfMatchCount: 845\n",
      "total Xinjiang DD rows: 2703\n"
     ]
    }
   ],
   "source": [
    "print('len xinjiangResults: {}'.format(len(xinjiangResults)))\n",
    "print('Xinjiang noMatchCount: {}'.format(XJnoMatchCount))\n",
    "print('Xinjiang multipleMatchesCount: {}'.format(XJmultipleMatchesCount))\n",
    "print('Xinjiang parseNumErrorCount: {}'.format(XJparseNumErrorCount))\n",
    "print('Xinjiang firstHalfMatchCount: {}'.format(XJfirstHalfMatchCount))\n",
    "\n",
    "print('total Xinjiang DD rows: {}'.format(len(xinjiang))) \n"
   ]
  },
  {
   "cell_type": "code",
   "execution_count": 245,
   "metadata": {},
   "outputs": [],
   "source": [
    "xinjiang['bloodAlcoholContent'] = xinjiangResults\n",
    "xinjiang['baNotes'] = XJnote"
   ]
  },
  {
   "cell_type": "code",
   "execution_count": 264,
   "metadata": {},
   "outputs": [],
   "source": [
    "# xinjiang.to_csv('./dataframes/dangerousDriving/xinjiangDDWithBAcontent.csv', index=False)"
   ]
  },
  {
   "cell_type": "code",
   "execution_count": 246,
   "metadata": {},
   "outputs": [],
   "source": [
    "XJallMatches = xinjiang[~xinjiang.baNotes.eq('parseError') & ~xinjiang.baNotes.eq('noMatch')]\n"
   ]
  },
  {
   "cell_type": "code",
   "execution_count": 247,
   "metadata": {},
   "outputs": [
    {
     "data": {
      "text/plain": [
       "2666"
      ]
     },
     "execution_count": 247,
     "metadata": {},
     "output_type": "execute_result"
    }
   ],
   "source": [
    "len(XJallMatches) # (len(XJallMatches) + parseNumErrorCount + noMatchCount) should = total Xinjiang DD rows"
   ]
  },
  {
   "cell_type": "code",
   "execution_count": 249,
   "metadata": {},
   "outputs": [],
   "source": [
    "xinjiangResults99 = util.getPercentileList(XJallMatches['bloodAlcoholContent'].tolist(), 99)\n"
   ]
  },
  {
   "cell_type": "code",
   "execution_count": 262,
   "metadata": {},
   "outputs": [
    {
     "data": {
      "text/plain": [
       "Text(0.5, 1.0, '99 Percentail Xinjiang Dangerous Driving Blood Alcohol Content Distribution ( if present)')"
      ]
     },
     "execution_count": 262,
     "metadata": {},
     "output_type": "execute_result"
    },
    {
     "data": {
      "image/png": "[encoded data removed]",
      "text/plain": [
       "<Figure size 432x288 with 1 Axes>"
      ]
     },
     "metadata": {
      "needs_background": "light"
     },
     "output_type": "display_data"
    }
   ],
   "source": [
    "sns.distplot(xinjiangResults99)\n",
    "plt.title('99 Percentail Xinjiang Dangerous Driving Blood Alcohol Content Distribution ( if present)')\n"
   ]
  },
  {
   "cell_type": "code",
   "execution_count": 251,
   "metadata": {},
   "outputs": [],
   "source": [
    "XJmatchedNotDrunkcontent = XJallMatches[XJallMatches['bloodAlcoholContent']< 20]\n",
    "XJmatchedDrunkDriving =  XJallMatches[XJallMatches['bloodAlcoholContent']>= 20]"
   ]
  },
  {
   "cell_type": "code",
   "execution_count": 252,
   "metadata": {},
   "outputs": [
    {
     "name": "stdout",
     "output_type": "stream",
     "text": [
      "len XJ not drunk driving: 1\n",
      "len XJ drunk driving: 2665\n"
     ]
    }
   ],
   "source": [
    "print('len XJ not drunk driving: {}'.format(len(XJmatchedNotDrunkcontent)))\n",
    "print('len XJ drunk driving: {}'.format(len(XJmatchedDrunkDriving)))"
   ]
  },
  {
   "cell_type": "code",
   "execution_count": 254,
   "metadata": {},
   "outputs": [
    {
     "data": {
      "text/html": [
       "<div>\n",
       "<style scoped>\n",
       "    .dataframe tbody tr th:only-of-type {\n",
       "        vertical-align: middle;\n",
       "    }\n",
       "\n",
       "    .dataframe tbody tr th {\n",
       "        vertical-align: top;\n",
       "    }\n",
       "\n",
       "    .dataframe thead th {\n",
       "        text-align: right;\n",
       "    }\n",
       "</style>\n",
       "<table border=\"1\" class=\"dataframe\">\n",
       "  <thead>\n",
       "    <tr style=\"text-align: right;\">\n",
       "      <th></th>\n",
       "      <th>fact</th>\n",
       "      <th>lawArticle</th>\n",
       "      <th>moneyPunishment</th>\n",
       "      <th>imprisonment</th>\n",
       "    </tr>\n",
       "  </thead>\n",
       "  <tbody>\n",
       "    <tr>\n",
       "      <th>2295</th>\n",
       "      <td>公诉机关指控，2017年5月9日8时40分许，被告人郝某酒后驾驶无牌号两轮摩托车，沿省道318线由北向南行驶至福海县工大桥路段时，被福海县公安局人民广场便民警务站执勤民警查获。经阿勒泰市公安局物证鉴定室（阿）公（酒精）鉴（法医）字[2017]F44号血液酒精检验鉴定报告，被告人郝某血液酒精检测结果为l00mg／l00ml。属醉酒驾车。</td>\n",
       "      <td>133</td>\n",
       "      <td>0</td>\n",
       "      <td>2</td>\n",
       "    </tr>\n",
       "  </tbody>\n",
       "</table>\n",
       "</div>"
      ],
      "text/plain": [
       "                                                                                                                                                                          fact  \\\n",
       "2295  公诉机关指控，2017年5月9日8时40分许，被告人郝某酒后驾驶无牌号两轮摩托车，沿省道318线由北向南行驶至福海县工大桥路段时，被福海县公安局人民广场便民警务站执勤民警查获。经阿勒泰市公安局物证鉴定室（阿）公（酒精）鉴（法医）字[2017]F44号血液酒精检验鉴定报告，被告人郝某血液酒精检测结果为l00mg／l00ml。属醉酒驾车。   \n",
       "\n",
       "      lawArticle  moneyPunishment  imprisonment  \n",
       "2295         133                0             2  "
      ]
     },
     "execution_count": 254,
     "metadata": {},
     "output_type": "execute_result"
    }
   ],
   "source": [
    "XJmatchedNotDrunkcontent.sample()[['fact', 'lawArticle', 'moneyPunishment', 'imprisonment']]"
   ]
  },
  {
   "cell_type": "code",
   "execution_count": null,
   "metadata": {},
   "outputs": [],
   "source": []
  },
  {
   "cell_type": "markdown",
   "metadata": {},
   "source": [
    "### Xinjiang - What's up with the no blood alcohol content matches cases"
   ]
  },
  {
   "cell_type": "markdown",
   "metadata": {},
   "source": [
    "Xinjiang has 33/2703 (1.2%) cases cannot match blood alcohol content\n",
    "\n",
    "(1) What types are these cases if not drunk driving?"
   ]
  },
  {
   "cell_type": "code",
   "execution_count": 258,
   "metadata": {},
   "outputs": [],
   "source": [
    "XJnoMatch = xinjiang[xinjiang[\"baNotes\"]=='noMatch']"
   ]
  },
  {
   "cell_type": "code",
   "execution_count": 259,
   "metadata": {},
   "outputs": [
    {
     "data": {
      "text/html": [
       "<div>\n",
       "<style scoped>\n",
       "    .dataframe tbody tr th:only-of-type {\n",
       "        vertical-align: middle;\n",
       "    }\n",
       "\n",
       "    .dataframe tbody tr th {\n",
       "        vertical-align: top;\n",
       "    }\n",
       "\n",
       "    .dataframe thead th {\n",
       "        text-align: right;\n",
       "    }\n",
       "</style>\n",
       "<table border=\"1\" class=\"dataframe\">\n",
       "  <thead>\n",
       "    <tr style=\"text-align: right;\">\n",
       "      <th></th>\n",
       "      <th>fact</th>\n",
       "      <th>lawArticle</th>\n",
       "      <th>moneyPunishment</th>\n",
       "      <th>imprisonment</th>\n",
       "    </tr>\n",
       "  </thead>\n",
       "  <tbody>\n",
       "    <tr>\n",
       "      <th>0</th>\n",
       "      <td>公诉机关起诉指控：\\r\\n被告单位宁波保税区鲁塑贸易有限公司在被告人鲁某甲授意及实施下，在无实际货物交易的情况下，以支付票面价税合计金额5%-5.5%作为开票费，从新疆天一化轻有限责任公司、乌鲁木齐鼎鑫祥泰商贸有限公司、乌鲁木齐市聚源丰商贸有限公司、新疆汇巨能石油化工有限公司、乌鲁木齐长景伟业工贸有限公司、克拉玛依市独山子区方汇商贸有限公司、乌鲁木齐福顺骏达石油化工有限公司等7家企业处购得虚开的增值税专用发票共计404份，价税合计金额56116790元，其中税额8153721.63元，均已抵扣。\\r\\n被告单位宁波保税区鲁塑贸易有限公司为牟取非法利益，在被告人鲁某甲授意及实施下，在无实际货物交易的情况下，采取按票面价税合计收取6%-7%开票费的手段，向宁波科程电器制造有限公司、余姚百利达机械制造厂等11家企业虚开增值税专用发票共计51份，价税合计4451550元，税额646806.41元，其中598530.76元已抵扣。\\r\\n为证明以上事实，公诉机关向法庭提供了被告人供述、证人证言及抵扣证明等相应的证据。公诉机关认为被告单位宁波保税区鲁塑贸易有限公司及被告人鲁某甲的行为已构成虚开增值税专用发票罪，现提请本院依法予以判处。\\r\\n被告单位宁波保税区鲁塑贸易有限公司及诉讼代表人对起诉指控的罪名和犯罪事实均未表异议。</td>\n",
       "      <td>205</td>\n",
       "      <td>2000</td>\n",
       "      <td>132</td>\n",
       "    </tr>\n",
       "    <tr>\n",
       "      <th>46</th>\n",
       "      <td>公诉机关指控，2017年10月4日18时13分许，被告人常某醉酒后驾驶新A9***8（临时牌照新A7***3号）灰色英伦牌小型轿车由南向北行驶至乌鲁木齐市南湖南路西三巷路段时被执勤民警查获。经血液检测，被告人常某血液中酒精含量为218g/100ml，系醉酒驾驶。</td>\n",
       "      <td>133</td>\n",
       "      <td>8000</td>\n",
       "      <td>4</td>\n",
       "    </tr>\n",
       "    <tr>\n",
       "      <th>123</th>\n",
       "      <td>公诉机关指控：2015年1月4日，被告人马某某在吉木乃县宏欣川菜食府与朋友聚餐，聚餐时喝了约100克酒后，于当日16时20分许醉酒驾驶新Ｈ39858号小型轿车由西向东行驶至吉木乃县宏欣川菜食府门口路段处，与正在扫雪的沙某因避让问题发生冲突，至16时22分19秒后将车驶往宏欣川菜食府门口，停车后进入苏某某的超市，与沙某某、苏某某发生争执。三、四分钟后，苏某某于16时27分08秒拨打110报警电话。被吉木乃县公安局巡逻防控大队民警查获。经抽取血样，酒精含量为175.9ｍｇ／100ml。公诉机关认为，被告人马某某违反交通管理法规，醉酒驾驶机动车在道路上行驶，其行为已触犯《中华人民共和国刑法》××××的规定，应以××追究其刑事责任。</td>\n",
       "      <td>133</td>\n",
       "      <td>0</td>\n",
       "      <td>3</td>\n",
       "    </tr>\n",
       "    <tr>\n",
       "      <th>606</th>\n",
       "      <td>阿克苏市人民检察院指控，2017年6月10日14时10分许，被告人田某和朋友在阿克苏市韶山酒楼吃饭期间饮酒。次日0时11分许，田某驾驶×××号车行驶至阿克苏市红桥前路段时被执勤民警查获。经检测，被告人田某静脉血液中酒精含量为112g/100ml，属醉酒驾驶行为。</td>\n",
       "      <td>133</td>\n",
       "      <td>0</td>\n",
       "      <td>1</td>\n",
       "    </tr>\n",
       "    <tr>\n",
       "      <th>614</th>\n",
       "      <td>五家渠垦区人检察院指控，2014年8月20日23时30分许，被告人杨某某在五家渠市酒后驾驶车辆自人民南路由南向北行驶，与相对方向的三轮小货车相撞，致车上的人员受伤，车辆受损，经五家渠交通警察大队认定，被告人杨某某负此事故的主要责任。经鉴定，被告人杨某某的血液检测出乙醇，每一百毫升血液中含乙醇一百二十三毫克。公诉机关认为被告人杨某某的行为构成××，并向本院提交了相关证据，提请本院依法惩处。</td>\n",
       "      <td>133</td>\n",
       "      <td>0</td>\n",
       "      <td>2</td>\n",
       "    </tr>\n",
       "    <tr>\n",
       "      <th>702</th>\n",
       "      <td>伊宁市人民检察院指控，2016年7月7日23时01分，被告人李某忠醉酒后无驾驶资格驾驶×××号灰色大众牌小型轿车，在伊宁市新西环路由北向南行驶至天马转盘汽车之家前路段时，被民警查获。经伊犁州公安局物证鉴定所鉴定，在送检李某忠的血液中检出乙醇成分，乙醇含量为128.7g/100ml。</td>\n",
       "      <td>133</td>\n",
       "      <td>0</td>\n",
       "      <td>3</td>\n",
       "    </tr>\n",
       "    <tr>\n",
       "      <th>715</th>\n",
       "      <td>伊宁市人民检察院指控，2015年6月7日23时59分许，被告人张某醉酒后驾驶牌照号为新AXXXXX轿车行驶至伊宁市创业路交汇处路段时，在例行安全检查中被执勤民警当场查获。经鉴定，案发时，被告人张某血液中酒精含量为147.21ml／100ml，属醉酒驾车。</td>\n",
       "      <td>133</td>\n",
       "      <td>0</td>\n",
       "      <td>2</td>\n",
       "    </tr>\n",
       "    <tr>\n",
       "      <th>933</th>\n",
       "      <td>博乐市人民检察院指控，2014年5月23日22时10分许，被告人孙某醉酒驾驶新E-73228号两轮摩托车，沿博乐市文化路由南向北行驶至锦绣小区A区西门路段时，被博乐市公安局交警大队执勤民警所查获。\\r\\n针对上述指控，公诉机关当庭宣读并出示了书证、证人证言、被告人供述及辩解、鉴定意见等证据。\\r\\n公诉机关认为，被告人孙某违反交通运输管理法规，醉酒驾驶车辆，其行为触犯了我国刑律，构成××，提请本院依照《中华人民共和国刑法》××××规定追究其刑事责任。</td>\n",
       "      <td>133</td>\n",
       "      <td>0</td>\n",
       "      <td>2</td>\n",
       "    </tr>\n",
       "    <tr>\n",
       "      <th>1001</th>\n",
       "      <td>公诉机关指控：2014年11月9日，被告人刘1某和朋友在奇台县西地镇一度假村内吃饭期间饮酒。当时23时左右，被告人刘1某驾驶×××号小型轿车由西向东行驶至东地村十字路口附近时，与由东向西行驶的周某驾驶的×××号小型客车相撞，造成两车受损的交通事故。后刘1某驾车逃离现场又将车驶入路基，被周某等人抓住。经奇台县公安局交通警察大队认定，被告人刘1某负事故的全部责任。\\r\\n被告人刘1某归案后能如实供述自己的犯罪事实。\\r\\n公诉机关认为：被告人刘1某醉酒后驾驶机动车上道路行驶发生交通事故，并负事故全部责任，其行已触犯《中华人民共和国刑法》××××××第（二）项的规定，犯罪事实清楚，证据确实充分，应当以××追究其刑事责任。被告人刘1某醉酒驾驶机动车后发生交通事故，且负事故全部责任，并在造成交通事故后逃逸，尚未构成其他犯罪，应从重处罚；被告人刘1某无驾驶资格驾驶机动车，应从重处罚；被告人刘1某归案后能够如实供述自己的罪行，属坦白，可以从轻处罚。建议判处被告人刘1某××至四个月，并处罚金。</td>\n",
       "      <td>133</td>\n",
       "      <td>7000</td>\n",
       "      <td>3</td>\n",
       "    </tr>\n",
       "    <tr>\n",
       "      <th>1081</th>\n",
       "      <td>阿图什市人民检察院指控，2014年4月30日19时10分，被告人李某某驾驶的新P58xxx号普通二轮摩托车，在阿图什市帕米尔东路60院由北向南驶出帕米尔路时，与在帕米尔路由东向西行驶的古某某某驾驶的无号牌轻便二轮摩托车挂撞，造成双方车辆不同程度受损的道路交通事故。公诉机关认为，被告人李某某的行为触犯了《中华人民共和国刑法》××××××的规定，构成××，提请本院依法判处。</td>\n",
       "      <td>133</td>\n",
       "      <td>2000</td>\n",
       "      <td>2</td>\n",
       "    </tr>\n",
       "    <tr>\n",
       "      <th>1119</th>\n",
       "      <td>公诉机关指控，2017年1月4日0时06分许，被告人李某酒后驾驶新A***FY号白色东风日产牌小型轿车，沿乌鲁木齐市环卫西街由西向东行驶至卧龙山庄小区路段时，被执勤民警查获。经血液检测，被告人李某血液中酒精含量为84/100ml，系醉酒驾驶。</td>\n",
       "      <td>133</td>\n",
       "      <td>0</td>\n",
       "      <td>0</td>\n",
       "    </tr>\n",
       "    <tr>\n",
       "      <th>1255</th>\n",
       "      <td>昌吉市人民检察院指控，2014年11月12日18时30分左右，被告人赵某某酒后驾驶新BP5384号普通二轮摩托车沿宁边路由东向西行驶至宁边路路口与王某某驾驶新BK2340号小型轿车相撞，致赵某某受伤，两车受损，造成一起道路交通事故。经交警部门责任认定，赵某某承担此事故的同等责任。经鉴定，赵某某每100毫升血液中含酒精159毫升，属于醉酒驾驶机动车。\\r\\n案发后，被告人赵某某将被害人受损车门修复，并取得被害人的谅解。</td>\n",
       "      <td>133</td>\n",
       "      <td>0</td>\n",
       "      <td>1</td>\n",
       "    </tr>\n",
       "    <tr>\n",
       "      <th>1259</th>\n",
       "      <td>库尔勒市人民检察院指控，2015年1月11日22时30分许，被告人兰某饮酒后驾驶新MXXX号小型普通货车至库尔勒市沙依东园艺场二十一分场自家地边因土地纠纷与艾某·阿某等人发生争执，后库尔勒市公安局沙依东派出所民警接警后前去处置时，发现兰某涉嫌酒后驾驶机动车，遂将其带回派出所并移交交警大队。经鉴定，兰某每lOOml血液中含乙醇lllmg，属醉酒驾驶。\\r\\n公诉机关当庭出示了书证、证人证言、被告人的供述、辨认笔录及照片、鉴定意见等证据。\\r\\n公诉机关认为，被告人兰某违反交通运输管理法规，在道路上醉酒驾驶机动车，其行为已触犯《中华人民共和国刑法》××××，犯罪事实清楚，证据确实充分，应当以××追究其刑事责任。根据《中华人民共和国刑事诉讼法》××之规定，提起公诉，请依法判处。</td>\n",
       "      <td>133</td>\n",
       "      <td>0</td>\n",
       "      <td>1</td>\n",
       "    </tr>\n",
       "    <tr>\n",
       "      <th>1335</th>\n",
       "      <td>公诉机关指控，2017年5月2日20时50分许，被告人王某醉酒驾驶二轮摩托车，沿西市路由南向北行驶至西市路新安建材门前路段时与摆某驾驶的小型轿车发生碰撞，造成王某受伤，两车受损的交通事故。经鉴定，被告人王某血液中检出乙醇含量为170g/100ml。该事故经呼图壁县公安局交警大队事故责任认定，被告人王某和摆某负事故的同等责任。案发后，被告人王某如实供述了犯罪事实。</td>\n",
       "      <td>133</td>\n",
       "      <td>0</td>\n",
       "      <td>3</td>\n",
       "    </tr>\n",
       "    <tr>\n",
       "      <th>1570</th>\n",
       "      <td>公诉机关指控，2014年7月9日1时40分许，被告人张某酒后驾驶新OAJ35号小型轿车，沿本市经济技术开发区（头屯河区）公路由南向北行驶至沙坪东街路口时，与马某驾驶的无号牌三轮电动车发生碰撞，造成马某及三轮电动车乘车人丁某受伤，两车损坏的交通事故。经鉴定，被告人张某血液中酒精含量为138／100ml。已达到醉酒驾车的标准。公诉机关当庭出示了被告人的供述、书证等证据认为张某的行为触犯《中华人民共和国刑法》××××的规定，构成××。提请法院依法惩处。</td>\n",
       "      <td>133</td>\n",
       "      <td>0</td>\n",
       "      <td>3</td>\n",
       "    </tr>\n",
       "    <tr>\n",
       "      <th>1608</th>\n",
       "      <td>博乐市人民检察院指控，2014年6月17日2时许，被告人周某酒后驾驶新E-13670号小型普通客车在第五师84团派出所门前路段由南向北行驶过程中，被博乐市公安局交警大队执勤民警抓获，经鉴定，被告人周某每百毫升血液中酒精含量为135毫升，达到醉酒状态。\\r\\n针对上述指控，公诉机关当庭宣读并出示了书证、证人证言、被告人供述及辩解、鉴定意见等证据。\\r\\n公诉机关认为，被告人周某在道路上醉酒驾驶机动车，其行为已触犯了我国刑律，构成××。提请本院依照《中华人民共和国刑法》××××之规定追究其刑事责任。</td>\n",
       "      <td>133</td>\n",
       "      <td>0</td>\n",
       "      <td>1</td>\n",
       "    </tr>\n",
       "    <tr>\n",
       "      <th>1646</th>\n",
       "      <td>阿勒泰市人民检察院指控，2014年11月20日18时许，被告人韩某某因与被害人谢某存在经济纠纷，遂到被害人谢某所有的石英矿工地用石头将停放在职工宿舍后的沃尔沃EC380D挖掘机的五块车窗玻璃损坏，经鉴定，被损坏物品价值共计人民币845O元；认为，被告人韩某某故意毁坏他人财物，价值人民币8450元，数额较大；其行为触犯了《中华人民共和国刑法》××之规定，应当以××追究其刑事责任。</td>\n",
       "      <td>275</td>\n",
       "      <td>0</td>\n",
       "      <td>12</td>\n",
       "    </tr>\n",
       "    <tr>\n",
       "      <th>1832</th>\n",
       "      <td>\\n经审理查明，原审法院认定上诉人（原审被告人）乔某犯××的事实正确，且有原审法院经过当庭举证、质证的证据予以证实，本院予以确认。\\n另查明，上诉人乔某于2015年1月11日向三工派出所举报本市天山区新华南路伊丽莎酒店附近有人涉嫌毒品犯罪，据其提供的线索，公安机关抓获犯罪嫌疑人如某，2015年5月14日乌鲁木齐市天山区人民法院以贩卖毒品罪判处如某××，并处罚金1000元。该事实有三工派出所出具的情况说明、询问笔录及乌鲁木齐市天山区人民法院（2015）天刑初字第404号刑事判决书予以证实。</td>\n",
       "      <td>133</td>\n",
       "      <td>5000</td>\n",
       "      <td>3</td>\n",
       "    </tr>\n",
       "    <tr>\n",
       "      <th>1855</th>\n",
       "      <td>乌苏市人民检察院指控，2015年4月30日0时40分许，被告人易某某无摩托车驾驶证醉酒驾驶新Gxxxxx号“力帆”牌两轮摩托车由北向南行驶至乌苏市文林路天山三队路段时，碰上前方停泊由马某驾驶的新42-xxxxx号“东方红”牌大中型拖拉机肇事，致使被告人易某某受伤，车辆受损。</td>\n",
       "      <td>133</td>\n",
       "      <td>6000</td>\n",
       "      <td>3</td>\n",
       "    </tr>\n",
       "    <tr>\n",
       "      <th>1866</th>\n",
       "      <td>公诉机关指控，2014年7月9日1时40分许，被告人张某酒后驾驶新OAJ35号小型轿车，沿本市经济技术开发区（头屯河区）公路由南向北行驶至沙坪东街路口时，与马某驾驶的无号牌三轮电动车发生碰撞，造成马某及三轮电动车乘车人丁某受伤，两车损坏的交通事故。经鉴定，被告人张某血液中酒精含量为138／100ml。已达到醉酒驾车的标准。公诉机关当庭出示了被告人的供述、书证等证据认为张某的行为触犯《中华人民共和国刑法》××××的规定，构成××。提请法院依法惩处。</td>\n",
       "      <td>133</td>\n",
       "      <td>0</td>\n",
       "      <td>3</td>\n",
       "    </tr>\n",
       "    <tr>\n",
       "      <th>1982</th>\n",
       "      <td>阿图什市人民检察院指控，2013年3月12日16时40分许，被告人程某某醉酒后驾驶新P11129号小型普通客车，在阿图什市文化路由北向南行驶，行驶至幸福小区大门前处时与前方同向行驶的木某某驾驶的新PT2523号小型客车相撞，造成双方车辆受损的道路交通事故。对指控上述事实，公诉机关提供了被害人陈述、被告人供述、鉴定报告、现场勘验笔录及现场平面图等。公诉机关认为，被告人程某某的行为触犯了《中华人民共和国刑法》××××××的规定，构成××，提请本院依法判处。</td>\n",
       "      <td>133</td>\n",
       "      <td>1000</td>\n",
       "      <td>3</td>\n",
       "    </tr>\n",
       "    <tr>\n",
       "      <th>2022</th>\n",
       "      <td>喀什市人民检察院指控，2014年6月3日晚上，被告人张某某和朋友在喀什市恒昌二期小区附近红柳烤肉店吃饭饮酒，期间被告人张某某喝了约100ml北京红星二锅头白酒，后其醉酒驾驶豫KBT068号本田小轿车从喀什市未来酒吧到喀什市色满路农机局家属院接朋友。2014年6月4日凌晨0：25分左右，当其行驶至喀什市老海关路口处与被害人艾某驾驶的新QP5035号车发生交通事故，设卡民警到场检查时发现被告人张某某有酒后反应，即报告110指挥中心，后122值班民警到场将被告人张某某带至喀什地区第二人民医院对其抽取了静脉血液。后经喀什市公安局（喀市）公（法）鉴（物）字［2O14］212号物证检验报告认定被告人张某某每100ml血液中酒精含量为2OOmg，为醉酒驾驶。案发后，被告人张某某与被害人艾某就交通事故达成调解协议，已处理完毕。</td>\n",
       "      <td>133</td>\n",
       "      <td>0</td>\n",
       "      <td>3</td>\n",
       "    </tr>\n",
       "    <tr>\n",
       "      <th>2043</th>\n",
       "      <td>阿图什市人民检察院指控，2013年11月12日17时40分许，马某某醉酒后驾驶无号牌二轮轻便摩托车，在阿图什市团结路由东向西行驶，行驶至团结路与幸福路交叉路口处逆向行驶时，与在团结路由西向东行驶的祖某某驾驶的无号牌二轮摩托车相撞，造成双方车辆受损的道路交通事故。上述事实，有公诉机关提供的被害人陈述、被告人供述、鉴定报告、现场勘验笔录及现场平面图等在案佐证。公诉机关认为，被告人马某某的行为触犯了《中华人民共和国刑法》××××××的规定，构成××，提请本院依法判处。\\r\\n在法庭审理过程中，马某某对公诉机关指控的犯罪事实没有异议。</td>\n",
       "      <td>133</td>\n",
       "      <td>1000</td>\n",
       "      <td>3</td>\n",
       "    </tr>\n",
       "    <tr>\n",
       "      <th>2057</th>\n",
       "      <td>阿图什市人民检察院指控，2013年2月25日18时30分许，被告人张某醉酒后驾驶新P41629普通二轮摩托车在阿图什市文化路由北向南行驶，行驶至事故地点处时与前方同向行驶左转弯的克某某驾驶的无号牌二轮电动机动车相撞，造成克某某受伤，双方车辆轻微损坏的道路交通事故。对指控上述事实，公诉机关提供了被告人的供述、被害人询问笔录、现场勘验笔录及现场照片、现场图、鉴定报告书等。公诉机关认为，被告人张某的行为触犯了《中华人民共和国刑法》××××××之规定，构成××，提请本院依法判处。</td>\n",
       "      <td>133</td>\n",
       "      <td>1000</td>\n",
       "      <td>2</td>\n",
       "    </tr>\n",
       "    <tr>\n",
       "      <th>2155</th>\n",
       "      <td>公诉机关指控，2017年1月19日0时40分许，被告人阎某某酒后驾驶新****YM号白色雪佛兰牌小型轿车，行驶至乌鲁木齐市红山路河滩路路口时，被执勤民警查获。经血液检测，被告人阎某某血液中酒精含量为89/100ml，系醉酒驾驶。</td>\n",
       "      <td>133</td>\n",
       "      <td>0</td>\n",
       "      <td>0</td>\n",
       "    </tr>\n",
       "    <tr>\n",
       "      <th>2205</th>\n",
       "      <td>上述事实，被告人徐某在法庭审理过程中亦无异议，并有受案登记表、抓获经过、证人证言、被告人供述、血样提取登记表、哈密市公安局刑事科学技术研究所理化检验鉴定报告、驾驶人信息查询结果单、常住人口基本信息等证据予以证实，足以认定。</td>\n",
       "      <td>133</td>\n",
       "      <td>2000</td>\n",
       "      <td>1</td>\n",
       "    </tr>\n",
       "    <tr>\n",
       "      <th>2208</th>\n",
       "      <td>阿图什市人民检察院指控，2015年3月3日23时，被告人柏某某醉酒无驾驶证驾驶新P79756号普通二轮摩托车，后在光明路电视台卡点被执勤民警查获。对指控上述事实，公诉机关当庭宣读，书证、被告人供述与辩解、克州公安局物证鉴定所（克）公（理）鉴（毒）字（2015）084号鉴定书等证据。据此认为被告人柏某某醉酒、无证驾驶机动车的行为触犯了《中华人民共和国刑法》××××的规定，构成××，提请本院依法判处。</td>\n",
       "      <td>133</td>\n",
       "      <td>2000</td>\n",
       "      <td>1</td>\n",
       "    </tr>\n",
       "    <tr>\n",
       "      <th>2256</th>\n",
       "      <td>库尔勒市人民检察院指控，2016年8月13日21时许，被告人朱某酒后驾驶×××号机动车，沿库尔勒市友好路由南向北行驶至新城南路丁字路口处时，与初某驾驶×××号车（20路公交车）相撞，造成两车损坏的交通事故，且负事故全部责任。案发后，民事部分已赔偿完毕并取得谅解。\\r\\n公诉机关当庭出示了书证、证人证言、被害人陈述、被告人供述、鉴定意见等证据。\\r\\n公诉机关认为，被告人朱某违反道路交通安全管理法规，在道路上醉酒驾驶机动车，其行为触犯了《中华人民共和国刑法》××××规定，犯罪事实清楚，证据确实、充分，应当以危险驾驶追究其刑事责任。\\r\\n公诉机关当庭发表意见，因其具有以下量刑情节：1．发生交通事故且负事故全部责任，应当从重处罚；2．民事赔偿完毕并取得谅解，可以酌定从轻处罚；3．自愿认罪且同意适用简易程序审理，可以酌定从轻处罚。建议判处被告人朱某二个月以下××，并处罚金。</td>\n",
       "      <td>133</td>\n",
       "      <td>0</td>\n",
       "      <td>1</td>\n",
       "    </tr>\n",
       "    <tr>\n",
       "      <th>2280</th>\n",
       "      <td>经审理查明：2016年9月1日，被告人王1某与新源县那拉提公交服务有限责任公司签订了车辆承包经营合同，承包该公司×××号江淮8座小型普通客车。营运线路为新源县那拉提镇至那拉提茵塔勒村。2017年3月24日19时53分许，被告人王1某驾驶×××号车载客从那拉提镇驶往该镇茵塔勒村，途中交警临时检查。经现场检查，该小型客车核载乘客8人，实际载有乘客16人，已严重超过额定乘客9人。\\r\\n上述事实，被告人王1某在开庭审理过程中亦无异议，表示认罪，请求从轻处罚，且有受案登记表、立案决定书、承包经营合同、道路运输证、车辆信息、常住人口查询证明、现场勘查笔录及图片、被告人供述等证据证实，足以认定。</td>\n",
       "      <td>133</td>\n",
       "      <td>0</td>\n",
       "      <td>3</td>\n",
       "    </tr>\n",
       "    <tr>\n",
       "      <th>2339</th>\n",
       "      <td>乌苏市人民检察院指控，2016年4月12日21时许，被告人李某酒后驾驶无号牌\"豪爵\"牌摩托车由西向东行驶至乌苏市石桥乡路段时，碰撞由王某停驶在路边的新D06XXX号\"东风\"牌重型货车，致李某受伤，车辆受损。经乌苏市公安局鉴定：李某损伤程度为重伤二级。</td>\n",
       "      <td>133</td>\n",
       "      <td>10000</td>\n",
       "      <td>5</td>\n",
       "    </tr>\n",
       "    <tr>\n",
       "      <th>2414</th>\n",
       "      <td>公诉机关指控，2016年12月22日11时19分，被告人金某驾驶新GH0957号小型客车（公路客运车），行驶至塔城市S221线光明二队路段，行驶速度为80km/h，限速40km/h，因新GH0957号小型客车超速100%，被交通技术监控设备记录信息。\\r\\n公诉机关认为，被告人金某驾驶公路客运机动车在高速公路、城市快速路以外的道路上超过该路段规定时速的100%。且行驶速度达到了80km/h，属于严重超速，其行为触犯了《中华人民共和国刑法》××××规定，犯罪事实清楚，证据确实、充分，应当以××追究其刑事责任。建议对被告人金某判处××，并处罚金。</td>\n",
       "      <td>133</td>\n",
       "      <td>0</td>\n",
       "      <td>0</td>\n",
       "    </tr>\n",
       "    <tr>\n",
       "      <th>2455</th>\n",
       "      <td>公诉机关指控，2017年10月10日凌晨02时41分许，被告人王某酒后驾驶翼J8***M号灰色福克斯牌小型轿车，行驶至乌鲁木齐市大河洗浴中心路口时被执勤民警查获。经血液检测，被告人王某血液中酒精含量为98ml/100ml，</td>\n",
       "      <td>133</td>\n",
       "      <td>2000</td>\n",
       "      <td>1</td>\n",
       "    </tr>\n",
       "    <tr>\n",
       "      <th>2623</th>\n",
       "      <td>公诉机关指控，2016年12月5日17时20分许，呼图壁县公安局交警大队执勤民警巡逻至呼图壁县大丰镇新丰街幼儿园路口西侧约300米处时，发现被告人杜某某驾驶车牌号为×××号大型普通客车（车辆所有人为新疆华盛运输有限责任公司，使用性质为公路客运）载客人数为53人，经核实该车辆核定载客人数为31人，实际载客人数超过额定载客人数22人。案发后，被告人杜某某如实供述了自己的犯罪事实。</td>\n",
       "      <td>133</td>\n",
       "      <td>0</td>\n",
       "      <td>3</td>\n",
       "    </tr>\n",
       "  </tbody>\n",
       "</table>\n",
       "</div>"
      ],
      "text/plain": [
       "                                                                                                                                                                                                                                                                                                                                                                                                                                                                                                                                                                                       fact  \\\n",
       "0     公诉机关起诉指控：\\r\\n被告单位宁波保税区鲁塑贸易有限公司在被告人鲁某甲授意及实施下，在无实际货物交易的情况下，以支付票面价税合计金额5%-5.5%作为开票费，从新疆天一化轻有限责任公司、乌鲁木齐鼎鑫祥泰商贸有限公司、乌鲁木齐市聚源丰商贸有限公司、新疆汇巨能石油化工有限公司、乌鲁木齐长景伟业工贸有限公司、克拉玛依市独山子区方汇商贸有限公司、乌鲁木齐福顺骏达石油化工有限公司等7家企业处购得虚开的增值税专用发票共计404份，价税合计金额56116790元，其中税额8153721.63元，均已抵扣。\\r\\n被告单位宁波保税区鲁塑贸易有限公司为牟取非法利益，在被告人鲁某甲授意及实施下，在无实际货物交易的情况下，采取按票面价税合计收取6%-7%开票费的手段，向宁波科程电器制造有限公司、余姚百利达机械制造厂等11家企业虚开增值税专用发票共计51份，价税合计4451550元，税额646806.41元，其中598530.76元已抵扣。\\r\\n为证明以上事实，公诉机关向法庭提供了被告人供述、证人证言及抵扣证明等相应的证据。公诉机关认为被告单位宁波保税区鲁塑贸易有限公司及被告人鲁某甲的行为已构成虚开增值税专用发票罪，现提请本院依法予以判处。\\r\\n被告单位宁波保税区鲁塑贸易有限公司及诉讼代表人对起诉指控的罪名和犯罪事实均未表异议。   \n",
       "46                                                                                                                                                                                                                                                                                                                                                                                                                                                      公诉机关指控，2017年10月4日18时13分许，被告人常某醉酒后驾驶新A9***8（临时牌照新A7***3号）灰色英伦牌小型轿车由南向北行驶至乌鲁木齐市南湖南路西三巷路段时被执勤民警查获。经血液检测，被告人常某血液中酒精含量为218g/100ml，系醉酒驾驶。   \n",
       "123                                                                                                                                                                                                                                                            公诉机关指控：2015年1月4日，被告人马某某在吉木乃县宏欣川菜食府与朋友聚餐，聚餐时喝了约100克酒后，于当日16时20分许醉酒驾驶新Ｈ39858号小型轿车由西向东行驶至吉木乃县宏欣川菜食府门口路段处，与正在扫雪的沙某因避让问题发生冲突，至16时22分19秒后将车驶往宏欣川菜食府门口，停车后进入苏某某的超市，与沙某某、苏某某发生争执。三、四分钟后，苏某某于16时27分08秒拨打110报警电话。被吉木乃县公安局巡逻防控大队民警查获。经抽取血样，酒精含量为175.9ｍｇ／100ml。公诉机关认为，被告人马某某违反交通管理法规，醉酒驾驶机动车在道路上行驶，其行为已触犯《中华人民共和国刑法》××××的规定，应以××追究其刑事责任。   \n",
       "606                                                                                                                                                                                                                                                                                                                                                                                                                                                     阿克苏市人民检察院指控，2017年6月10日14时10分许，被告人田某和朋友在阿克苏市韶山酒楼吃饭期间饮酒。次日0时11分许，田某驾驶×××号车行驶至阿克苏市红桥前路段时被执勤民警查获。经检测，被告人田某静脉血液中酒精含量为112g/100ml，属醉酒驾驶行为。   \n",
       "614                                                                                                                                                                                                                                                                                                                                                                                     五家渠垦区人检察院指控，2014年8月20日23时30分许，被告人杨某某在五家渠市酒后驾驶车辆自人民南路由南向北行驶，与相对方向的三轮小货车相撞，致车上的人员受伤，车辆受损，经五家渠交通警察大队认定，被告人杨某某负此事故的主要责任。经鉴定，被告人杨某某的血液检测出乙醇，每一百毫升血液中含乙醇一百二十三毫克。公诉机关认为被告人杨某某的行为构成××，并向本院提交了相关证据，提请本院依法惩处。   \n",
       "702                                                                                                                                                                                                                                                                                                                                                                                                                                           伊宁市人民检察院指控，2016年7月7日23时01分，被告人李某忠醉酒后无驾驶资格驾驶×××号灰色大众牌小型轿车，在伊宁市新西环路由北向南行驶至天马转盘汽车之家前路段时，被民警查获。经伊犁州公安局物证鉴定所鉴定，在送检李某忠的血液中检出乙醇成分，乙醇含量为128.7g/100ml。   \n",
       "715                                                                                                                                                                                                                                                                                                                                                                                                                                                         伊宁市人民检察院指控，2015年6月7日23时59分许，被告人张某醉酒后驾驶牌照号为新AXXXXX轿车行驶至伊宁市创业路交汇处路段时，在例行安全检查中被执勤民警当场查获。经鉴定，案发时，被告人张某血液中酒精含量为147.21ml／100ml，属醉酒驾车。   \n",
       "933                                                                                                                                                                                                                                                                                                                                                     博乐市人民检察院指控，2014年5月23日22时10分许，被告人孙某醉酒驾驶新E-73228号两轮摩托车，沿博乐市文化路由南向北行驶至锦绣小区A区西门路段时，被博乐市公安局交警大队执勤民警所查获。\\r\\n针对上述指控，公诉机关当庭宣读并出示了书证、证人证言、被告人供述及辩解、鉴定意见等证据。\\r\\n公诉机关认为，被告人孙某违反交通运输管理法规，醉酒驾驶车辆，其行为触犯了我国刑律，构成××，提请本院依照《中华人民共和国刑法》××××规定追究其刑事责任。   \n",
       "1001                                                                                                                          公诉机关指控：2014年11月9日，被告人刘1某和朋友在奇台县西地镇一度假村内吃饭期间饮酒。当时23时左右，被告人刘1某驾驶×××号小型轿车由西向东行驶至东地村十字路口附近时，与由东向西行驶的周某驾驶的×××号小型客车相撞，造成两车受损的交通事故。后刘1某驾车逃离现场又将车驶入路基，被周某等人抓住。经奇台县公安局交通警察大队认定，被告人刘1某负事故的全部责任。\\r\\n被告人刘1某归案后能如实供述自己的犯罪事实。\\r\\n公诉机关认为：被告人刘1某醉酒后驾驶机动车上道路行驶发生交通事故，并负事故全部责任，其行已触犯《中华人民共和国刑法》××××××第（二）项的规定，犯罪事实清楚，证据确实充分，应当以××追究其刑事责任。被告人刘1某醉酒驾驶机动车后发生交通事故，且负事故全部责任，并在造成交通事故后逃逸，尚未构成其他犯罪，应从重处罚；被告人刘1某无驾驶资格驾驶机动车，应从重处罚；被告人刘1某归案后能够如实供述自己的罪行，属坦白，可以从轻处罚。建议判处被告人刘1某××至四个月，并处罚金。   \n",
       "1081                                                                                                                                                                                                                                                                                                                                                                                             阿图什市人民检察院指控，2014年4月30日19时10分，被告人李某某驾驶的新P58xxx号普通二轮摩托车，在阿图什市帕米尔东路60院由北向南驶出帕米尔路时，与在帕米尔路由东向西行驶的古某某某驾驶的无号牌轻便二轮摩托车挂撞，造成双方车辆不同程度受损的道路交通事故。公诉机关认为，被告人李某某的行为触犯了《中华人民共和国刑法》××××××的规定，构成××，提请本院依法判处。   \n",
       "1119                                                                                                                                                                                                                                                                                                                                                                                                                                                              公诉机关指控，2017年1月4日0时06分许，被告人李某酒后驾驶新A***FY号白色东风日产牌小型轿车，沿乌鲁木齐市环卫西街由西向东行驶至卧龙山庄小区路段时，被执勤民警查获。经血液检测，被告人李某血液中酒精含量为84/100ml，系醉酒驾驶。   \n",
       "1255                                                                                                                                                                                                                                                                                                                                                                     昌吉市人民检察院指控，2014年11月12日18时30分左右，被告人赵某某酒后驾驶新BP5384号普通二轮摩托车沿宁边路由东向西行驶至宁边路路口与王某某驾驶新BK2340号小型轿车相撞，致赵某某受伤，两车受损，造成一起道路交通事故。经交警部门责任认定，赵某某承担此事故的同等责任。经鉴定，赵某某每100毫升血液中含酒精159毫升，属于醉酒驾驶机动车。\\r\\n案发后，被告人赵某某将被害人受损车门修复，并取得被害人的谅解。   \n",
       "1259                                                                                                                                                                                                                                   库尔勒市人民检察院指控，2015年1月11日22时30分许，被告人兰某饮酒后驾驶新MXXX号小型普通货车至库尔勒市沙依东园艺场二十一分场自家地边因土地纠纷与艾某·阿某等人发生争执，后库尔勒市公安局沙依东派出所民警接警后前去处置时，发现兰某涉嫌酒后驾驶机动车，遂将其带回派出所并移交交警大队。经鉴定，兰某每lOOml血液中含乙醇lllmg，属醉酒驾驶。\\r\\n公诉机关当庭出示了书证、证人证言、被告人的供述、辨认笔录及照片、鉴定意见等证据。\\r\\n公诉机关认为，被告人兰某违反交通运输管理法规，在道路上醉酒驾驶机动车，其行为已触犯《中华人民共和国刑法》××××，犯罪事实清楚，证据确实充分，应当以××追究其刑事责任。根据《中华人民共和国刑事诉讼法》××之规定，提起公诉，请依法判处。   \n",
       "1335                                                                                                                                                                                                                                                                                                                                                                                                 公诉机关指控，2017年5月2日20时50分许，被告人王某醉酒驾驶二轮摩托车，沿西市路由南向北行驶至西市路新安建材门前路段时与摆某驾驶的小型轿车发生碰撞，造成王某受伤，两车受损的交通事故。经鉴定，被告人王某血液中检出乙醇含量为170g/100ml。该事故经呼图壁县公安局交警大队事故责任认定，被告人王某和摆某负事故的同等责任。案发后，被告人王某如实供述了犯罪事实。   \n",
       "1570                                                                                                                                                                                                                                                                                                                                                      公诉机关指控，2014年7月9日1时40分许，被告人张某酒后驾驶新OAJ35号小型轿车，沿本市经济技术开发区（头屯河区）公路由南向北行驶至沙坪东街路口时，与马某驾驶的无号牌三轮电动车发生碰撞，造成马某及三轮电动车乘车人丁某受伤，两车损坏的交通事故。经鉴定，被告人张某血液中酒精含量为138／100ml。已达到醉酒驾车的标准。公诉机关当庭出示了被告人的供述、书证等证据认为张某的行为触犯《中华人民共和国刑法》××××的规定，构成××。提请法院依法惩处。   \n",
       "1608                                                                                                                                                                                                                                                                                                                             博乐市人民检察院指控，2014年6月17日2时许，被告人周某酒后驾驶新E-13670号小型普通客车在第五师84团派出所门前路段由南向北行驶过程中，被博乐市公安局交警大队执勤民警抓获，经鉴定，被告人周某每百毫升血液中酒精含量为135毫升，达到醉酒状态。\\r\\n针对上述指控，公诉机关当庭宣读并出示了书证、证人证言、被告人供述及辩解、鉴定意见等证据。\\r\\n公诉机关认为，被告人周某在道路上醉酒驾驶机动车，其行为已触犯了我国刑律，构成××。提请本院依照《中华人民共和国刑法》××××之规定追究其刑事责任。   \n",
       "1646                                                                                                                                                                                                                                                                                                                                                                                         阿勒泰市人民检察院指控，2014年11月20日18时许，被告人韩某某因与被害人谢某存在经济纠纷，遂到被害人谢某所有的石英矿工地用石头将停放在职工宿舍后的沃尔沃EC380D挖掘机的五块车窗玻璃损坏，经鉴定，被损坏物品价值共计人民币845O元；认为，被告人韩某某故意毁坏他人财物，价值人民币8450元，数额较大；其行为触犯了《中华人民共和国刑法》××之规定，应当以××追究其刑事责任。   \n",
       "1832                                                                                                                                                                                                                                                                                                                                 \\n经审理查明，原审法院认定上诉人（原审被告人）乔某犯××的事实正确，且有原审法院经过当庭举证、质证的证据予以证实，本院予以确认。\\n另查明，上诉人乔某于2015年1月11日向三工派出所举报本市天山区新华南路伊丽莎酒店附近有人涉嫌毒品犯罪，据其提供的线索，公安机关抓获犯罪嫌疑人如某，2015年5月14日乌鲁木齐市天山区人民法院以贩卖毒品罪判处如某××，并处罚金1000元。该事实有三工派出所出具的情况说明、询问笔录及乌鲁木齐市天山区人民法院（2015）天刑初字第404号刑事判决书予以证实。   \n",
       "1855                                                                                                                                                                                                                                                                                                                                                                                                                                              乌苏市人民检察院指控，2015年4月30日0时40分许，被告人易某某无摩托车驾驶证醉酒驾驶新Gxxxxx号“力帆”牌两轮摩托车由北向南行驶至乌苏市文林路天山三队路段时，碰上前方停泊由马某驾驶的新42-xxxxx号“东方红”牌大中型拖拉机肇事，致使被告人易某某受伤，车辆受损。   \n",
       "1866                                                                                                                                                                                                                                                                                                                                                      公诉机关指控，2014年7月9日1时40分许，被告人张某酒后驾驶新OAJ35号小型轿车，沿本市经济技术开发区（头屯河区）公路由南向北行驶至沙坪东街路口时，与马某驾驶的无号牌三轮电动车发生碰撞，造成马某及三轮电动车乘车人丁某受伤，两车损坏的交通事故。经鉴定，被告人张某血液中酒精含量为138／100ml。已达到醉酒驾车的标准。公诉机关当庭出示了被告人的供述、书证等证据认为张某的行为触犯《中华人民共和国刑法》××××的规定，构成××。提请法院依法惩处。   \n",
       "1982                                                                                                                                                                                                                                                                                                                                                   阿图什市人民检察院指控，2013年3月12日16时40分许，被告人程某某醉酒后驾驶新P11129号小型普通客车，在阿图什市文化路由北向南行驶，行驶至幸福小区大门前处时与前方同向行驶的木某某驾驶的新PT2523号小型客车相撞，造成双方车辆受损的道路交通事故。对指控上述事实，公诉机关提供了被害人陈述、被告人供述、鉴定报告、现场勘验笔录及现场平面图等。公诉机关认为，被告人程某某的行为触犯了《中华人民共和国刑法》××××××的规定，构成××，提请本院依法判处。   \n",
       "2022                                                                                                                                                                                                               喀什市人民检察院指控，2014年6月3日晚上，被告人张某某和朋友在喀什市恒昌二期小区附近红柳烤肉店吃饭饮酒，期间被告人张某某喝了约100ml北京红星二锅头白酒，后其醉酒驾驶豫KBT068号本田小轿车从喀什市未来酒吧到喀什市色满路农机局家属院接朋友。2014年6月4日凌晨0：25分左右，当其行驶至喀什市老海关路口处与被害人艾某驾驶的新QP5035号车发生交通事故，设卡民警到场检查时发现被告人张某某有酒后反应，即报告110指挥中心，后122值班民警到场将被告人张某某带至喀什地区第二人民医院对其抽取了静脉血液。后经喀什市公安局（喀市）公（法）鉴（物）字［2O14］212号物证检验报告认定被告人张某某每100ml血液中酒精含量为2OOmg，为醉酒驾驶。案发后，被告人张某某与被害人艾某就交通事故达成调解协议，已处理完毕。   \n",
       "2043                                                                                                                                                                                                                                                                                                             阿图什市人民检察院指控，2013年11月12日17时40分许，马某某醉酒后驾驶无号牌二轮轻便摩托车，在阿图什市团结路由东向西行驶，行驶至团结路与幸福路交叉路口处逆向行驶时，与在团结路由西向东行驶的祖某某驾驶的无号牌二轮摩托车相撞，造成双方车辆受损的道路交通事故。上述事实，有公诉机关提供的被害人陈述、被告人供述、鉴定报告、现场勘验笔录及现场平面图等在案佐证。公诉机关认为，被告人马某某的行为触犯了《中华人民共和国刑法》××××××的规定，构成××，提请本院依法判处。\\r\\n在法庭审理过程中，马某某对公诉机关指控的犯罪事实没有异议。   \n",
       "2057                                                                                                                                                                                                                                                                                                                                         阿图什市人民检察院指控，2013年2月25日18时30分许，被告人张某醉酒后驾驶新P41629普通二轮摩托车在阿图什市文化路由北向南行驶，行驶至事故地点处时与前方同向行驶左转弯的克某某驾驶的无号牌二轮电动机动车相撞，造成克某某受伤，双方车辆轻微损坏的道路交通事故。对指控上述事实，公诉机关提供了被告人的供述、被害人询问笔录、现场勘验笔录及现场照片、现场图、鉴定报告书等。公诉机关认为，被告人张某的行为触犯了《中华人民共和国刑法》××××××之规定，构成××，提请本院依法判处。   \n",
       "2155                                                                                                                                                                                                                                                                                                                                                                                                                                                                     公诉机关指控，2017年1月19日0时40分许，被告人阎某某酒后驾驶新****YM号白色雪佛兰牌小型轿车，行驶至乌鲁木齐市红山路河滩路路口时，被执勤民警查获。经血液检测，被告人阎某某血液中酒精含量为89/100ml，系醉酒驾驶。   \n",
       "2205                                                                                                                                                                                                                                                                                                                                                                                                                                                                        上述事实，被告人徐某在法庭审理过程中亦无异议，并有受案登记表、抓获经过、证人证言、被告人供述、血样提取登记表、哈密市公安局刑事科学技术研究所理化检验鉴定报告、驾驶人信息查询结果单、常住人口基本信息等证据予以证实，足以认定。   \n",
       "2208                                                                                                                                                                                                                                                                                                                                                                               阿图什市人民检察院指控，2015年3月3日23时，被告人柏某某醉酒无驾驶证驾驶新P79756号普通二轮摩托车，后在光明路电视台卡点被执勤民警查获。对指控上述事实，公诉机关当庭宣读，书证、被告人供述与辩解、克州公安局物证鉴定所（克）公（理）鉴（毒）字（2015）084号鉴定书等证据。据此认为被告人柏某某醉酒、无证驾驶机动车的行为触犯了《中华人民共和国刑法》××××的规定，构成××，提请本院依法判处。   \n",
       "2256                                                                                                                                                                                  库尔勒市人民检察院指控，2016年8月13日21时许，被告人朱某酒后驾驶×××号机动车，沿库尔勒市友好路由南向北行驶至新城南路丁字路口处时，与初某驾驶×××号车（20路公交车）相撞，造成两车损坏的交通事故，且负事故全部责任。案发后，民事部分已赔偿完毕并取得谅解。\\r\\n公诉机关当庭出示了书证、证人证言、被害人陈述、被告人供述、鉴定意见等证据。\\r\\n公诉机关认为，被告人朱某违反道路交通安全管理法规，在道路上醉酒驾驶机动车，其行为触犯了《中华人民共和国刑法》××××规定，犯罪事实清楚，证据确实、充分，应当以危险驾驶追究其刑事责任。\\r\\n公诉机关当庭发表意见，因其具有以下量刑情节：1．发生交通事故且负事故全部责任，应当从重处罚；2．民事赔偿完毕并取得谅解，可以酌定从轻处罚；3．自愿认罪且同意适用简易程序审理，可以酌定从轻处罚。建议判处被告人朱某二个月以下××，并处罚金。   \n",
       "2280                                                                                                                                                                                                                                                                                经审理查明：2016年9月1日，被告人王1某与新源县那拉提公交服务有限责任公司签订了车辆承包经营合同，承包该公司×××号江淮8座小型普通客车。营运线路为新源县那拉提镇至那拉提茵塔勒村。2017年3月24日19时53分许，被告人王1某驾驶×××号车载客从那拉提镇驶往该镇茵塔勒村，途中交警临时检查。经现场检查，该小型客车核载乘客8人，实际载有乘客16人，已严重超过额定乘客9人。\\r\\n上述事实，被告人王1某在开庭审理过程中亦无异议，表示认罪，请求从轻处罚，且有受案登记表、立案决定书、承包经营合同、道路运输证、车辆信息、常住人口查询证明、现场勘查笔录及图片、被告人供述等证据证实，足以认定。   \n",
       "2339                                                                                                                                                                                                                                                                                                                                                                                                                                                          乌苏市人民检察院指控，2016年4月12日21时许，被告人李某酒后驾驶无号牌\"豪爵\"牌摩托车由西向东行驶至乌苏市石桥乡路段时，碰撞由王某停驶在路边的新D06XXX号\"东风\"牌重型货车，致李某受伤，车辆受损。经乌苏市公安局鉴定：李某损伤程度为重伤二级。   \n",
       "2414                                                                                                                                                                                                                                                                                                     公诉机关指控，2016年12月22日11时19分，被告人金某驾驶新GH0957号小型客车（公路客运车），行驶至塔城市S221线光明二队路段，行驶速度为80km/h，限速40km/h，因新GH0957号小型客车超速100%，被交通技术监控设备记录信息。\\r\\n公诉机关认为，被告人金某驾驶公路客运机动车在高速公路、城市快速路以外的道路上超过该路段规定时速的100%。且行驶速度达到了80km/h，属于严重超速，其行为触犯了《中华人民共和国刑法》××××规定，犯罪事实清楚，证据确实、充分，应当以××追究其刑事责任。建议对被告人金某判处××，并处罚金。   \n",
       "2455                                                                                                                                                                                                                                                                                                                                                                                                                                                                        公诉机关指控，2017年10月10日凌晨02时41分许，被告人王某酒后驾驶翼J8***M号灰色福克斯牌小型轿车，行驶至乌鲁木齐市大河洗浴中心路口时被执勤民警查获。经血液检测，被告人王某血液中酒精含量为98ml/100ml，   \n",
       "2623                                                                                                                                                                                                                                                                                                                                                                                          公诉机关指控，2016年12月5日17时20分许，呼图壁县公安局交警大队执勤民警巡逻至呼图壁县大丰镇新丰街幼儿园路口西侧约300米处时，发现被告人杜某某驾驶车牌号为×××号大型普通客车（车辆所有人为新疆华盛运输有限责任公司，使用性质为公路客运）载客人数为53人，经核实该车辆核定载客人数为31人，实际载客人数超过额定载客人数22人。案发后，被告人杜某某如实供述了自己的犯罪事实。   \n",
       "\n",
       "      lawArticle  moneyPunishment  imprisonment  \n",
       "0            205             2000           132  \n",
       "46           133             8000             4  \n",
       "123          133                0             3  \n",
       "606          133                0             1  \n",
       "614          133                0             2  \n",
       "702          133                0             3  \n",
       "715          133                0             2  \n",
       "933          133                0             2  \n",
       "1001         133             7000             3  \n",
       "1081         133             2000             2  \n",
       "1119         133                0             0  \n",
       "1255         133                0             1  \n",
       "1259         133                0             1  \n",
       "1335         133                0             3  \n",
       "1570         133                0             3  \n",
       "1608         133                0             1  \n",
       "1646         275                0            12  \n",
       "1832         133             5000             3  \n",
       "1855         133             6000             3  \n",
       "1866         133                0             3  \n",
       "1982         133             1000             3  \n",
       "2022         133                0             3  \n",
       "2043         133             1000             3  \n",
       "2057         133             1000             2  \n",
       "2155         133                0             0  \n",
       "2205         133             2000             1  \n",
       "2208         133             2000             1  \n",
       "2256         133                0             1  \n",
       "2280         133                0             3  \n",
       "2339         133            10000             5  \n",
       "2414         133                0             0  \n",
       "2455         133             2000             1  \n",
       "2623         133                0             3  "
      ]
     },
     "execution_count": 259,
     "metadata": {},
     "output_type": "execute_result"
    }
   ],
   "source": [
    "XJnoMatch[['fact', 'lawArticle', 'moneyPunishment', 'imprisonment']]"
   ]
  },
  {
   "cell_type": "code",
   "execution_count": null,
   "metadata": {},
   "outputs": [],
   "source": []
  }
 ],
 "metadata": {
  "kernelspec": {
   "display_name": "Python 3",
   "language": "python",
   "name": "python3"
  },
  "language_info": {
   "codemirror_mode": {
    "name": "ipython",
    "version": 3
   },
   "file_extension": ".py",
   "mimetype": "text/x-python",
   "name": "python",
   "nbconvert_exporter": "python",
   "pygments_lexer": "ipython3",
   "version": "3.7.6"
  }
 },
 "nbformat": 4,
 "nbformat_minor": 4
}
