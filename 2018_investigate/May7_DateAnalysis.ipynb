{
 "cells": [
  {
   "cell_type": "code",
   "execution_count": 116,
   "metadata": {},
   "outputs": [],
   "source": [
    "import pandas as pd\n",
    "import matplotlib\n",
    "import matplotlib.pyplot as plt\n",
    "import matplotlib.font_manager\n",
    "matplotlib.font_manager._rebuild()\n",
    "matplotlib.rcParams['font.family'] = ['Heiti TC']\n",
    "import seaborn as sns\n",
    "from scipy import stats\n",
    "import numpy as np\n",
    "import datetime\n",
    "import re\n",
    "import seaborn as sns\n",
    "from scipy import stats"
   ]
  },
  {
   "cell_type": "code",
   "execution_count": 2,
   "metadata": {},
   "outputs": [],
   "source": [
    "pd.set_option('display.max_colwidth', 1000)"
   ]
  },
  {
   "cell_type": "code",
   "execution_count": null,
   "metadata": {},
   "outputs": [],
   "source": []
  },
  {
   "cell_type": "code",
   "execution_count": 4,
   "metadata": {},
   "outputs": [],
   "source": [
    "dfSorted = pd.read_csv('./dataframes/firstStage_train_updatedDatetime_clean.csv') "
   ]
  },
  {
   "cell_type": "code",
   "execution_count": 5,
   "metadata": {},
   "outputs": [
    {
     "data": {
      "text/plain": [
       "Index(['fact', 'lawArticle', 'accusation', 'moneyPunishment', 'criminalName',\n",
       "       'deathPenalty', 'imprisonment', 'lifeImprisonment', 'dateTime',\n",
       "       'province_CN', 'province_EN', 'city_CN', 'city_EN', 'County_CN'],\n",
       "      dtype='object')"
      ]
     },
     "execution_count": 5,
     "metadata": {},
     "output_type": "execute_result"
    }
   ],
   "source": [
    "dfSorted.columns"
   ]
  },
  {
   "cell_type": "code",
   "execution_count": 7,
   "metadata": {},
   "outputs": [
    {
     "data": {
      "text/html": [
       "<div>\n",
       "<style scoped>\n",
       "    .dataframe tbody tr th:only-of-type {\n",
       "        vertical-align: middle;\n",
       "    }\n",
       "\n",
       "    .dataframe tbody tr th {\n",
       "        vertical-align: top;\n",
       "    }\n",
       "\n",
       "    .dataframe thead th {\n",
       "        text-align: right;\n",
       "    }\n",
       "</style>\n",
       "<table border=\"1\" class=\"dataframe\">\n",
       "  <thead>\n",
       "    <tr style=\"text-align: right;\">\n",
       "      <th></th>\n",
       "      <th>fact</th>\n",
       "      <th>dateTime</th>\n",
       "    </tr>\n",
       "  </thead>\n",
       "  <tbody>\n",
       "    <tr>\n",
       "      <th>241195</th>\n",
       "      <td>兰州市城关区人民检察院指控，1、2011年9月27日下午,被告人李某甲伙同胡某某（已判决）、何某某（已判决）、陈某（已判决）、车某某（已判决）、赵某某（另案处理）在兰州市城关区甘南路1号华某家超市门口，盗得丁某上衣口袋内白色步步高牌滑盖彩屏手机1部，实物价值人民币600元。作案后，赃物变卖，赃款挥霍。\\r\\n2、2011年10月10日17时许，被告人李某甲伙同胡某某（已判决）、何某某（已判决）、陈某（已判决）、车某某（已判决）、赵某某（另案处理）等人在兰州市城关区甘南路1号华某家超市门口，盗得仇某某上衣口袋内咖啡色联想牌TD16型手机1部，实物价值人民币200元。作案后，赃物变卖，赃款挥霍。\\r\\n3、2011年10月30日12时50分许，被告人李某甲伙同胡某某（已判决）、何某某（已判决）、陈某（已判决）、车某某（已判决）、赵某某（另案处理）等人在兰州市城关区甘南路2号东方大酒店门口，盗得马某上衣口袋内黑色苹果牌四代手机1部，实物价值人民币3738元。作案后，赃物变卖，赃款挥霍。\\r\\n4、2011年11月18日19时40分许，被告人李某甲伙同胡某某（已判决）、何某某（已判决）、陈某（已判决）、车某某（已判决）、赵某某（另案处理）等人在兰州市城关区天水路兰州大学门口北侧公交车站，盗得刘某上衣口袋内红色诺基亚牌E63型手机1部，实物价值人民币950元，作案后，赃物变卖，赃款挥霍。\\r\\n5、2011年12月1日20时许，被告人李某甲伙同胡某某（已判决）、何某某（已判决）、陈某（已判决）、车某某（已判决）、赵某某（另案处理）等人在兰州市城关区甘南路1号华某家超市门口，盗得柴某某上衣口袋内黑色三星牌i8150型手机1部，实物价值人民币2800元。作案后，赃物变卖，赃款挥霍。\\r\\n6、2011年12月5日15时30分许，被告人李某甲伙同胡某某（已判决）、何某某（已判决）、陈某（已判决）、车某某（已判决）、赵某某（另案处理）等人在兰州市城关区甘南路1号华某家超市门口，盗得卢某某上衣口袋内咖啡色诺基亚牌6300型手机1部，实物价值人民币500元。作案后，赃物变卖，赃款挥霍。\\r\\n7、2011年12月6日19时许，被告人李某甲伙同胡某某（已判决）、何某某（已判决）、陈某（已判决）、车某某（已判决）、赵某某（另案处理）等人在兰州市城关区甘南路1号华某家超市门口，盗得敬某...</td>\n",
       "      <td>2011-9-27</td>\n",
       "    </tr>\n",
       "  </tbody>\n",
       "</table>\n",
       "</div>"
      ],
      "text/plain": [
       "                                                                                                                                                                                                                                                                                                                                                                                                                                                                                                                                                                                                                                                                                                                                                                                                                                                                                                                                                                                                                                           fact  \\\n",
       "241195  兰州市城关区人民检察院指控，1、2011年9月27日下午,被告人李某甲伙同胡某某（已判决）、何某某（已判决）、陈某（已判决）、车某某（已判决）、赵某某（另案处理）在兰州市城关区甘南路1号华某家超市门口，盗得丁某上衣口袋内白色步步高牌滑盖彩屏手机1部，实物价值人民币600元。作案后，赃物变卖，赃款挥霍。\\r\\n2、2011年10月10日17时许，被告人李某甲伙同胡某某（已判决）、何某某（已判决）、陈某（已判决）、车某某（已判决）、赵某某（另案处理）等人在兰州市城关区甘南路1号华某家超市门口，盗得仇某某上衣口袋内咖啡色联想牌TD16型手机1部，实物价值人民币200元。作案后，赃物变卖，赃款挥霍。\\r\\n3、2011年10月30日12时50分许，被告人李某甲伙同胡某某（已判决）、何某某（已判决）、陈某（已判决）、车某某（已判决）、赵某某（另案处理）等人在兰州市城关区甘南路2号东方大酒店门口，盗得马某上衣口袋内黑色苹果牌四代手机1部，实物价值人民币3738元。作案后，赃物变卖，赃款挥霍。\\r\\n4、2011年11月18日19时40分许，被告人李某甲伙同胡某某（已判决）、何某某（已判决）、陈某（已判决）、车某某（已判决）、赵某某（另案处理）等人在兰州市城关区天水路兰州大学门口北侧公交车站，盗得刘某上衣口袋内红色诺基亚牌E63型手机1部，实物价值人民币950元，作案后，赃物变卖，赃款挥霍。\\r\\n5、2011年12月1日20时许，被告人李某甲伙同胡某某（已判决）、何某某（已判决）、陈某（已判决）、车某某（已判决）、赵某某（另案处理）等人在兰州市城关区甘南路1号华某家超市门口，盗得柴某某上衣口袋内黑色三星牌i8150型手机1部，实物价值人民币2800元。作案后，赃物变卖，赃款挥霍。\\r\\n6、2011年12月5日15时30分许，被告人李某甲伙同胡某某（已判决）、何某某（已判决）、陈某（已判决）、车某某（已判决）、赵某某（另案处理）等人在兰州市城关区甘南路1号华某家超市门口，盗得卢某某上衣口袋内咖啡色诺基亚牌6300型手机1部，实物价值人民币500元。作案后，赃物变卖，赃款挥霍。\\r\\n7、2011年12月6日19时许，被告人李某甲伙同胡某某（已判决）、何某某（已判决）、陈某（已判决）、车某某（已判决）、赵某某（另案处理）等人在兰州市城关区甘南路1号华某家超市门口，盗得敬某...   \n",
       "\n",
       "         dateTime  \n",
       "241195  2011-9-27  "
      ]
     },
     "execution_count": 7,
     "metadata": {},
     "output_type": "execute_result"
    }
   ],
   "source": [
    "dfSorted[['fact', 'dateTime']].sample()"
   ]
  },
  {
   "cell_type": "markdown",
   "metadata": {},
   "source": [
    "## GetDate"
   ]
  },
  {
   "cell_type": "code",
   "execution_count": 41,
   "metadata": {},
   "outputs": [],
   "source": [
    "# def parseFactTime2(factData):\n",
    "    \n",
    "#     mat = re.search(r\"(\\d{4}年(?:\\d{1,2}月){0,1}(?:\\d{1,2}日){0,1})\", factData)\n",
    "#     #print(mat.groups())\n",
    "#     # ('2016-12-12',)\n",
    "    \n",
    "#     year = '0000'\n",
    "#     month = '01'\n",
    "#     date = '01'\n",
    "    \n",
    "#     dateArray = []\n",
    "    \n",
    "#     if mat:\n",
    "#         for idx, item in enumerate(mat.groups()):\n",
    "#             dateString = item\n",
    "#             yearSplit = dateString.split('年')\n",
    "#             year = yearSplit[0]\n",
    "#             month = '01'\n",
    "#             date = '01'\n",
    "#             if yearSplit[1]:\n",
    "#                 monthSplit = yearSplit[1].split('月')\n",
    "#                 month = monthSplit[0]\n",
    "#                 if monthSplit[1]:\n",
    "#                     date = monthSplit[1].split('日')[0]\n",
    "            \n",
    "#             dateArray.append(year + '-' + month + '-' + date)\n",
    "            \n",
    "#         dates = [datetime.datetime.strptime(ts, \"%Y-%m-%d\") for ts in dateArray]\n",
    "#         dates.sort(reverse=True)\n",
    "#         dateStringSorted=[datetime.datetime.strftime(ts, \"%Y-%m-%d\") for ts in dates]\n",
    "# #         print(dateStringSorted)\n",
    "#         latestDate = dateStringSorted[0]\n",
    "#         return latestDate\n",
    "\n",
    "#     else:\n",
    "#         return 'NoDateFound'\n",
    "    \n"
   ]
  },
  {
   "cell_type": "code",
   "execution_count": 44,
   "metadata": {},
   "outputs": [],
   "source": [
    "def parseFactTime2YearOnly(factData):\n",
    "    \n",
    "    mat = re.search(r\"(\\d{4}年)\", factData)\n",
    "    \n",
    "    yearArray = []\n",
    "    \n",
    "    if mat:\n",
    "        for idx, item in enumerate(mat.groups()):\n",
    "            dateString = item\n",
    "            yearSplit = dateString.split('年')\n",
    "            year = int(yearSplit[0])\n",
    "            yearArray.append(year)\n",
    "            \n",
    "        yearArray.sort(reverse=True)\n",
    "        latestDate = str(yearArray[0])\n",
    "        return latestDate\n",
    "\n",
    "    else:\n",
    "        return 'NoDateFound'\n",
    "    \n"
   ]
  },
  {
   "cell_type": "code",
   "execution_count": 25,
   "metadata": {},
   "outputs": [],
   "source": [
    "#  timestamps = ['2011-06-2', '2011-08-05', '2011-02-04', '2010-1-14', '2010-12-13', '2010-1-12', '2010-2-11', '2010-2-07', '2010-12-02', '2011-11-30', '2010-11-26', '2010-11-23', '2010-11-22', '2010-11-16']\n"
   ]
  },
  {
   "cell_type": "code",
   "execution_count": 26,
   "metadata": {},
   "outputs": [],
   "source": [
    "# dates = [datetime.datetime.strptime(ts, \"%Y-%m-%d\") for ts in timestamps]"
   ]
  },
  {
   "cell_type": "code",
   "execution_count": 27,
   "metadata": {},
   "outputs": [],
   "source": [
    "# dates.sort(reverse=True)"
   ]
  },
  {
   "cell_type": "code",
   "execution_count": 24,
   "metadata": {},
   "outputs": [],
   "source": [
    "# dates"
   ]
  },
  {
   "cell_type": "code",
   "execution_count": 28,
   "metadata": {},
   "outputs": [],
   "source": [
    "# sorteddates = [datetime.datetime.strftime(ts, \"%Y-%m-%d\") for ts in dates]"
   ]
  },
  {
   "cell_type": "code",
   "execution_count": 23,
   "metadata": {},
   "outputs": [],
   "source": [
    "# sorteddates"
   ]
  },
  {
   "cell_type": "code",
   "execution_count": 29,
   "metadata": {},
   "outputs": [],
   "source": [
    "facts = dfSorted['fact'].tolist()"
   ]
  },
  {
   "cell_type": "code",
   "execution_count": 45,
   "metadata": {},
   "outputs": [],
   "source": [
    "factYear = []\n",
    "for fact in facts:\n",
    "#     print(fact)\n",
    "    factYear.append(parseFactTime2YearOnly(fact))"
   ]
  },
  {
   "cell_type": "code",
   "execution_count": 46,
   "metadata": {},
   "outputs": [
    {
     "data": {
      "text/plain": [
       "1328584"
      ]
     },
     "execution_count": 46,
     "metadata": {},
     "output_type": "execute_result"
    }
   ],
   "source": [
    "len(factYear)"
   ]
  },
  {
   "cell_type": "code",
   "execution_count": 47,
   "metadata": {},
   "outputs": [
    {
     "data": {
      "text/plain": [
       "1328584"
      ]
     },
     "execution_count": 47,
     "metadata": {},
     "output_type": "execute_result"
    }
   ],
   "source": [
    "len(facts)"
   ]
  },
  {
   "cell_type": "code",
   "execution_count": 48,
   "metadata": {},
   "outputs": [],
   "source": [
    "dfSorted['factLatestYear'] = factYear"
   ]
  },
  {
   "cell_type": "code",
   "execution_count": 160,
   "metadata": {},
   "outputs": [
    {
     "data": {
      "text/plain": [
       "7649"
      ]
     },
     "execution_count": 160,
     "metadata": {},
     "output_type": "execute_result"
    }
   ],
   "source": [
    "len(dfSorted[dfSorted['province_EN'] =='Xinjiang'])"
   ]
  },
  {
   "cell_type": "code",
   "execution_count": 49,
   "metadata": {},
   "outputs": [],
   "source": [
    "dfSortedHasYear = dfSorted[dfSorted['factLatestYear'] != 'NoDateFound']"
   ]
  },
  {
   "cell_type": "code",
   "execution_count": 50,
   "metadata": {},
   "outputs": [
    {
     "data": {
      "text/plain": [
       "1316068"
      ]
     },
     "execution_count": 50,
     "metadata": {},
     "output_type": "execute_result"
    }
   ],
   "source": [
    "len(dfSortedHasYear)"
   ]
  },
  {
   "cell_type": "code",
   "execution_count": 51,
   "metadata": {},
   "outputs": [],
   "source": [
    "XJCasesHasYear = dfSortedHasYear[dfSortedHasYear['province_EN'] =='Xinjiang']"
   ]
  },
  {
   "cell_type": "code",
   "execution_count": 54,
   "metadata": {},
   "outputs": [
    {
     "data": {
      "text/plain": [
       "7555"
      ]
     },
     "execution_count": 54,
     "metadata": {},
     "output_type": "execute_result"
    }
   ],
   "source": [
    "len(XJCasesHasYear)"
   ]
  },
  {
   "cell_type": "code",
   "execution_count": 115,
   "metadata": {},
   "outputs": [
    {
     "data": {
      "text/html": [
       "<div>\n",
       "<style scoped>\n",
       "    .dataframe tbody tr th:only-of-type {\n",
       "        vertical-align: middle;\n",
       "    }\n",
       "\n",
       "    .dataframe tbody tr th {\n",
       "        vertical-align: top;\n",
       "    }\n",
       "\n",
       "    .dataframe thead th {\n",
       "        text-align: right;\n",
       "    }\n",
       "</style>\n",
       "<table border=\"1\" class=\"dataframe\">\n",
       "  <thead>\n",
       "    <tr style=\"text-align: right;\">\n",
       "      <th></th>\n",
       "      <th>fact</th>\n",
       "      <th>factLatestYear</th>\n",
       "    </tr>\n",
       "  </thead>\n",
       "  <tbody>\n",
       "    <tr>\n",
       "      <th>1082421</th>\n",
       "      <td>乌鲁木齐市天山区人民检察院指控，2015年4月29日，公安机关从被告人谭某某经营的位于乌鲁木齐市天山区南门地下街先锋商城一厅34号店内，及其租赁的位于乌鲁木齐市沙依巴克区长江路江南后巷22号楼4单元201室的仓库内，查获其私自购进并准备对外销售的假冒耐某牌运动鞋1526双、假冒乔某牌运动鞋856双。经鉴定，上述物品均系假冒他人注册商标的商品，1526双假冒耐某牌运动鞋价值人民币152600元，856双假冒乔某牌运动鞋价值人民币94160元，以上合计价值人民币246760元。</td>\n",
       "      <td>2015</td>\n",
       "    </tr>\n",
       "  </tbody>\n",
       "</table>\n",
       "</div>"
      ],
      "text/plain": [
       "                                                                                                                                                                                                                                                    fact  \\\n",
       "1082421  乌鲁木齐市天山区人民检察院指控，2015年4月29日，公安机关从被告人谭某某经营的位于乌鲁木齐市天山区南门地下街先锋商城一厅34号店内，及其租赁的位于乌鲁木齐市沙依巴克区长江路江南后巷22号楼4单元201室的仓库内，查获其私自购进并准备对外销售的假冒耐某牌运动鞋1526双、假冒乔某牌运动鞋856双。经鉴定，上述物品均系假冒他人注册商标的商品，1526双假冒耐某牌运动鞋价值人民币152600元，856双假冒乔某牌运动鞋价值人民币94160元，以上合计价值人民币246760元。   \n",
       "\n",
       "        factLatestYear  \n",
       "1082421           2015  "
      ]
     },
     "execution_count": 115,
     "metadata": {},
     "output_type": "execute_result"
    }
   ],
   "source": [
    "XJCasesHasYear[['fact', 'factLatestYear']].sample()"
   ]
  },
  {
   "cell_type": "code",
   "execution_count": null,
   "metadata": {},
   "outputs": [],
   "source": []
  },
  {
   "cell_type": "code",
   "execution_count": 117,
   "metadata": {},
   "outputs": [],
   "source": [
    "XJyears = XJCasesHasYear['factLatestYear'].tolist()"
   ]
  },
  {
   "cell_type": "code",
   "execution_count": 118,
   "metadata": {},
   "outputs": [
    {
     "data": {
      "text/plain": [
       "<matplotlib.axes._subplots.AxesSubplot at 0x1a42d6cf90>"
      ]
     },
     "execution_count": 118,
     "metadata": {},
     "output_type": "execute_result"
    },
    {
     "data": {
      "image/png": "[encoded data removed]",
      "text/plain": [
       "<Figure size 432x288 with 1 Axes>"
      ]
     },
     "metadata": {
      "needs_background": "light"
     },
     "output_type": "display_data"
    }
   ],
   "source": [
    "sns.distplot(XJyears)"
   ]
  },
  {
   "cell_type": "code",
   "execution_count": null,
   "metadata": {},
   "outputs": [],
   "source": []
  },
  {
   "cell_type": "code",
   "execution_count": null,
   "metadata": {},
   "outputs": [],
   "source": []
  },
  {
   "cell_type": "markdown",
   "metadata": {},
   "source": [
    "### Counts and percentages"
   ]
  },
  {
   "cell_type": "code",
   "execution_count": 120,
   "metadata": {},
   "outputs": [],
   "source": [
    "natioanlYear = dfSortedHasYear['factLatestYear'].value_counts(sort=True, ascending=False)\n",
    "\n"
   ]
  },
  {
   "cell_type": "code",
   "execution_count": 166,
   "metadata": {},
   "outputs": [],
   "source": [
    "pd.set_option('display.max_rows', None)"
   ]
  },
  {
   "cell_type": "code",
   "execution_count": 167,
   "metadata": {},
   "outputs": [
    {
     "data": {
      "text/plain": [
       "2014    291505\n",
       "2015    290425\n",
       "2016    258243\n",
       "2013    192716\n",
       "2017    116670\n",
       "2012     70028\n",
       "2011     34826\n",
       "2010     17944\n",
       "2009     11360\n",
       "2008      8981\n",
       "2007      5871\n",
       "2006      3974\n",
       "2005      2851\n",
       "2004      2151\n",
       "2003      1679\n",
       "2002      1212\n",
       "2000       876\n",
       "2001       860\n",
       "1998       580\n",
       "1999       571\n",
       "1997       433\n",
       "1996       360\n",
       "1995       312\n",
       "1994       274\n",
       "1993       228\n",
       "1992       166\n",
       "1991       119\n",
       "1990       114\n",
       "1989        69\n",
       "1988        64\n",
       "1984        52\n",
       "1980        44\n",
       "1985        42\n",
       "1987        38\n",
       "1986        37\n",
       "1982        33\n",
       "1983        29\n",
       "2104        22\n",
       "1981        18\n",
       "1979        17\n",
       "1978        15\n",
       "2103        13\n",
       "1974        12\n",
       "1973        12\n",
       "1975        10\n",
       "2107        10\n",
       "2106         9\n",
       "2105         9\n",
       "2018         8\n",
       "1977         8\n",
       "1970         7\n",
       "1968         7\n",
       "1969         6\n",
       "3013         6\n",
       "1958         6\n",
       "1944         6\n",
       "2019         6\n",
       "1943         5\n",
       "1971         5\n",
       "1938         5\n",
       "1961         5\n",
       "2023         4\n",
       "2020         4\n",
       "1952         4\n",
       "1957         4\n",
       "1964         4\n",
       "114          4\n",
       "1933         3\n",
       "1966         3\n",
       "1949         3\n",
       "1976         3\n",
       "1947         3\n",
       "1956         3\n",
       "154          3\n",
       "1959         3\n",
       "1939         2\n",
       "1940         2\n",
       "1965         2\n",
       "1972         2\n",
       "1928         2\n",
       "1963         2\n",
       "1948         2\n",
       "1931         2\n",
       "1953         2\n",
       "1954         2\n",
       "176          2\n",
       "13           1\n",
       "177          1\n",
       "2112         1\n",
       "12           1\n",
       "1926         1\n",
       "1960         1\n",
       "2314         1\n",
       "145          1\n",
       "2026         1\n",
       "1950         1\n",
       "1930         1\n",
       "1962         1\n",
       "1013         1\n",
       "104          1\n",
       "1945         1\n",
       "116          1\n",
       "107          1\n",
       "156          1\n",
       "1934         1\n",
       "1932         1\n",
       "2041         1\n",
       "106          1\n",
       "2916         1\n",
       "2206         1\n",
       "1941         1\n",
       "1946         1\n",
       "1942         1\n",
       "1967         1\n",
       "16           1\n",
       "2021         1\n",
       "2102         1\n",
       "2025         1\n",
       "14           1\n",
       "124          1\n",
       "Name: factLatestYear, dtype: int64"
      ]
     },
     "execution_count": 167,
     "metadata": {},
     "output_type": "execute_result"
    }
   ],
   "source": [
    "natioanlYear"
   ]
  },
  {
   "cell_type": "code",
   "execution_count": 126,
   "metadata": {},
   "outputs": [],
   "source": [
    "XJYear = XJCasesHasYear['factLatestYear'].value_counts(sort=True, ascending=False)"
   ]
  },
  {
   "cell_type": "code",
   "execution_count": 143,
   "metadata": {},
   "outputs": [
    {
     "data": {
      "text/plain": [
       "2014    1979\n",
       "2015    1946\n",
       "2016    1387\n",
       "2013     941\n",
       "2017     773\n",
       "2012     230\n",
       "2011     106\n",
       "2010      58\n",
       "2008      31\n",
       "2009      29\n",
       "2005      13\n",
       "2007      12\n",
       "2006      12\n",
       "2004      10\n",
       "2003       9\n",
       "1999       3\n",
       "2000       3\n",
       "1990       2\n",
       "1985       2\n",
       "1998       2\n",
       "1997       2\n",
       "2001       1\n",
       "1996       1\n",
       "1984       1\n",
       "1995       1\n",
       "1975       1\n",
       "Name: factLatestYear, dtype: int64"
      ]
     },
     "execution_count": 143,
     "metadata": {},
     "output_type": "execute_result"
    }
   ],
   "source": [
    "XJYear"
   ]
  },
  {
   "cell_type": "code",
   "execution_count": null,
   "metadata": {},
   "outputs": [],
   "source": []
  },
  {
   "cell_type": "code",
   "execution_count": 147,
   "metadata": {},
   "outputs": [],
   "source": [
    "# sorted(XJYear.keys(), reverse=True)"
   ]
  },
  {
   "cell_type": "code",
   "execution_count": 154,
   "metadata": {},
   "outputs": [],
   "source": [
    "yearlyXJCasesPercent = {}\n",
    "for year in sorted(XJYear.keys()):\n",
    "    yearlyXJCasesPercent[year] = (XJYear[year] / natioanlYear[year])*100"
   ]
  },
  {
   "cell_type": "code",
   "execution_count": 155,
   "metadata": {},
   "outputs": [
    {
     "data": {
      "text/plain": [
       "{'1975': 10.0,\n",
       " '1984': 1.9230769230769231,\n",
       " '1985': 4.761904761904762,\n",
       " '1990': 1.7543859649122806,\n",
       " '1995': 0.3205128205128205,\n",
       " '1996': 0.2777777777777778,\n",
       " '1997': 0.4618937644341801,\n",
       " '1998': 0.3448275862068966,\n",
       " '1999': 0.5253940455341506,\n",
       " '2000': 0.3424657534246575,\n",
       " '2001': 0.11627906976744186,\n",
       " '2003': 0.5360333531864204,\n",
       " '2004': 0.46490004649000466,\n",
       " '2005': 0.45598035776920376,\n",
       " '2006': 0.3019627579265224,\n",
       " '2007': 0.2043944813490036,\n",
       " '2008': 0.3451731433025276,\n",
       " '2009': 0.25528169014084506,\n",
       " '2010': 0.32322781988408383,\n",
       " '2011': 0.30437029805317867,\n",
       " '2012': 0.3284400525504084,\n",
       " '2013': 0.48828327694638746,\n",
       " '2014': 0.6788905850671515,\n",
       " '2015': 0.6700525092536799,\n",
       " '2016': 0.5370910344133238,\n",
       " '2017': 0.6625524985000428}"
      ]
     },
     "execution_count": 155,
     "metadata": {},
     "output_type": "execute_result"
    }
   ],
   "source": [
    "yearlyXJCasesPercent"
   ]
  },
  {
   "cell_type": "code",
   "execution_count": 159,
   "metadata": {},
   "outputs": [
    {
     "data": {
      "text/plain": [
       "Text(0, 0.5, 'percent (%)')"
      ]
     },
     "execution_count": 159,
     "metadata": {},
     "output_type": "execute_result"
    },
    {
     "data": {
      "image/png": "[encoded data removed]",
      "text/plain": [
       "<Figure size 432x288 with 1 Axes>"
      ]
     },
     "metadata": {
      "needs_background": "light"
     },
     "output_type": "display_data"
    }
   ],
   "source": [
    "plt.plot(list(yearlyXJCasesPercent.keys()),list(yearlyXJCasesPercent.values()))\n",
    "plt.xticks(rotation=90)\n",
    "plt.title('Percentage of XinJiang Crimes in National Crimes Per Year')\n",
    "plt.xlabel('year')\n",
    "plt.ylabel(\"percent (%)\")\n"
   ]
  },
  {
   "cell_type": "code",
   "execution_count": null,
   "metadata": {},
   "outputs": [],
   "source": []
  },
  {
   "cell_type": "code",
   "execution_count": null,
   "metadata": {},
   "outputs": [],
   "source": []
  }
 ],
 "metadata": {
  "kernelspec": {
   "display_name": "Python 3",
   "language": "python",
   "name": "python3"
  },
  "language_info": {
   "codemirror_mode": {
    "name": "ipython",
    "version": 3
   },
   "file_extension": ".py",
   "mimetype": "text/x-python",
   "name": "python",
   "nbconvert_exporter": "python",
   "pygments_lexer": "ipython3",
   "version": "3.7.6"
  }
 },
 "nbformat": 4,
 "nbformat_minor": 4
}
