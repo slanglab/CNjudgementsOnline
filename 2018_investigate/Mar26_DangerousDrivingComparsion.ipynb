{
 "cells": [
  {
   "cell_type": "code",
   "execution_count": 1,
   "metadata": {},
   "outputs": [],
   "source": [
    "import pandas as pd\n",
    "import matplotlib\n",
    "import matplotlib.pyplot as plt\n",
    "import matplotlib.font_manager\n",
    "matplotlib.font_manager._rebuild()\n",
    "matplotlib.rcParams['font.family'] = ['Heiti TC']\n",
    "import seaborn as sns\n",
    "from scipy import stats\n",
    "import numpy as np"
   ]
  },
  {
   "cell_type": "code",
   "execution_count": 2,
   "metadata": {},
   "outputs": [],
   "source": [
    "%reload_ext autoreload\n",
    "%autoreload 3\n",
    "%aimport Scripts\n",
    "\n",
    "from Scripts.utils import util\n",
    "from Scripts.utils import cleanText\n",
    "from Scripts.dangerousDriving import bloodContentBin as baBin\n"
   ]
  },
  {
   "cell_type": "code",
   "execution_count": 3,
   "metadata": {},
   "outputs": [],
   "source": [
    "pd.set_option('display.max_colwidth', 1000)"
   ]
  },
  {
   "cell_type": "code",
   "execution_count": null,
   "metadata": {},
   "outputs": [],
   "source": []
  },
  {
   "cell_type": "markdown",
   "metadata": {},
   "source": [
    "## Load data"
   ]
  },
  {
   "cell_type": "code",
   "execution_count": 4,
   "metadata": {},
   "outputs": [],
   "source": [
    "national = pd.read_csv('./dataframes/dangerousDriving/nationalDDWithBAcontent.csv')"
   ]
  },
  {
   "cell_type": "code",
   "execution_count": 5,
   "metadata": {},
   "outputs": [],
   "source": [
    "xinjiang = pd.read_csv('./dataframes/dangerousDriving/xinjiangDDWithBAcontent.csv')"
   ]
  },
  {
   "cell_type": "code",
   "execution_count": 6,
   "metadata": {},
   "outputs": [],
   "source": [
    "NAallMatches = national[~national.baNotes.eq('parseError') & ~national.baNotes.eq('noMatch')]"
   ]
  },
  {
   "cell_type": "code",
   "execution_count": 7,
   "metadata": {},
   "outputs": [],
   "source": [
    "XJallMatches = xinjiang[~xinjiang.baNotes.eq('parseError') & ~xinjiang.baNotes.eq('noMatch')]\n"
   ]
  },
  {
   "cell_type": "code",
   "execution_count": 8,
   "metadata": {},
   "outputs": [
    {
     "data": {
      "text/plain": [
       "array(['fact', 'lawArticle', 'accusation', 'moneyPunishment',\n",
       "       'criminalName', 'deathPenalty', 'imprisonment', 'lifeImprisonment',\n",
       "       'dateTime', 'province_CN', 'province_EN', 'city_CN', 'city_EN',\n",
       "       'County_CN', 'bloodAlcoholContent', 'baNotes'], dtype=object)"
      ]
     },
     "execution_count": 8,
     "metadata": {},
     "output_type": "execute_result"
    }
   ],
   "source": [
    "NAallMatches.columns.values"
   ]
  },
  {
   "cell_type": "code",
   "execution_count": 9,
   "metadata": {},
   "outputs": [
    {
     "data": {
      "text/plain": [
       "2666"
      ]
     },
     "execution_count": 9,
     "metadata": {},
     "output_type": "execute_result"
    }
   ],
   "source": [
    "len(XJallMatches)"
   ]
  },
  {
   "cell_type": "code",
   "execution_count": 10,
   "metadata": {},
   "outputs": [],
   "source": [
    "NAbaBin, NAnumBin = baBin.getBloodContentBin(NAallMatches)"
   ]
  },
  {
   "cell_type": "code",
   "execution_count": 11,
   "metadata": {},
   "outputs": [
    {
     "name": "stderr",
     "output_type": "stream",
     "text": [
      "<ipython-input-11-c6d03448a378>:1: SettingWithCopyWarning: \n",
      "A value is trying to be set on a copy of a slice from a DataFrame.\n",
      "Try using .loc[row_indexer,col_indexer] = value instead\n",
      "\n",
      "See the caveats in the documentation: https://pandas.pydata.org/pandas-docs/stable/user_guide/indexing.html#returning-a-view-versus-a-copy\n",
      "  NAallMatches['bloodContent10mgBin'] = NAbaBin\n",
      "<ipython-input-11-c6d03448a378>:2: SettingWithCopyWarning: \n",
      "A value is trying to be set on a copy of a slice from a DataFrame.\n",
      "Try using .loc[row_indexer,col_indexer] = value instead\n",
      "\n",
      "See the caveats in the documentation: https://pandas.pydata.org/pandas-docs/stable/user_guide/indexing.html#returning-a-view-versus-a-copy\n",
      "  NAallMatches['bloodContent10mgBinNum'] = NAnumBin\n"
     ]
    }
   ],
   "source": [
    "NAallMatches['bloodContent10mgBin'] = NAbaBin\n",
    "NAallMatches['bloodContent10mgBinNum'] = NAnumBin\n"
   ]
  },
  {
   "cell_type": "code",
   "execution_count": null,
   "metadata": {},
   "outputs": [],
   "source": [
    "# NAallMatches.sample()"
   ]
  },
  {
   "cell_type": "code",
   "execution_count": null,
   "metadata": {},
   "outputs": [],
   "source": [
    "# NAallMatches.to_csv('./dataframes/dangerousDriving/nationalDDWithBAcontentBin.csv', index=False)\n",
    "\n",
    "\n"
   ]
  },
  {
   "cell_type": "code",
   "execution_count": 12,
   "metadata": {},
   "outputs": [],
   "source": [
    "XJbaBin, XJbaBinnum = baBin.getBloodContentBin(XJallMatches)"
   ]
  },
  {
   "cell_type": "code",
   "execution_count": 13,
   "metadata": {},
   "outputs": [
    {
     "name": "stderr",
     "output_type": "stream",
     "text": [
      "<ipython-input-13-afcdff3803f6>:1: SettingWithCopyWarning: \n",
      "A value is trying to be set on a copy of a slice from a DataFrame.\n",
      "Try using .loc[row_indexer,col_indexer] = value instead\n",
      "\n",
      "See the caveats in the documentation: https://pandas.pydata.org/pandas-docs/stable/user_guide/indexing.html#returning-a-view-versus-a-copy\n",
      "  XJallMatches['bloodContent10mgBin'] = XJbaBin\n",
      "<ipython-input-13-afcdff3803f6>:2: SettingWithCopyWarning: \n",
      "A value is trying to be set on a copy of a slice from a DataFrame.\n",
      "Try using .loc[row_indexer,col_indexer] = value instead\n",
      "\n",
      "See the caveats in the documentation: https://pandas.pydata.org/pandas-docs/stable/user_guide/indexing.html#returning-a-view-versus-a-copy\n",
      "  XJallMatches['bloodContent10mgBinNum'] = XJbaBinnum\n"
     ]
    }
   ],
   "source": [
    "XJallMatches['bloodContent10mgBin'] = XJbaBin\n",
    "XJallMatches['bloodContent10mgBinNum'] = XJbaBinnum"
   ]
  },
  {
   "cell_type": "code",
   "execution_count": null,
   "metadata": {},
   "outputs": [],
   "source": [
    "# XJallMatches.to_csv('./dataframes/dangerousDriving/xinjiangDDWithBAcontentBin.csv', index=False)"
   ]
  },
  {
   "cell_type": "markdown",
   "metadata": {},
   "source": [
    "## Per bin comparison"
   ]
  },
  {
   "cell_type": "code",
   "execution_count": 14,
   "metadata": {},
   "outputs": [],
   "source": [
    "NAallMatches20mg = NAallMatches[NAallMatches['bloodContent10mgBin'] == 9]"
   ]
  },
  {
   "cell_type": "code",
   "execution_count": 15,
   "metadata": {},
   "outputs": [],
   "source": [
    "NAokCases=NAallMatches[NAallMatches['imprisonment']<=6]"
   ]
  },
  {
   "cell_type": "code",
   "execution_count": 16,
   "metadata": {},
   "outputs": [],
   "source": [
    "# NAokCases.to_csv('./dataframes/dangerousDriving/NAImprisonLessThanEq6.csv', index=False)"
   ]
  },
  {
   "cell_type": "code",
   "execution_count": 17,
   "metadata": {},
   "outputs": [
    {
     "data": {
      "text/plain": [
       "257248"
      ]
     },
     "execution_count": 17,
     "metadata": {},
     "output_type": "execute_result"
    }
   ],
   "source": [
    "len(NAokCases)"
   ]
  },
  {
   "cell_type": "code",
   "execution_count": null,
   "metadata": {},
   "outputs": [],
   "source": []
  },
  {
   "cell_type": "code",
   "execution_count": null,
   "metadata": {},
   "outputs": [],
   "source": []
  },
  {
   "cell_type": "code",
   "execution_count": 18,
   "metadata": {},
   "outputs": [],
   "source": [
    "XJallMatches10mg = XJallMatches[XJallMatches['bloodContent10mgBin'] == 9]"
   ]
  },
  {
   "cell_type": "code",
   "execution_count": 19,
   "metadata": {},
   "outputs": [],
   "source": [
    "XJokCases=XJallMatches[XJallMatches['imprisonment']<=6]"
   ]
  },
  {
   "cell_type": "code",
   "execution_count": 20,
   "metadata": {},
   "outputs": [],
   "source": [
    "# XJokCases.to_csv('./dataframes/dangerousDriving/XJImprisonLessThanEq6.csv', index=False)"
   ]
  },
  {
   "cell_type": "code",
   "execution_count": 21,
   "metadata": {},
   "outputs": [
    {
     "data": {
      "text/plain": [
       "2659"
      ]
     },
     "execution_count": 21,
     "metadata": {},
     "output_type": "execute_result"
    }
   ],
   "source": [
    "len(XJokCases)"
   ]
  },
  {
   "cell_type": "markdown",
   "metadata": {},
   "source": [
    "### Similar Xinjiang Population (as of 2018/19): https://www.worldatlas.com/articles/chinese-provinces-by-population.html\n",
    "\n",
    "23\tInner Mongolia\t24,706,321\n",
    "\n",
    "24\tXinjiang\t21,813,334\n",
    "\n",
    "25\tShanghai\t23,019,148\n",
    "\n",
    "\n"
   ]
  },
  {
   "cell_type": "code",
   "execution_count": 22,
   "metadata": {},
   "outputs": [],
   "source": [
    "# NAallMatches.columns.values"
   ]
  },
  {
   "cell_type": "code",
   "execution_count": 23,
   "metadata": {},
   "outputs": [],
   "source": [
    "ShangAllMatches = NAallMatches[NAallMatches['province_EN']=='Shanghai']"
   ]
  },
  {
   "cell_type": "code",
   "execution_count": 24,
   "metadata": {},
   "outputs": [
    {
     "data": {
      "text/plain": [
       "5039"
      ]
     },
     "execution_count": 24,
     "metadata": {},
     "output_type": "execute_result"
    }
   ],
   "source": [
    "len(ShangAllMatches)"
   ]
  },
  {
   "cell_type": "code",
   "execution_count": 25,
   "metadata": {},
   "outputs": [],
   "source": [
    "SHokCases=ShangAllMatches[ShangAllMatches['imprisonment']<=6]"
   ]
  },
  {
   "cell_type": "code",
   "execution_count": 26,
   "metadata": {},
   "outputs": [
    {
     "data": {
      "text/plain": [
       "4991"
      ]
     },
     "execution_count": 26,
     "metadata": {},
     "output_type": "execute_result"
    }
   ],
   "source": [
    "len(SHokCases)"
   ]
  },
  {
   "cell_type": "code",
   "execution_count": 27,
   "metadata": {},
   "outputs": [],
   "source": [
    "# SHokCases.to_csv('./dataframes/dangerousDriving/SHImprisonLessThanEq6.csv', index=False)"
   ]
  },
  {
   "cell_type": "code",
   "execution_count": null,
   "metadata": {},
   "outputs": [],
   "source": []
  },
  {
   "cell_type": "code",
   "execution_count": 28,
   "metadata": {},
   "outputs": [],
   "source": [
    "NMAllMatches = NAallMatches[NAallMatches['province_EN']=='Neimenggu']"
   ]
  },
  {
   "cell_type": "code",
   "execution_count": 29,
   "metadata": {},
   "outputs": [
    {
     "data": {
      "text/plain": [
       "6108"
      ]
     },
     "execution_count": 29,
     "metadata": {},
     "output_type": "execute_result"
    }
   ],
   "source": [
    "len(NMAllMatches)"
   ]
  },
  {
   "cell_type": "code",
   "execution_count": 30,
   "metadata": {},
   "outputs": [],
   "source": [
    "NMokCases=NMAllMatches[NMAllMatches['imprisonment']<=6]"
   ]
  },
  {
   "cell_type": "code",
   "execution_count": 31,
   "metadata": {},
   "outputs": [
    {
     "data": {
      "text/plain": [
       "6079"
      ]
     },
     "execution_count": 31,
     "metadata": {},
     "output_type": "execute_result"
    }
   ],
   "source": [
    "len(NMokCases)"
   ]
  },
  {
   "cell_type": "code",
   "execution_count": null,
   "metadata": {},
   "outputs": [],
   "source": [
    "# NMokCases.to_csv('./dataframes/dangerousDriving/NMImprisonLessThanEq6.csv', index=False)"
   ]
  },
  {
   "cell_type": "code",
   "execution_count": null,
   "metadata": {},
   "outputs": [],
   "source": []
  },
  {
   "cell_type": "code",
   "execution_count": 32,
   "metadata": {},
   "outputs": [],
   "source": [
    "okConcat = pd.concat([XJokCases, SHokCases, NMokCases], sort=False)"
   ]
  },
  {
   "cell_type": "code",
   "execution_count": 40,
   "metadata": {},
   "outputs": [
    {
     "data": {
      "text/plain": [
       "13729"
      ]
     },
     "execution_count": 40,
     "metadata": {},
     "output_type": "execute_result"
    }
   ],
   "source": [
    "len(okConcat)"
   ]
  },
  {
   "cell_type": "markdown",
   "metadata": {},
   "source": [
    "### 1"
   ]
  },
  {
   "cell_type": "code",
   "execution_count": 36,
   "metadata": {},
   "outputs": [],
   "source": [
    "# okConcat[['imprisonment','province_EN','bloodAlcoholContent'\n",
    "#       ]].to_csv('./dataframes/dangerousDriving/DangerousDrivingR/graphData/XJSHNMprison_BAContent_num.csv', index=False)\n",
    "\n"
   ]
  },
  {
   "cell_type": "code",
   "execution_count": null,
   "metadata": {},
   "outputs": [],
   "source": [
    "# R used to plot:\n",
    "# ggplot(XJSHNMprison_BAContent, aes(bloodAlcoholContent, imprisonment, colour = province_EN)) \n",
    "# + geom_point() \n",
    "# + geom_smooth()\n",
    "# + ggtitle(\"DUI similar population\") + xlab(\"blood alcohol content (mg/ml)\") + ylab(\"imprisonment (m)\")\n"
   ]
  },
  {
   "cell_type": "markdown",
   "metadata": {},
   "source": [
    "### 2"
   ]
  },
  {
   "cell_type": "code",
   "execution_count": 43,
   "metadata": {},
   "outputs": [],
   "source": [
    "okConcatBAlt500 = okConcat[okConcat['bloodAlcoholContent']<500]"
   ]
  },
  {
   "cell_type": "code",
   "execution_count": 44,
   "metadata": {},
   "outputs": [
    {
     "data": {
      "text/plain": [
       "13715"
      ]
     },
     "execution_count": 44,
     "metadata": {},
     "output_type": "execute_result"
    }
   ],
   "source": [
    "len(okConcatBAlt500)"
   ]
  },
  {
   "cell_type": "code",
   "execution_count": 46,
   "metadata": {},
   "outputs": [],
   "source": [
    "# okConcat[['imprisonment','province_EN','bloodAlcoholContent'\n",
    "#       ]].to_csv('./dataframes/dangerousDriving/DangerousDrivingR/graphData/XJSHNMprison_BAContent_num_ls500.csv', index=False)\n",
    "\n"
   ]
  },
  {
   "cell_type": "code",
   "execution_count": null,
   "metadata": {},
   "outputs": [],
   "source": []
  },
  {
   "cell_type": "markdown",
   "metadata": {},
   "source": [
    "### 3"
   ]
  },
  {
   "cell_type": "code",
   "execution_count": null,
   "metadata": {},
   "outputs": [],
   "source": [
    "# newimp = []\n",
    "# for imp in okConcat['imprisonment'].tolist():\n",
    "#     newimp.append('{}m'.format(imp))\n",
    "# okConcat['imprisonmentM'] = newimp\n",
    "\n"
   ]
  },
  {
   "cell_type": "code",
   "execution_count": null,
   "metadata": {},
   "outputs": [],
   "source": [
    "# okConcat[['imprisonmentM','province_EN','bloodAlcoholContent'\n",
    "#       ]].to_csv('./dataframes/dangerousDriving/DangerousDrivingR/graphData/XJSHNMprison_BAContent.csv', index=False)"
   ]
  },
  {
   "cell_type": "code",
   "execution_count": null,
   "metadata": {},
   "outputs": [],
   "source": [
    "# R used to plot:\n",
    "# ggplot(data = XJSHNMprison_BAContent, aes(x=imprisonmentM, y=bloodAlcoholContent)) \n",
    "# + geom_boxplot(aes(fill=province_EN))\n",
    "# + theme_bw() \n",
    "# + ggtitle(\"DUI similar population\") + xlab(\"imprisonment (m)\") + ylab(\"blood alcohol content (mg/ml)\")\n",
    "\n"
   ]
  },
  {
   "cell_type": "code",
   "execution_count": null,
   "metadata": {},
   "outputs": [],
   "source": []
  },
  {
   "cell_type": "markdown",
   "metadata": {},
   "source": [
    "### Similar Xinjiang GDP: https://en.wikipedia.org/wiki/List_of_Chinese_administrative_divisions_by_GDP_per_capita\n",
    "\n",
    "\n",
    "Henan\t18\t50,152\t7,579\t14,287\t50,032\t7,561\t14,253\t4,805,586\t95,821\t96,050\n",
    "\n",
    "Xinjiang\t19\t49,475\t7,476\t14,095\t49,056\t7,413\t13,975\t1,219,908\t24,657\t24,868\n",
    "\n",
    "Sichuan\t20\t48,883\t7,387\t13,926\t48,769\t7,370\t13,893\t4,067,813\t83,215\t83,410"
   ]
  },
  {
   "cell_type": "code",
   "execution_count": 47,
   "metadata": {},
   "outputs": [],
   "source": [
    "HenanAllMatches = NAallMatches[NAallMatches['province_EN']=='Henan']\n",
    "HenanokCases=HenanAllMatches[HenanAllMatches['imprisonment']<=6]"
   ]
  },
  {
   "cell_type": "code",
   "execution_count": 48,
   "metadata": {},
   "outputs": [],
   "source": [
    "SichuanAllMatches = NAallMatches[NAallMatches['province_EN']=='Sichuan']\n",
    "SichuangokCases=SichuanAllMatches[SichuanAllMatches['imprisonment']<=6]"
   ]
  },
  {
   "cell_type": "code",
   "execution_count": 51,
   "metadata": {},
   "outputs": [],
   "source": [
    "okConcatGdp = pd.concat([XJokCases, SichuangokCases, HenanokCases], sort=False)"
   ]
  },
  {
   "cell_type": "markdown",
   "metadata": {},
   "source": [
    "### 1"
   ]
  },
  {
   "cell_type": "code",
   "execution_count": 52,
   "metadata": {},
   "outputs": [],
   "source": [
    "# okConcatGdp[['imprisonment','province_EN','bloodAlcoholContent'\n",
    "#       ]].to_csv('./dataframes/dangerousDriving/DangerousDrivingR/graphData/XJHNSC_GPD_prison_BAContent_num.csv', index=False)\n",
    "\n"
   ]
  },
  {
   "cell_type": "code",
   "execution_count": null,
   "metadata": {},
   "outputs": [],
   "source": [
    "# R used to plot:\n",
    "# ggplot(XJHNSC_GPD_prison_BAContent_num, aes(bloodAlcoholContent, imprisonment, colour = province_EN)) \n",
    "# + geom_point() \n",
    "# + geom_smooth()\n",
    "# + ggtitle(\"DUI similar GDP\") + xlab(\"blood alcohol content (mg/ml)\") + ylab(\"imprisonment (m)\")"
   ]
  },
  {
   "cell_type": "markdown",
   "metadata": {},
   "source": [
    "### 2"
   ]
  },
  {
   "cell_type": "code",
   "execution_count": 53,
   "metadata": {},
   "outputs": [],
   "source": [
    "okConcatGdpBAlt500 = okConcatGdp[okConcatGdp['bloodAlcoholContent']<600]"
   ]
  },
  {
   "cell_type": "code",
   "execution_count": 54,
   "metadata": {},
   "outputs": [],
   "source": [
    "# okConcatGdpBAlt500[['imprisonment','province_EN','bloodAlcoholContent'\n",
    "#       ]].to_csv('./dataframes/dangerousDriving/DangerousDrivingR/graphData/XJHNSC_GPD_prison_BAContent_num_ls600.csv', index=False)\n",
    "\n"
   ]
  },
  {
   "cell_type": "markdown",
   "metadata": {},
   "source": [
    "### 3"
   ]
  },
  {
   "cell_type": "code",
   "execution_count": null,
   "metadata": {},
   "outputs": [],
   "source": [
    "# newimp = []\n",
    "# for imp in okConcatGdp['imprisonment'].tolist():\n",
    "#     newimp.append('{}m'.format(imp))\n",
    "# okConcatGdp['imprisonmentM'] = newimp"
   ]
  },
  {
   "cell_type": "code",
   "execution_count": null,
   "metadata": {},
   "outputs": [],
   "source": [
    "# okConcatGdp[['imprisonmentM','province_EN','bloodAlcoholContent'\n",
    "#       ]].to_csv('./dataframes/dangerousDriving/DangerousDrivingR/graphData/XJHNSC_GPD_prison_BAContent.csv', index=False)\n",
    "\n",
    "\n"
   ]
  },
  {
   "cell_type": "code",
   "execution_count": null,
   "metadata": {},
   "outputs": [],
   "source": [
    "# R script used to plot:\n",
    "# ggplot(data = XJHNSC_GPD_prison_BAContent, aes(x=imprisonmentM, y=bloodAlcoholContent)) + geom_boxplot(aes(fill=province_EN)) + theme_bw() + ggtitle(\"DUI similar GDP\") + xlab(\"imprisonment (m)\") + ylab(\"blood alcohol content (mg/ml)\")\n",
    "\n"
   ]
  },
  {
   "cell_type": "code",
   "execution_count": null,
   "metadata": {},
   "outputs": [],
   "source": []
  },
  {
   "cell_type": "markdown",
   "metadata": {},
   "source": [
    "## Top and Bottom GPD per capital + XJ\n",
    "\n",
    "Top: Beijing, Shanghai, Tianjin -> 1, 2, 3\n",
    "\n",
    "Bottom: Gansu, Yunnan, Guizhou -> 31, 30, 29\n",
    "\n",
    "XJ: 19"
   ]
  },
  {
   "cell_type": "code",
   "execution_count": 55,
   "metadata": {},
   "outputs": [],
   "source": [
    "BJAllMatches = NAallMatches[NAallMatches['province_EN']=='Beijing']\n",
    "BJokCases=BJAllMatches[BJAllMatches['imprisonment']<=6]"
   ]
  },
  {
   "cell_type": "code",
   "execution_count": 56,
   "metadata": {},
   "outputs": [],
   "source": [
    "TJAllMatches = NAallMatches[NAallMatches['province_EN']=='Tianjing']\n",
    "TJokCases=TJAllMatches[TJAllMatches['imprisonment']<=6]"
   ]
  },
  {
   "cell_type": "code",
   "execution_count": 57,
   "metadata": {},
   "outputs": [],
   "source": [
    "GanSuAllMatches = NAallMatches[NAallMatches['province_EN']=='Gansu']\n",
    "GanSuokCases=GanSuAllMatches[GanSuAllMatches['imprisonment']<=6]"
   ]
  },
  {
   "cell_type": "code",
   "execution_count": 58,
   "metadata": {},
   "outputs": [],
   "source": [
    "YunnanAllMatches = NAallMatches[NAallMatches['province_EN']=='Yunnan']\n",
    "YuannanokCases=YunnanAllMatches[YunnanAllMatches['imprisonment']<=6]"
   ]
  },
  {
   "cell_type": "code",
   "execution_count": 59,
   "metadata": {},
   "outputs": [],
   "source": [
    "GuizhouAllMatches = NAallMatches[NAallMatches['province_EN']=='Guizhou']\n",
    "GuizhouokCases=GuizhouAllMatches[GuizhouAllMatches['imprisonment']<=6]"
   ]
  },
  {
   "cell_type": "code",
   "execution_count": 60,
   "metadata": {},
   "outputs": [],
   "source": [
    "GdpCompokConcatGdp = pd.concat([BJokCases, SHokCases, TJokCases,\n",
    "                                GanSuokCases,YuannanokCases,GuizhouokCases, XJokCases], sort=False)"
   ]
  },
  {
   "cell_type": "code",
   "execution_count": 61,
   "metadata": {},
   "outputs": [],
   "source": [
    "GdpCompokConcatGdp = GdpCompokConcatGdp[GdpCompokConcatGdp['bloodAlcoholContent'] < 4000]"
   ]
  },
  {
   "cell_type": "markdown",
   "metadata": {},
   "source": [
    "### 1"
   ]
  },
  {
   "cell_type": "code",
   "execution_count": 62,
   "metadata": {},
   "outputs": [],
   "source": [
    "# GdpCompokConcatGdp[['imprisonment','province_EN','bloodAlcoholContent'\n",
    "#       ]].to_csv('./dataframes/dangerousDriving/DangerousDrivingR/graphData/GPDpc_prison_BAContent_num.csv', index=False)\n",
    "\n"
   ]
  },
  {
   "cell_type": "markdown",
   "metadata": {},
   "source": [
    "### 3"
   ]
  },
  {
   "cell_type": "code",
   "execution_count": null,
   "metadata": {},
   "outputs": [],
   "source": [
    "# newimp = []\n",
    "# for imp in GdpCompokConcatGdp['imprisonment'].tolist():\n",
    "#     newimp.append('{}m'.format(imp))\n",
    "# GdpCompokConcatGdp['imprisonmentM'] = newimp"
   ]
  },
  {
   "cell_type": "code",
   "execution_count": null,
   "metadata": {},
   "outputs": [],
   "source": [
    "# GdpCompokConcatGdp[['imprisonmentM','province_EN','bloodAlcoholContent'\n",
    "#       ]].to_csv('./dataframes/dangerousDriving/DangerousDrivingR/graphData/GPDpc_prison_BAContent.csv', index=False)\n",
    "\n"
   ]
  },
  {
   "cell_type": "code",
   "execution_count": null,
   "metadata": {},
   "outputs": [],
   "source": []
  },
  {
   "cell_type": "markdown",
   "metadata": {},
   "source": [
    "## Jiangsu, Zhejiang, Shanghai"
   ]
  },
  {
   "cell_type": "code",
   "execution_count": 63,
   "metadata": {},
   "outputs": [],
   "source": [
    "JSAllMatches = NAallMatches[NAallMatches['province_EN']=='Jiangsu']\n",
    "JSokCases=JSAllMatches[JSAllMatches['imprisonment']<=6]"
   ]
  },
  {
   "cell_type": "code",
   "execution_count": 64,
   "metadata": {},
   "outputs": [],
   "source": [
    "ZJAllMatches = NAallMatches[NAallMatches['province_EN']=='Zhejiang']\n",
    "ZJokCases=ZJAllMatches[ZJAllMatches['imprisonment']<=6]"
   ]
  },
  {
   "cell_type": "code",
   "execution_count": 65,
   "metadata": {},
   "outputs": [],
   "source": [
    "JZHconcat = pd.concat([JSokCases, SHokCases, ZJokCases,XJokCases], sort=False)"
   ]
  },
  {
   "cell_type": "code",
   "execution_count": null,
   "metadata": {},
   "outputs": [],
   "source": [
    "JZHconcat = JZHconcat[JZHconcat['bloodAlcoholContent'] < 4000]"
   ]
  },
  {
   "cell_type": "markdown",
   "metadata": {},
   "source": [
    "### 1"
   ]
  },
  {
   "cell_type": "code",
   "execution_count": 66,
   "metadata": {},
   "outputs": [],
   "source": [
    "# JZHconcat[['imprisonment','province_EN','bloodAlcoholContent'\n",
    "#       ]].to_csv('./dataframes/dangerousDriving/DangerousDrivingR/graphData/JZH_num.csv', index=False)\n",
    "\n"
   ]
  },
  {
   "cell_type": "markdown",
   "metadata": {},
   "source": [
    "### 2"
   ]
  },
  {
   "cell_type": "code",
   "execution_count": 67,
   "metadata": {},
   "outputs": [],
   "source": [
    "JZHconcatls600 = JZHconcat[JZHconcat['bloodAlcoholContent'] < 600]"
   ]
  },
  {
   "cell_type": "code",
   "execution_count": 68,
   "metadata": {},
   "outputs": [],
   "source": [
    "# JZHconcatls600[['imprisonment','province_EN','bloodAlcoholContent'\n",
    "#       ]].to_csv('./dataframes/dangerousDriving/DangerousDrivingR/graphData/JZH_num_ls600.csv', index=False)\n",
    "\n"
   ]
  },
  {
   "cell_type": "markdown",
   "metadata": {},
   "source": [
    "### 3"
   ]
  },
  {
   "cell_type": "code",
   "execution_count": null,
   "metadata": {},
   "outputs": [],
   "source": [
    "# newimp = []\n",
    "# for imp in JZHconcat['imprisonment'].tolist():\n",
    "#     newimp.append('{}m'.format(imp))\n",
    "# JZHconcat['imprisonmentM'] = newimp"
   ]
  },
  {
   "cell_type": "code",
   "execution_count": null,
   "metadata": {},
   "outputs": [],
   "source": [
    "# JZHconcat[['imprisonmentM','province_EN','bloodAlcoholContent'\n",
    "#       ]].to_csv('./dataframes/dangerousDriving/DangerousDrivingR/graphData/JZH.csv', index=False)"
   ]
  },
  {
   "cell_type": "code",
   "execution_count": null,
   "metadata": {},
   "outputs": [],
   "source": [
    "# ggplot(data = JZH, aes(x=imprisonmentM, y=bloodAlcoholContent)) + geom_boxplot(aes(fill=province_EN)) + theme_bw() + ggtitle(\"DUI Zhejiang, Jiangsu, Shanghai\") + xlab(\"imprisonment (m)\") + ylab(\"blood alcohol content (mg/ml)\")\n",
    "\n"
   ]
  },
  {
   "cell_type": "code",
   "execution_count": null,
   "metadata": {},
   "outputs": [],
   "source": []
  },
  {
   "cell_type": "code",
   "execution_count": null,
   "metadata": {},
   "outputs": [],
   "source": []
  },
  {
   "cell_type": "markdown",
   "metadata": {},
   "source": [
    "## National all data"
   ]
  },
  {
   "cell_type": "code",
   "execution_count": 69,
   "metadata": {},
   "outputs": [],
   "source": [
    "NAallMatchesls600 = NAallMatches[NAallMatches['bloodAlcoholContent']<600]"
   ]
  },
  {
   "cell_type": "code",
   "execution_count": 71,
   "metadata": {},
   "outputs": [],
   "source": [
    "NAallMatchesls600[['imprisonment','province_EN','bloodAlcoholContent'\n",
    "      ]].to_csv('./dataframes/dangerousDriving/DangerousDrivingR/graphData/national_ls600.csv', index=False)\n"
   ]
  },
  {
   "cell_type": "code",
   "execution_count": null,
   "metadata": {},
   "outputs": [],
   "source": []
  },
  {
   "cell_type": "code",
   "execution_count": null,
   "metadata": {},
   "outputs": [],
   "source": []
  },
  {
   "cell_type": "markdown",
   "metadata": {},
   "source": [
    "## TF-IDF as features for linear regression with L1 regularization"
   ]
  },
  {
   "cell_type": "code",
   "execution_count": null,
   "metadata": {},
   "outputs": [],
   "source": [
    "from sklearn.feature_extraction.text import CountVectorizer\n",
    "from sklearn.feature_extraction.text import TfidfTransformer\n",
    "from sklearn import linear_model\n",
    "from sklearn.feature_selection import SelectFromModel\n",
    "import jieba\n",
    "import re"
   ]
  },
  {
   "cell_type": "code",
   "execution_count": null,
   "metadata": {},
   "outputs": [],
   "source": [
    "XJdd = XJokCases['fact'].tolist()"
   ]
  },
  {
   "cell_type": "code",
   "execution_count": null,
   "metadata": {},
   "outputs": [],
   "source": [
    "newXJlist = cleanText.contentTextOnly(XJdd)\n",
    "# newlist = cleanText.removeNonChinese(XJdd)"
   ]
  },
  {
   "cell_type": "code",
   "execution_count": null,
   "metadata": {},
   "outputs": [],
   "source": [
    "newXJlist[0]"
   ]
  },
  {
   "cell_type": "code",
   "execution_count": null,
   "metadata": {},
   "outputs": [],
   "source": [
    "seg_list = jieba.cut(newXJlist[0], cut_all=False)\n",
    "print(\"Default Mode: \" + \" \".join(seg_list))"
   ]
  },
  {
   "cell_type": "code",
   "execution_count": null,
   "metadata": {},
   "outputs": [],
   "source": [
    "XJcorpus = []\n",
    "for data in newXJlist:\n",
    "    seg_list = jieba.cut(data, cut_all=False)\n",
    "    XJcorpus.append(\" \".join(seg_list))"
   ]
  },
  {
   "cell_type": "code",
   "execution_count": null,
   "metadata": {},
   "outputs": [],
   "source": [
    "XJcorpus[0]"
   ]
  },
  {
   "cell_type": "code",
   "execution_count": null,
   "metadata": {},
   "outputs": [],
   "source": [
    "NAdd = NAokCases['fact'].tolist()\n",
    "newNAlist = cleanText.contentTextOnly(NAdd)\n"
   ]
  },
  {
   "cell_type": "code",
   "execution_count": null,
   "metadata": {},
   "outputs": [],
   "source": [
    "NatioanlCorpus = []\n",
    "for data in newNAlist:\n",
    "    seg_list = jieba.cut(data, cut_all=False)\n",
    "    NatioanlCorpus.append(\" \".join(seg_list))"
   ]
  },
  {
   "cell_type": "code",
   "execution_count": null,
   "metadata": {},
   "outputs": [],
   "source": []
  },
  {
   "cell_type": "code",
   "execution_count": null,
   "metadata": {},
   "outputs": [],
   "source": [
    "# I - Count Vectorizer\n",
    "# step 1\n",
    "# vectoerizer = CountVectorizer(min_df=1, max_df=1.0, token_pattern='\\\\b\\\\w+\\\\b')\n",
    "vectoerizer = CountVectorizer(max_features=500, token_pattern='\\\\b\\\\w+\\\\b')\n",
    "# step 2\n",
    "vectoerizer.fit(NatioanlCorpus)\n",
    "# step 3\n",
    "bag_of_words = vectoerizer.get_feature_names()"
   ]
  },
  {
   "cell_type": "code",
   "execution_count": null,
   "metadata": {},
   "outputs": [],
   "source": [
    "print(\"Bag of words:\")\n",
    "print(bag_of_words)\n",
    "print(len(bag_of_words))"
   ]
  },
  {
   "cell_type": "code",
   "execution_count": null,
   "metadata": {},
   "outputs": [],
   "source": [
    "# step 4\n",
    "X = vectoerizer.transform(XJcorpus)\n",
    "print(\"Vectorized corpus:\")\n",
    "print(X.toarray())"
   ]
  },
  {
   "cell_type": "code",
   "execution_count": null,
   "metadata": {},
   "outputs": [],
   "source": [
    "# II - TF-IDF \n",
    "# step 1\n",
    "tfidf_transformer = TfidfTransformer(smooth_idf=False)\n",
    "# step 2\n",
    "tfidf_transformer.fit(X.toarray())"
   ]
  },
  {
   "cell_type": "code",
   "execution_count": null,
   "metadata": {},
   "outputs": [],
   "source": [
    "# step 3\n",
    "# for idx, word in enumerate(vectoerizer.get_feature_names()):\n",
    "#   print(\"{}\\t{}\".format(word, tfidf_transformer.idf_[idx]))"
   ]
  },
  {
   "cell_type": "code",
   "execution_count": null,
   "metadata": {},
   "outputs": [],
   "source": [
    "# step 4\n",
    "tfidfX = tfidf_transformer.transform(X)"
   ]
  },
  {
   "cell_type": "code",
   "execution_count": null,
   "metadata": {},
   "outputs": [],
   "source": [
    "tfidfX"
   ]
  },
  {
   "cell_type": "code",
   "execution_count": null,
   "metadata": {},
   "outputs": [],
   "source": [
    "Y = XJokCases['imprisonment'].tolist()"
   ]
  },
  {
   "cell_type": "code",
   "execution_count": null,
   "metadata": {},
   "outputs": [],
   "source": [
    "clf = linear_model.Lasso(alpha=1)"
   ]
  },
  {
   "cell_type": "code",
   "execution_count": null,
   "metadata": {},
   "outputs": [],
   "source": [
    "# lrmodel = clf.fit(tfidfX, Y)"
   ]
  },
  {
   "cell_type": "code",
   "execution_count": null,
   "metadata": {},
   "outputs": [],
   "source": []
  },
  {
   "cell_type": "code",
   "execution_count": null,
   "metadata": {},
   "outputs": [],
   "source": [
    "# selector = SelectFromModel(lrmodel, prefit=True)\n",
    "selector = SelectFromModel(estimator=clf).fit(tfidfX, Y)\n",
    "\n"
   ]
  },
  {
   "cell_type": "code",
   "execution_count": null,
   "metadata": {},
   "outputs": [],
   "source": [
    "# selector.get_support()"
   ]
  },
  {
   "cell_type": "code",
   "execution_count": null,
   "metadata": {},
   "outputs": [],
   "source": [
    "np.where(selector.get_support())"
   ]
  },
  {
   "cell_type": "markdown",
   "metadata": {},
   "source": [
    "Tail too long. Results not useful"
   ]
  },
  {
   "cell_type": "code",
   "execution_count": null,
   "metadata": {},
   "outputs": [],
   "source": [
    "selector.estimator_.coef_"
   ]
  },
  {
   "cell_type": "code",
   "execution_count": null,
   "metadata": {},
   "outputs": [],
   "source": []
  }
 ],
 "metadata": {
  "kernelspec": {
   "display_name": "Python 3",
   "language": "python",
   "name": "python3"
  },
  "language_info": {
   "codemirror_mode": {
    "name": "ipython",
    "version": 3
   },
   "file_extension": ".py",
   "mimetype": "text/x-python",
   "name": "python",
   "nbconvert_exporter": "python",
   "pygments_lexer": "ipython3",
   "version": "3.8.2"
  }
 },
 "nbformat": 4,
 "nbformat_minor": 4
}
