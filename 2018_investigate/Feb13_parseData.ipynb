{
 "cells": [
  {
   "cell_type": "code",
   "execution_count": 89,
   "metadata": {},
   "outputs": [],
   "source": [
    "import data_fun as data\n",
    "import json\n",
    "import pandas as pd\n",
    "import random\n",
    "import re"
   ]
  },
  {
   "cell_type": "markdown",
   "metadata": {},
   "source": [
    "# Province and City Chinese-English map"
   ]
  },
  {
   "cell_type": "code",
   "execution_count": 315,
   "metadata": {},
   "outputs": [],
   "source": [
    "CNEG_df = pd.read_csv('china_regions/provinceCN_EN.csv', encoding=\"gb2312\")  "
   ]
  },
  {
   "cell_type": "code",
   "execution_count": 316,
   "metadata": {},
   "outputs": [
    {
     "data": {
      "text/html": [
       "<div>\n",
       "<style scoped>\n",
       "    .dataframe tbody tr th:only-of-type {\n",
       "        vertical-align: middle;\n",
       "    }\n",
       "\n",
       "    .dataframe tbody tr th {\n",
       "        vertical-align: top;\n",
       "    }\n",
       "\n",
       "    .dataframe thead th {\n",
       "        text-align: right;\n",
       "    }\n",
       "</style>\n",
       "<table border=\"1\" class=\"dataframe\">\n",
       "  <thead>\n",
       "    <tr style=\"text-align: right;\">\n",
       "      <th></th>\n",
       "      <th>City</th>\n",
       "      <th>City_Admaster</th>\n",
       "      <th>City_EN</th>\n",
       "      <th>Province</th>\n",
       "      <th>Province_EN</th>\n",
       "      <th>Region</th>\n",
       "      <th>Tier</th>\n",
       "    </tr>\n",
       "  </thead>\n",
       "  <tbody>\n",
       "    <tr>\n",
       "      <th>0</th>\n",
       "      <td>七台河</td>\n",
       "      <td>七台河市</td>\n",
       "      <td>Qitaihe</td>\n",
       "      <td>黑龙江</td>\n",
       "      <td>Heilongjiang</td>\n",
       "      <td>North</td>\n",
       "      <td>Tier 5</td>\n",
       "    </tr>\n",
       "    <tr>\n",
       "      <th>1</th>\n",
       "      <td>三亚</td>\n",
       "      <td>三亚市</td>\n",
       "      <td>Sanya</td>\n",
       "      <td>海南</td>\n",
       "      <td>Hainan</td>\n",
       "      <td>South</td>\n",
       "      <td>Tier 3</td>\n",
       "    </tr>\n",
       "    <tr>\n",
       "      <th>2</th>\n",
       "      <td>三明</td>\n",
       "      <td>三明市</td>\n",
       "      <td>Sanming</td>\n",
       "      <td>福建</td>\n",
       "      <td>Fujian</td>\n",
       "      <td>East</td>\n",
       "      <td>Tier 3</td>\n",
       "    </tr>\n",
       "    <tr>\n",
       "      <th>3</th>\n",
       "      <td>三门峡</td>\n",
       "      <td>三门峡市</td>\n",
       "      <td>Sanmenxia</td>\n",
       "      <td>河南</td>\n",
       "      <td>Henan</td>\n",
       "      <td>North</td>\n",
       "      <td>Tier 5</td>\n",
       "    </tr>\n",
       "    <tr>\n",
       "      <th>4</th>\n",
       "      <td>上海</td>\n",
       "      <td>上海市</td>\n",
       "      <td>Shanghai</td>\n",
       "      <td>上海</td>\n",
       "      <td>Shanghai</td>\n",
       "      <td>East</td>\n",
       "      <td>Tier 1</td>\n",
       "    </tr>\n",
       "  </tbody>\n",
       "</table>\n",
       "</div>"
      ],
      "text/plain": [
       "  City City_Admaster    City_EN Province   Province_EN Region    Tier\n",
       "0  七台河          七台河市    Qitaihe      黑龙江  Heilongjiang  North  Tier 5\n",
       "1   三亚           三亚市      Sanya       海南        Hainan  South  Tier 3\n",
       "2   三明           三明市    Sanming       福建        Fujian   East  Tier 3\n",
       "3  三门峡          三门峡市  Sanmenxia       河南         Henan  North  Tier 5\n",
       "4   上海           上海市   Shanghai       上海      Shanghai   East  Tier 1"
      ]
     },
     "execution_count": 316,
     "metadata": {},
     "output_type": "execute_result"
    }
   ],
   "source": [
    "CNEG_df.head()"
   ]
  },
  {
   "cell_type": "code",
   "execution_count": 317,
   "metadata": {},
   "outputs": [],
   "source": [
    "ProvinceCNENMap = pd.Series(CNEG_df.Province_EN.values, index=CNEG_df.Province).to_dict()"
   ]
  },
  {
   "cell_type": "code",
   "execution_count": null,
   "metadata": {},
   "outputs": [],
   "source": []
  },
  {
   "cell_type": "code",
   "execution_count": 318,
   "metadata": {},
   "outputs": [],
   "source": [
    "ProvinceCNENMap['台湾省'] = 'Taiwan'\n",
    "ProvinceCNENMap['香港特别行政区'] = 'Xianggang'\n",
    "ProvinceCNENMap['澳门特别行政区'] = 'Aomen'"
   ]
  },
  {
   "cell_type": "code",
   "execution_count": 319,
   "metadata": {},
   "outputs": [],
   "source": [
    "ProvinceCNENMap['内蒙古自治区'] = ProvinceCNENMap['内蒙古']\n",
    "del ProvinceCNENMap['内蒙古']\n",
    "\n",
    "ProvinceCNENMap['广西壮族自治区'] = ProvinceCNENMap['广西']\n",
    "del ProvinceCNENMap['广西']\n",
    "\n",
    "ProvinceCNENMap['西藏自治区'] = ProvinceCNENMap['西藏']\n",
    "del ProvinceCNENMap['西藏']\n",
    "\n",
    "ProvinceCNENMap['宁夏回族自治区'] = ProvinceCNENMap['宁夏']\n",
    "del ProvinceCNENMap['宁夏']\n",
    "\n",
    "ProvinceCNENMap['新疆维吾尔自治区'] = ProvinceCNENMap['新疆']\n",
    "del ProvinceCNENMap['新疆']"
   ]
  },
  {
   "cell_type": "code",
   "execution_count": 320,
   "metadata": {},
   "outputs": [],
   "source": [
    "for key, value in ProvinceCNENMap.items():\n",
    "    if not key.endswith('省') and not key.endswith('行政区') and not key.endswith('自治区'):\n",
    "        newKey = key + '省'\n",
    "        ProvinceCNENMap[newKey] = ProvinceCNENMap[key]\n",
    "        del ProvinceCNENMap[key]"
   ]
  },
  {
   "cell_type": "code",
   "execution_count": 321,
   "metadata": {},
   "outputs": [],
   "source": [
    "ProvinceCNENMap['江西省'] = ProvinceCNENMap['江西']\n",
    "del ProvinceCNENMap['江西']\n",
    "\n",
    "ProvinceCNENMap['广东省'] = ProvinceCNENMap['广东']\n",
    "del ProvinceCNENMap['广东']\n",
    "\n",
    "ProvinceCNENMap['北京市'] = ProvinceCNENMap['北京省']\n",
    "del ProvinceCNENMap['北京省']\n",
    "\n",
    "ProvinceCNENMap['天津市'] = ProvinceCNENMap['天津省']\n",
    "del ProvinceCNENMap['天津省']\n",
    "\n",
    "ProvinceCNENMap['重庆市'] = ProvinceCNENMap['重庆省']\n",
    "del ProvinceCNENMap['重庆省']\n",
    "\n",
    "ProvinceCNENMap['上海市'] = ProvinceCNENMap['上海']\n",
    "del ProvinceCNENMap['上海']"
   ]
  },
  {
   "cell_type": "code",
   "execution_count": 322,
   "metadata": {},
   "outputs": [
    {
     "data": {
      "text/plain": [
       "{'台湾省': 'Taiwan',\n",
       " '香港特别行政区': 'Xianggang',\n",
       " '澳门特别行政区': 'Aomen',\n",
       " '内蒙古自治区': 'Neimenggu',\n",
       " '广西壮族自治区': 'Guangxi',\n",
       " '西藏自治区': 'Xizang',\n",
       " '宁夏回族自治区': 'Ningxia',\n",
       " '新疆维吾尔自治区': 'Xinjiang',\n",
       " '黑龙江省': 'Heilongjiang',\n",
       " '海南省': 'Hainan',\n",
       " '福建省': 'Fujian',\n",
       " '河南省': 'Henan',\n",
       " '山东省': 'Shandong',\n",
       " '山西省': 'Shanxi',\n",
       " '云南省': 'Yunnan',\n",
       " '辽宁省': 'Liaoning',\n",
       " '浙江省': 'Zhejiang',\n",
       " '四川省': 'Sichuan',\n",
       " '安徽省': 'Anhui',\n",
       " '河北省': 'Hebei',\n",
       " '贵州省': 'Guizhou',\n",
       " '甘肃省': 'Gansu',\n",
       " '湖北省': 'Hubei',\n",
       " '江苏省': 'Jiangsu',\n",
       " '吉林省': 'Jilin',\n",
       " '陕西省': 'Shanxi',\n",
       " '湖南省': 'Hunan',\n",
       " '青海省': 'Qinghai',\n",
       " '江西省': 'Jiangxi',\n",
       " '广东省': 'Guangdong',\n",
       " '北京市': 'Beijing',\n",
       " '天津市': 'Tianjin',\n",
       " '重庆市': 'Chongqing',\n",
       " '上海市': 'Shanghai'}"
      ]
     },
     "execution_count": 322,
     "metadata": {},
     "output_type": "execute_result"
    }
   ],
   "source": [
    "ProvinceCNENMap"
   ]
  },
  {
   "cell_type": "code",
   "execution_count": 324,
   "metadata": {},
   "outputs": [],
   "source": [
    "CityCNENMap = pd.Series(CNEG_df.City_EN.values, index=CNEG_df.City_Admaster).to_dict()"
   ]
  },
  {
   "cell_type": "code",
   "execution_count": null,
   "metadata": {},
   "outputs": [],
   "source": []
  },
  {
   "cell_type": "markdown",
   "metadata": {},
   "source": [
    "# Construct Province-City-County maps"
   ]
  },
  {
   "cell_type": "code",
   "execution_count": 598,
   "metadata": {},
   "outputs": [],
   "source": [
    "ProvinceDf = pd.read_csv('china_regions/province.csv', encoding=\"utf8\")"
   ]
  },
  {
   "cell_type": "code",
   "execution_count": 599,
   "metadata": {},
   "outputs": [
    {
     "data": {
      "text/html": [
       "<div>\n",
       "<style scoped>\n",
       "    .dataframe tbody tr th:only-of-type {\n",
       "        vertical-align: middle;\n",
       "    }\n",
       "\n",
       "    .dataframe tbody tr th {\n",
       "        vertical-align: top;\n",
       "    }\n",
       "\n",
       "    .dataframe thead th {\n",
       "        text-align: right;\n",
       "    }\n",
       "</style>\n",
       "<table border=\"1\" class=\"dataframe\">\n",
       "  <thead>\n",
       "    <tr style=\"text-align: right;\">\n",
       "      <th></th>\n",
       "      <th>code</th>\n",
       "      <th>name</th>\n",
       "      <th>province</th>\n",
       "    </tr>\n",
       "  </thead>\n",
       "  <tbody>\n",
       "    <tr>\n",
       "      <th>0</th>\n",
       "      <td>110000</td>\n",
       "      <td>北京市</td>\n",
       "      <td>11</td>\n",
       "    </tr>\n",
       "    <tr>\n",
       "      <th>1</th>\n",
       "      <td>120000</td>\n",
       "      <td>天津市</td>\n",
       "      <td>12</td>\n",
       "    </tr>\n",
       "    <tr>\n",
       "      <th>2</th>\n",
       "      <td>130000</td>\n",
       "      <td>河北省</td>\n",
       "      <td>13</td>\n",
       "    </tr>\n",
       "    <tr>\n",
       "      <th>3</th>\n",
       "      <td>140000</td>\n",
       "      <td>山西省</td>\n",
       "      <td>14</td>\n",
       "    </tr>\n",
       "    <tr>\n",
       "      <th>4</th>\n",
       "      <td>150000</td>\n",
       "      <td>内蒙古自治区</td>\n",
       "      <td>15</td>\n",
       "    </tr>\n",
       "    <tr>\n",
       "      <th>5</th>\n",
       "      <td>210000</td>\n",
       "      <td>辽宁省</td>\n",
       "      <td>21</td>\n",
       "    </tr>\n",
       "    <tr>\n",
       "      <th>6</th>\n",
       "      <td>220000</td>\n",
       "      <td>吉林省</td>\n",
       "      <td>22</td>\n",
       "    </tr>\n",
       "    <tr>\n",
       "      <th>7</th>\n",
       "      <td>230000</td>\n",
       "      <td>黑龙江省</td>\n",
       "      <td>23</td>\n",
       "    </tr>\n",
       "    <tr>\n",
       "      <th>8</th>\n",
       "      <td>310000</td>\n",
       "      <td>上海市</td>\n",
       "      <td>31</td>\n",
       "    </tr>\n",
       "    <tr>\n",
       "      <th>9</th>\n",
       "      <td>320000</td>\n",
       "      <td>江苏省</td>\n",
       "      <td>32</td>\n",
       "    </tr>\n",
       "    <tr>\n",
       "      <th>10</th>\n",
       "      <td>330000</td>\n",
       "      <td>浙江省</td>\n",
       "      <td>33</td>\n",
       "    </tr>\n",
       "    <tr>\n",
       "      <th>11</th>\n",
       "      <td>340000</td>\n",
       "      <td>安徽省</td>\n",
       "      <td>34</td>\n",
       "    </tr>\n",
       "    <tr>\n",
       "      <th>12</th>\n",
       "      <td>350000</td>\n",
       "      <td>福建省</td>\n",
       "      <td>35</td>\n",
       "    </tr>\n",
       "    <tr>\n",
       "      <th>13</th>\n",
       "      <td>360000</td>\n",
       "      <td>江西省</td>\n",
       "      <td>36</td>\n",
       "    </tr>\n",
       "    <tr>\n",
       "      <th>14</th>\n",
       "      <td>370000</td>\n",
       "      <td>山东省</td>\n",
       "      <td>37</td>\n",
       "    </tr>\n",
       "    <tr>\n",
       "      <th>15</th>\n",
       "      <td>410000</td>\n",
       "      <td>河南省</td>\n",
       "      <td>41</td>\n",
       "    </tr>\n",
       "    <tr>\n",
       "      <th>16</th>\n",
       "      <td>420000</td>\n",
       "      <td>湖北省</td>\n",
       "      <td>42</td>\n",
       "    </tr>\n",
       "    <tr>\n",
       "      <th>17</th>\n",
       "      <td>430000</td>\n",
       "      <td>湖南省</td>\n",
       "      <td>43</td>\n",
       "    </tr>\n",
       "    <tr>\n",
       "      <th>18</th>\n",
       "      <td>440000</td>\n",
       "      <td>广东省</td>\n",
       "      <td>44</td>\n",
       "    </tr>\n",
       "    <tr>\n",
       "      <th>19</th>\n",
       "      <td>450000</td>\n",
       "      <td>广西壮族自治区</td>\n",
       "      <td>45</td>\n",
       "    </tr>\n",
       "    <tr>\n",
       "      <th>20</th>\n",
       "      <td>460000</td>\n",
       "      <td>海南省</td>\n",
       "      <td>46</td>\n",
       "    </tr>\n",
       "    <tr>\n",
       "      <th>21</th>\n",
       "      <td>500000</td>\n",
       "      <td>重庆市</td>\n",
       "      <td>50</td>\n",
       "    </tr>\n",
       "    <tr>\n",
       "      <th>22</th>\n",
       "      <td>510000</td>\n",
       "      <td>四川省</td>\n",
       "      <td>51</td>\n",
       "    </tr>\n",
       "    <tr>\n",
       "      <th>23</th>\n",
       "      <td>520000</td>\n",
       "      <td>贵州省</td>\n",
       "      <td>52</td>\n",
       "    </tr>\n",
       "    <tr>\n",
       "      <th>24</th>\n",
       "      <td>530000</td>\n",
       "      <td>云南省</td>\n",
       "      <td>53</td>\n",
       "    </tr>\n",
       "    <tr>\n",
       "      <th>25</th>\n",
       "      <td>540000</td>\n",
       "      <td>西藏自治区</td>\n",
       "      <td>54</td>\n",
       "    </tr>\n",
       "    <tr>\n",
       "      <th>26</th>\n",
       "      <td>610000</td>\n",
       "      <td>陕西省</td>\n",
       "      <td>61</td>\n",
       "    </tr>\n",
       "    <tr>\n",
       "      <th>27</th>\n",
       "      <td>620000</td>\n",
       "      <td>甘肃省</td>\n",
       "      <td>62</td>\n",
       "    </tr>\n",
       "    <tr>\n",
       "      <th>28</th>\n",
       "      <td>630000</td>\n",
       "      <td>青海省</td>\n",
       "      <td>63</td>\n",
       "    </tr>\n",
       "    <tr>\n",
       "      <th>29</th>\n",
       "      <td>640000</td>\n",
       "      <td>宁夏回族自治区</td>\n",
       "      <td>64</td>\n",
       "    </tr>\n",
       "    <tr>\n",
       "      <th>30</th>\n",
       "      <td>650000</td>\n",
       "      <td>新疆维吾尔自治区</td>\n",
       "      <td>65</td>\n",
       "    </tr>\n",
       "    <tr>\n",
       "      <th>31</th>\n",
       "      <td>710000</td>\n",
       "      <td>台湾省</td>\n",
       "      <td>71</td>\n",
       "    </tr>\n",
       "    <tr>\n",
       "      <th>32</th>\n",
       "      <td>810000</td>\n",
       "      <td>香港特别行政区</td>\n",
       "      <td>81</td>\n",
       "    </tr>\n",
       "    <tr>\n",
       "      <th>33</th>\n",
       "      <td>820000</td>\n",
       "      <td>澳门特别行政区</td>\n",
       "      <td>82</td>\n",
       "    </tr>\n",
       "  </tbody>\n",
       "</table>\n",
       "</div>"
      ],
      "text/plain": [
       "      code      name  province\n",
       "0   110000       北京市        11\n",
       "1   120000       天津市        12\n",
       "2   130000       河北省        13\n",
       "3   140000       山西省        14\n",
       "4   150000    内蒙古自治区        15\n",
       "5   210000       辽宁省        21\n",
       "6   220000       吉林省        22\n",
       "7   230000      黑龙江省        23\n",
       "8   310000       上海市        31\n",
       "9   320000       江苏省        32\n",
       "10  330000       浙江省        33\n",
       "11  340000       安徽省        34\n",
       "12  350000       福建省        35\n",
       "13  360000       江西省        36\n",
       "14  370000       山东省        37\n",
       "15  410000       河南省        41\n",
       "16  420000       湖北省        42\n",
       "17  430000       湖南省        43\n",
       "18  440000       广东省        44\n",
       "19  450000   广西壮族自治区        45\n",
       "20  460000       海南省        46\n",
       "21  500000       重庆市        50\n",
       "22  510000       四川省        51\n",
       "23  520000       贵州省        52\n",
       "24  530000       云南省        53\n",
       "25  540000     西藏自治区        54\n",
       "26  610000       陕西省        61\n",
       "27  620000       甘肃省        62\n",
       "28  630000       青海省        63\n",
       "29  640000   宁夏回族自治区        64\n",
       "30  650000  新疆维吾尔自治区        65\n",
       "31  710000       台湾省        71\n",
       "32  810000   香港特别行政区        81\n",
       "33  820000   澳门特别行政区        82"
      ]
     },
     "execution_count": 599,
     "metadata": {},
     "output_type": "execute_result"
    }
   ],
   "source": [
    "ProvinceDf"
   ]
  },
  {
   "cell_type": "code",
   "execution_count": 600,
   "metadata": {},
   "outputs": [],
   "source": [
    "provinceList = ProvinceDf['name'].tolist()"
   ]
  },
  {
   "cell_type": "code",
   "execution_count": 601,
   "metadata": {},
   "outputs": [
    {
     "data": {
      "text/plain": [
       "34"
      ]
     },
     "execution_count": 601,
     "metadata": {},
     "output_type": "execute_result"
    }
   ],
   "source": [
    "len(provinceList)"
   ]
  },
  {
   "cell_type": "code",
   "execution_count": 626,
   "metadata": {},
   "outputs": [],
   "source": [
    "cityDf = pd.read_csv('china_regions/city.csv', encoding=\"utf8\")"
   ]
  },
  {
   "cell_type": "code",
   "execution_count": 627,
   "metadata": {},
   "outputs": [
    {
     "data": {
      "text/html": [
       "<div>\n",
       "<style scoped>\n",
       "    .dataframe tbody tr th:only-of-type {\n",
       "        vertical-align: middle;\n",
       "    }\n",
       "\n",
       "    .dataframe tbody tr th {\n",
       "        vertical-align: top;\n",
       "    }\n",
       "\n",
       "    .dataframe thead th {\n",
       "        text-align: right;\n",
       "    }\n",
       "</style>\n",
       "<table border=\"1\" class=\"dataframe\">\n",
       "  <thead>\n",
       "    <tr style=\"text-align: right;\">\n",
       "      <th></th>\n",
       "      <th>code</th>\n",
       "      <th>name</th>\n",
       "      <th>province</th>\n",
       "      <th>city</th>\n",
       "    </tr>\n",
       "  </thead>\n",
       "  <tbody>\n",
       "    <tr>\n",
       "      <th>0</th>\n",
       "      <td>130100</td>\n",
       "      <td>石家庄市</td>\n",
       "      <td>13</td>\n",
       "      <td>1</td>\n",
       "    </tr>\n",
       "    <tr>\n",
       "      <th>1</th>\n",
       "      <td>130200</td>\n",
       "      <td>唐山市</td>\n",
       "      <td>13</td>\n",
       "      <td>2</td>\n",
       "    </tr>\n",
       "    <tr>\n",
       "      <th>2</th>\n",
       "      <td>130300</td>\n",
       "      <td>秦皇岛市</td>\n",
       "      <td>13</td>\n",
       "      <td>3</td>\n",
       "    </tr>\n",
       "    <tr>\n",
       "      <th>3</th>\n",
       "      <td>130400</td>\n",
       "      <td>邯郸市</td>\n",
       "      <td>13</td>\n",
       "      <td>4</td>\n",
       "    </tr>\n",
       "    <tr>\n",
       "      <th>4</th>\n",
       "      <td>130500</td>\n",
       "      <td>邢台市</td>\n",
       "      <td>13</td>\n",
       "      <td>5</td>\n",
       "    </tr>\n",
       "    <tr>\n",
       "      <th>...</th>\n",
       "      <td>...</td>\n",
       "      <td>...</td>\n",
       "      <td>...</td>\n",
       "      <td>...</td>\n",
       "    </tr>\n",
       "    <tr>\n",
       "      <th>330</th>\n",
       "      <td>654000</td>\n",
       "      <td>伊犁哈萨克自治州</td>\n",
       "      <td>65</td>\n",
       "      <td>40</td>\n",
       "    </tr>\n",
       "    <tr>\n",
       "      <th>331</th>\n",
       "      <td>654200</td>\n",
       "      <td>塔城地区</td>\n",
       "      <td>65</td>\n",
       "      <td>42</td>\n",
       "    </tr>\n",
       "    <tr>\n",
       "      <th>332</th>\n",
       "      <td>654300</td>\n",
       "      <td>阿勒泰地区</td>\n",
       "      <td>65</td>\n",
       "      <td>43</td>\n",
       "    </tr>\n",
       "    <tr>\n",
       "      <th>333</th>\n",
       "      <td>999999</td>\n",
       "      <td>诸暨市</td>\n",
       "      <td>33</td>\n",
       "      <td>99</td>\n",
       "    </tr>\n",
       "    <tr>\n",
       "      <th>334</th>\n",
       "      <td>999998</td>\n",
       "      <td>乌兰浩特市</td>\n",
       "      <td>15</td>\n",
       "      <td>99</td>\n",
       "    </tr>\n",
       "  </tbody>\n",
       "</table>\n",
       "<p>335 rows × 4 columns</p>\n",
       "</div>"
      ],
      "text/plain": [
       "       code      name  province  city\n",
       "0    130100      石家庄市        13     1\n",
       "1    130200       唐山市        13     2\n",
       "2    130300      秦皇岛市        13     3\n",
       "3    130400       邯郸市        13     4\n",
       "4    130500       邢台市        13     5\n",
       "..      ...       ...       ...   ...\n",
       "330  654000  伊犁哈萨克自治州        65    40\n",
       "331  654200      塔城地区        65    42\n",
       "332  654300     阿勒泰地区        65    43\n",
       "333  999999       诸暨市        33    99\n",
       "334  999998     乌兰浩特市        15    99\n",
       "\n",
       "[335 rows x 4 columns]"
      ]
     },
     "execution_count": 627,
     "metadata": {},
     "output_type": "execute_result"
    }
   ],
   "source": [
    "cityDf"
   ]
  },
  {
   "cell_type": "code",
   "execution_count": 628,
   "metadata": {},
   "outputs": [],
   "source": [
    "cityList = cityDf['name'].tolist()"
   ]
  },
  {
   "cell_type": "code",
   "execution_count": 629,
   "metadata": {},
   "outputs": [
    {
     "data": {
      "text/plain": [
       "335"
      ]
     },
     "execution_count": 629,
     "metadata": {},
     "output_type": "execute_result"
    }
   ],
   "source": [
    "len(cityList)"
   ]
  },
  {
   "cell_type": "code",
   "execution_count": 630,
   "metadata": {},
   "outputs": [],
   "source": [
    "countyDf = pd.read_csv('china_regions/area.csv', encoding=\"utf8\")"
   ]
  },
  {
   "cell_type": "code",
   "execution_count": 607,
   "metadata": {},
   "outputs": [],
   "source": [
    "# ---***--- IMPORTANT\n",
    "countyList = countyDf['name'].tolist()"
   ]
  },
  {
   "cell_type": "code",
   "execution_count": 608,
   "metadata": {},
   "outputs": [
    {
     "data": {
      "text/plain": [
       "2763"
      ]
     },
     "execution_count": 608,
     "metadata": {},
     "output_type": "execute_result"
    }
   ],
   "source": [
    "# get the index of a county in the countyList\n",
    "countyList.index('吉木萨尔县')"
   ]
  },
  {
   "cell_type": "code",
   "execution_count": 164,
   "metadata": {},
   "outputs": [
    {
     "data": {
      "text/plain": [
       "'石家庄市'"
      ]
     },
     "execution_count": 164,
     "metadata": {},
     "output_type": "execute_result"
    }
   ],
   "source": [
    "# get city name based on province and city ID from the city dataframe\n",
    "cityDf.loc[cityDf['city']==1].loc[cityDf['province']==13]['name'].values[0]"
   ]
  },
  {
   "cell_type": "code",
   "execution_count": 166,
   "metadata": {},
   "outputs": [
    {
     "data": {
      "text/plain": [
       "'河北省'"
      ]
     },
     "execution_count": 166,
     "metadata": {},
     "output_type": "execute_result"
    }
   ],
   "source": [
    "# get province name based on province ID from the province dataframe\n",
    "ProvinceDf.loc[ProvinceDf['province'] == 13]['name'].values[0]"
   ]
  },
  {
   "cell_type": "code",
   "execution_count": 183,
   "metadata": {},
   "outputs": [
    {
     "data": {
      "text/plain": [
       "'广东省'"
      ]
     },
     "execution_count": 183,
     "metadata": {},
     "output_type": "execute_result"
    }
   ],
   "source": [
    "# get province based on city name\n",
    "provinceID = cityDf.loc[cityDf['name']=='阳江市']['province'].values[0]\n",
    "ProvinceDf.loc[ProvinceDf['province'] == provinceID]['name'].values[0]"
   ]
  },
  {
   "cell_type": "code",
   "execution_count": 174,
   "metadata": {},
   "outputs": [],
   "source": [
    "# get province ID and city ID from county dataframe at index 0\n",
    "proID = countyDf.iloc[[0]]['province'].values[0]\n",
    "cityID = countyDf.iloc[[0]]['city'].values[0]"
   ]
  },
  {
   "cell_type": "code",
   "execution_count": null,
   "metadata": {},
   "outputs": [],
   "source": []
  },
  {
   "cell_type": "code",
   "execution_count": null,
   "metadata": {},
   "outputs": [],
   "source": []
  },
  {
   "cell_type": "code",
   "execution_count": null,
   "metadata": {},
   "outputs": [],
   "source": []
  },
  {
   "cell_type": "markdown",
   "metadata": {},
   "source": [
    "# Read and Parse data functions"
   ]
  },
  {
   "cell_type": "code",
   "execution_count": 697,
   "metadata": {},
   "outputs": [],
   "source": [
    "def parseFactLocale(fact):\n",
    "    \n",
    "    zhiXiaShi = ['天津市', '北京市','天津市','上海市','重庆市']\n",
    "    \n",
    "    shengCN = 'None'\n",
    "    shengEN = 'None'\n",
    "    shiCN = 'None'\n",
    "    shiEN = 'None'\n",
    "    quXianCN = 'None'\n",
    "    \n",
    "    # (1) when \"...人民检察院指控\" is included. Split string use that\n",
    "    segments = fact.split('人民检察院指控') # '人民检察院'\n",
    "    if len(segments) > 1:\n",
    "        PATTERN = u'([\\u4e00-\\u9fa5]{2,5}?(?:省|自治区|市)){0,1}([\\u4e00-\\u9fa5]{2,7}?(?:市|区|县|州)){0,1}([\\u4e00-\\u9fa5]{2,7}?(?:市|区|县)){0,1}'\n",
    "\n",
    "        data_utf8 = segments[0]\n",
    "    \n",
    "        province = ''\n",
    "        city = ''\n",
    "        district = ''\n",
    "        \n",
    "        chunk1 = None\n",
    "        chunk2 = None\n",
    "        chunk3 = None\n",
    "\n",
    "        pattern = re.compile(PATTERN)\n",
    "        m = pattern.search(data_utf8)\n",
    "        \n",
    "        if len(m.group(0)) == 0:\n",
    "#             print('bad entry')\n",
    "            return shengCN, shengEN, shiCN, shiEN, quXianCN\n",
    "        \n",
    "        if m.lastindex >= 1:\n",
    "            chunk1 = m.group(1)\n",
    "        if m.lastindex >= 2:\n",
    "            chunk2 = m.group(2)\n",
    "        if m.lastindex >= 3:\n",
    "            chunk3 = m.group(3)\n",
    "        \n",
    "        if chunk1:\n",
    "            if chunk1 in zhiXiaShi:\n",
    "                shengCN = chunk1\n",
    "                shiCN = chunk1\n",
    "                \n",
    "            elif chunk1.endswith('省') or chunk1.endswith('自治区'):\n",
    "                shengCN = chunk1\n",
    "                if chunk2:\n",
    "                    if chunk2.endswith('市'):\n",
    "                        shiCN = chunk2\n",
    "                        if chunk3:\n",
    "                            quXianCN = chunk3\n",
    "                    else: #chunk2 ends with 区|县\n",
    "                        quXianCN = chunk2\n",
    "                        try:\n",
    "                            countyIdx = countyList.index(chunk2)\n",
    "                            proID = countyDf.iloc[[countyIdx]]['province'].values[0]\n",
    "                            cityID = countyDf.iloc[[countyIdx]]['city'].values[0]\n",
    "                            shiCN = cityDf.loc[cityDf['city']==cityID].loc[cityDf['province']==proID]['name'].values[0]\n",
    "                        except:\n",
    "                            nothing='no function. just holding place'\n",
    "#                             print('cannot find: ' + chunk2)\n",
    "                        \n",
    "            elif chunk1.endswith('市') and chunk1 != '四会市' and chunk1 != '湘乡市':\n",
    "                shiCN = chunk1\n",
    "                try: \n",
    "                    provinceID = cityDf.loc[cityDf['name']== chunk1]['province'].values[0]\n",
    "                    shengCN = ProvinceDf.loc[ProvinceDf['province'] == provinceID]['name'].values[0]\n",
    "                except:\n",
    "#                     print('市: ' + chunk1 + ' is not in the 市级file')\n",
    "                    try:\n",
    "                        countyIdx = countyList.index(chunk1)\n",
    "                        proID = countyDf.iloc[[countyIdx]]['province'].values[0]\n",
    "                        shengCN = ProvinceDf.loc[ProvinceDf['province'] == proID]['name'].values[0]\n",
    "                        cityID = countyDf.iloc[[countyIdx]]['city'].values[0]\n",
    "                        shiCN = cityDf.loc[cityDf['city']==cityID].loc[cityDf['province']==proID]['name'].values[0]\n",
    "#                         print('found ' + chunk1 + 'in the 县级 file')\n",
    "                    except:\n",
    "                        nothing='no function. just holding place'\n",
    "#                         print('cannot find: ' + chunk1)\n",
    "                \n",
    "                \n",
    "                    \n",
    "            else: #chunk1 endswith 区|县\n",
    "                quXianCN = chunk1\n",
    "                try:\n",
    "                    countyIdx = countyList.index(chunk1)\n",
    "                    proID = countyDf.iloc[[countyIdx]]['province'].values[0]\n",
    "                    shengCN = ProvinceDf.loc[ProvinceDf['province'] == proID]['name'].values[0]\n",
    "                    cityID = countyDf.iloc[[countyIdx]]['city'].values[0]\n",
    "                    shiCN = cityDf.loc[cityDf['city']==cityID].loc[cityDf['province']==proID]['name'].values[0]\n",
    "                except:\n",
    "                    nothing='no function. just holding place'\n",
    "#                     print('cannot find: ' + chunk1)\n",
    "                \n",
    "    \n",
    "    else: # cannot split on “人民检察院指控\"\n",
    "        for province in provinceList:\n",
    "            if province in fact:\n",
    "                shengCN = province\n",
    "                break\n",
    "        \n",
    "        for city in cityList:\n",
    "            if city in fact:\n",
    "                shiCN = city\n",
    "                provinceID = cityDf.loc[cityDf['name']== shiCN]['province'].values[0]\n",
    "                shengCN = ProvinceDf.loc[ProvinceDf['province'] == provinceID]['name'].values[0]\n",
    "                break\n",
    "        \n",
    "        for county in countyList:\n",
    "            if county in fact:\n",
    "                quXianCN = county\n",
    "                try:\n",
    "                    countyIdx = countyList.index(county)\n",
    "                    proID = countyDf.iloc[[countyIdx]]['province'].values[0]\n",
    "                    shengCN = ProvinceDf.loc[ProvinceDf['province'] == proID]['name'].values[0]\n",
    "                    if shengCN in zhiXiaShi:\n",
    "                        shiCN = shengCN\n",
    "                    else:\n",
    "                        cityID = countyDf.iloc[[countyIdx]]['city'].values[0]\n",
    "                        shiCN = cityDf.loc[cityDf['city']==cityID].loc[cityDf['province']==proID]['name'].values[0]\n",
    "                except:\n",
    "                    nothing='no function. just holding place'\n",
    "#                     print('error at: ' + county)\n",
    "                    \n",
    "                break\n",
    "    \n",
    "    if shengCN != 'None':\n",
    "        try:\n",
    "            shengEN = ProvinceCNENMap[shengCN]\n",
    "        except:\n",
    "            nothing='no function. just holding place'\n",
    "#             print('省: ' + shengCN + 'does not exist')\n",
    "            shengCN = 'None'\n",
    "        \n",
    "    if shiCN != 'None':\n",
    "        if shiCN in CityCNENMap:\n",
    "            shiEN = CityCNENMap[shiCN]\n",
    "    \n",
    "    return shengCN, shengEN, shiCN, shiEN, quXianCN"
   ]
  },
  {
   "cell_type": "code",
   "execution_count": 612,
   "metadata": {},
   "outputs": [
    {
     "data": {
      "text/plain": [
       "'泉州市鲤城区人民检察院指控，2015年6月6日0时许，被告人徐某某在鲤城区金龙街道鸿星尔克鞋厂附近其亲戚杨某的租房内吃饭喝酒后，驾驶二轮摩托车离开，沿南福南路、南环路往南安方向行驶，行至南环路超越集团红绿灯路段被公安机关当场查获。经抽血检验，被告人徐某某血液中乙醇浓度达132.59mg／100ml，属醉酒驾驶。\\r\\n'"
      ]
     },
     "execution_count": 612,
     "metadata": {},
     "output_type": "execute_result"
    }
   ],
   "source": [
    "ranInt = random.randint(0, 1710856)\n",
    "testFact = alltext[ranInt]\n",
    "testFact"
   ]
  },
  {
   "cell_type": "code",
   "execution_count": 613,
   "metadata": {},
   "outputs": [
    {
     "name": "stdout",
     "output_type": "stream",
     "text": [
      "shengCN: 福建省\n",
      "shengEN: Fujian\n",
      "shiCN: 泉州市\n",
      "shiEN: Quanzhou\n",
      "quXianCN: None\n"
     ]
    }
   ],
   "source": [
    "shengCN, shengEN, shiCN, shiEN, quXianCN  = parseFactLocale(testFact)\n",
    "print('shengCN: ' + shengCN)\n",
    "print('shengEN: ' + shengEN)\n",
    "print('shiCN: ' + shiCN)\n",
    "print('shiEN: ' + shiEN)\n",
    "print('quXianCN: ' + quXianCN)"
   ]
  },
  {
   "cell_type": "code",
   "execution_count": null,
   "metadata": {},
   "outputs": [],
   "source": []
  },
  {
   "cell_type": "code",
   "execution_count": 725,
   "metadata": {},
   "outputs": [],
   "source": [
    "def parseFactTime(factData):\n",
    "    \n",
    "    mat = re.search(r\"(\\d{4}年(?:\\d{1,2}月){0,1}(?:\\d{1,2}日){0,1})\", factData)\n",
    "    #print(mat.groups())\n",
    "    # ('2016-12-12',)\n",
    "    \n",
    "    year = '0000'\n",
    "    month = '01'\n",
    "    date = '01'\n",
    "    \n",
    "    if mat:\n",
    "        dateString = mat.groups()[0]\n",
    "        yearSplit = dateString.split('年')\n",
    "        year = yearSplit[0]\n",
    "        if yearSplit[1]:\n",
    "            monthSplit = yearSplit[1].split('月')\n",
    "            month = monthSplit[0]\n",
    "            if monthSplit[1]:\n",
    "                date = monthSplit[1].split('日')[0]\n",
    "    \n",
    "    return year + '-' + month + '-' + date\n"
   ]
  },
  {
   "cell_type": "code",
   "execution_count": 726,
   "metadata": {},
   "outputs": [
    {
     "name": "stdout",
     "output_type": "stream",
     "text": [
      "2014年1月11日\n"
     ]
    }
   ],
   "source": [
    "mat = re.search(r\"(\\d{4}年\\d{1,2}月(?:\\d{1,2}日){0,1})\",'永顺县人民检察院指控，2014年1月11日，被告人李某某与彭某某（另案处理）在永顺县塔卧镇')\n",
    "print(mat.groups()[0])"
   ]
  },
  {
   "cell_type": "code",
   "execution_count": 727,
   "metadata": {},
   "outputs": [
    {
     "data": {
      "text/plain": [
       "'2014-01-01'"
      ]
     },
     "execution_count": 727,
     "metadata": {},
     "output_type": "execute_result"
    }
   ],
   "source": [
    "ok = parseFactTime('乌鲁木齐县人民检察院指控：2014年，被告人魏某在担任乌')\n",
    "ok"
   ]
  },
  {
   "cell_type": "code",
   "execution_count": null,
   "metadata": {},
   "outputs": [],
   "source": []
  },
  {
   "cell_type": "code",
   "execution_count": null,
   "metadata": {},
   "outputs": [],
   "source": []
  },
  {
   "cell_type": "code",
   "execution_count": 713,
   "metadata": {},
   "outputs": [],
   "source": [
    "def parseData(path):\n",
    "    fin = open(path, 'r', encoding = 'utf8')\n",
    "    \n",
    "    province_CN = []\n",
    "    province_EN = []\n",
    "    city_CN = []\n",
    "    city_EN = []\n",
    "    County_CN = []\n",
    "    crimeTime_earliest = []\n",
    "    \n",
    "    facttext = []\n",
    "    lawArticle = []\n",
    "    accusation = []\n",
    "    moneyPunishment = []\n",
    "    criminalName = []\n",
    "    deathPenalty = []\n",
    "    imprisonment = []\n",
    "    lifeImprisonment = []\n",
    "\n",
    "    line = fin.readline()\n",
    "\n",
    "    while line:\n",
    "        d = json.loads(line)\n",
    "        \n",
    "        factData = d['fact'].rstrip()\n",
    "        \n",
    "        facttext.append(factData)\n",
    "        lawArticle.append(d['meta']['relevant_articles'][0])\n",
    "        accusation.append(d['meta']['accusation'][0]) \n",
    "        moneyPunishment.append(d['meta']['punish_of_money'])\n",
    "        criminalName.append(d['meta']['criminals'][0])\n",
    "        deathPenalty.append(d['meta']['term_of_imprisonment']['death_penalty'])\n",
    "        imprisonment.append(d['meta']['term_of_imprisonment']['imprisonment'])\n",
    "        lifeImprisonment.append(d['meta']['term_of_imprisonment']['life_imprisonment'])\n",
    "        \n",
    "        shengCN, shengEN, shiCN, shiEN, quXianCN = parseFactLocale(factData)\n",
    "        dateTime = parseFactTime(factData)\n",
    "        province_CN.append(shengCN)\n",
    "        province_EN.append(shengEN)\n",
    "        city_CN.append(shiCN)\n",
    "        city_EN.append(shiEN)\n",
    "        County_CN.append(quXianCN)\n",
    "        crimeTime_earliest.append(dateTime)\n",
    "        \n",
    "        line = fin.readline()\n",
    "    fin.close()\n",
    "    \n",
    "    #load into DataFrame\n",
    "    df = pd.DataFrame(list(zip(facttext, lawArticle, accusation, moneyPunishment, criminalName, deathPenalty,\n",
    "                              imprisonment, lifeImprisonment, crimeTime_earliest, province_CN, province_EN,\n",
    "                              city_CN, city_EN, County_CN)), \n",
    "                      columns =['fact', 'lawArticle', 'accusation', 'moneyPunishment', 'criminalName', 'deathPenalty',\n",
    "                               'imprisonment', 'lifeImprisonment', 'dateTime', 'province_CN', 'province_EN',\n",
    "                               'city_CN', 'city_EN', 'County_CN'])\n",
    "\n",
    "    df.to_csv('./dataframes/firstStage_train_updatedDatetime.csv', index=False)\n",
    "    return facttext, accusation, lawArticle, imprisonment"
   ]
  },
  {
   "cell_type": "code",
   "execution_count": 714,
   "metadata": {},
   "outputs": [],
   "source": [
    "alltext, accu_label, law_label, imprisonment = parseData('../CAIL2018_final_all_data/first_stage/train.json')"
   ]
  },
  {
   "cell_type": "code",
   "execution_count": null,
   "metadata": {},
   "outputs": [],
   "source": []
  },
  {
   "cell_type": "code",
   "execution_count": 699,
   "metadata": {},
   "outputs": [
    {
     "data": {
      "text/plain": [
       "1710856"
      ]
     },
     "execution_count": 699,
     "metadata": {},
     "output_type": "execute_result"
    }
   ],
   "source": [
    "len(alltext)"
   ]
  },
  {
   "cell_type": "code",
   "execution_count": null,
   "metadata": {},
   "outputs": [],
   "source": []
  },
  {
   "cell_type": "code",
   "execution_count": null,
   "metadata": {},
   "outputs": [],
   "source": []
  }
 ],
 "metadata": {
  "kernelspec": {
   "display_name": "Python 3",
   "language": "python",
   "name": "python3"
  },
  "language_info": {
   "codemirror_mode": {
    "name": "ipython",
    "version": 3
   },
   "file_extension": ".py",
   "mimetype": "text/x-python",
   "name": "python",
   "nbconvert_exporter": "python",
   "pygments_lexer": "ipython3",
   "version": "3.7.6"
  }
 },
 "nbformat": 4,
 "nbformat_minor": 2
}
