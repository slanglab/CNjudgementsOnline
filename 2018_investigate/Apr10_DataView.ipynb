{
 "cells": [
  {
   "cell_type": "code",
   "execution_count": 1,
   "metadata": {},
   "outputs": [],
   "source": [
    "import pandas as pd\n",
    "import matplotlib\n",
    "import matplotlib.pyplot as plt\n",
    "import matplotlib.font_manager\n",
    "matplotlib.font_manager._rebuild()\n",
    "matplotlib.rcParams['font.family'] = ['Heiti TC']\n",
    "import seaborn as sns\n",
    "from scipy import stats\n",
    "import numpy as np"
   ]
  },
  {
   "cell_type": "code",
   "execution_count": 2,
   "metadata": {},
   "outputs": [],
   "source": [
    "pd.set_option('display.max_colwidth', 1000)"
   ]
  },
  {
   "cell_type": "code",
   "execution_count": null,
   "metadata": {},
   "outputs": [],
   "source": []
  },
  {
   "cell_type": "code",
   "execution_count": 3,
   "metadata": {},
   "outputs": [],
   "source": [
    "dfSorted = pd.read_csv('./dataframes/firstStage_train_updatedDatetime_clean.csv') "
   ]
  },
  {
   "cell_type": "code",
   "execution_count": 5,
   "metadata": {},
   "outputs": [],
   "source": [
    "nationalHurt = dfSorted[dfSorted['accusation'] == '故意伤害']"
   ]
  },
  {
   "cell_type": "code",
   "execution_count": 16,
   "metadata": {},
   "outputs": [
    {
     "data": {
      "text/html": [
       "<div>\n",
       "<style scoped>\n",
       "    .dataframe tbody tr th:only-of-type {\n",
       "        vertical-align: middle;\n",
       "    }\n",
       "\n",
       "    .dataframe tbody tr th {\n",
       "        vertical-align: top;\n",
       "    }\n",
       "\n",
       "    .dataframe thead th {\n",
       "        text-align: right;\n",
       "    }\n",
       "</style>\n",
       "<table border=\"1\" class=\"dataframe\">\n",
       "  <thead>\n",
       "    <tr style=\"text-align: right;\">\n",
       "      <th></th>\n",
       "      <th>fact</th>\n",
       "      <th>lawArticle</th>\n",
       "      <th>imprisonment</th>\n",
       "    </tr>\n",
       "  </thead>\n",
       "  <tbody>\n",
       "    <tr>\n",
       "      <th>252272</th>\n",
       "      <td>榆林市榆阳区人民检察院指控：2012年2月20日16时许，被告人白某与被害人高某及倪某等人在榆阳区五雷沟村其家中喝酒，因白某与高某言语不和发生口角，白某从厨房内拿了一把尖刀藏在自己枕头下面，后坐在床上将高某抱住，用尖刀捅伤高某的腹部，高某被送往医院治疗。经榆阳区公安局司法鉴定中心法医学人体伤情伤残鉴定，高某腹部的损伤程度符合轻伤，伤残等级符合九级伤残。上述犯罪事实公诉机关提供了相关证据，认为被告人白某的行为触犯了《中华人民共和国刑法》二百三十四条××之规定，构成××。提请依法判处。</td>\n",
       "      <td>234</td>\n",
       "      <td>24</td>\n",
       "    </tr>\n",
       "  </tbody>\n",
       "</table>\n",
       "</div>"
      ],
      "text/plain": [
       "                                                                                                                                                                                                                                                       fact  \\\n",
       "252272  榆林市榆阳区人民检察院指控：2012年2月20日16时许，被告人白某与被害人高某及倪某等人在榆阳区五雷沟村其家中喝酒，因白某与高某言语不和发生口角，白某从厨房内拿了一把尖刀藏在自己枕头下面，后坐在床上将高某抱住，用尖刀捅伤高某的腹部，高某被送往医院治疗。经榆阳区公安局司法鉴定中心法医学人体伤情伤残鉴定，高某腹部的损伤程度符合轻伤，伤残等级符合九级伤残。上述犯罪事实公诉机关提供了相关证据，认为被告人白某的行为触犯了《中华人民共和国刑法》二百三十四条××之规定，构成××。提请依法判处。   \n",
       "\n",
       "        lawArticle  imprisonment  \n",
       "252272         234            24  "
      ]
     },
     "execution_count": 16,
     "metadata": {},
     "output_type": "execute_result"
    }
   ],
   "source": [
    "nationalHurt.sample()[['fact','lawArticle', 'imprisonment']]"
   ]
  },
  {
   "cell_type": "code",
   "execution_count": null,
   "metadata": {},
   "outputs": [],
   "source": []
  },
  {
   "cell_type": "code",
   "execution_count": 10,
   "metadata": {},
   "outputs": [],
   "source": [
    "nationalDrug = dfSorted[dfSorted['accusation'] == '走私、贩卖、运输、制造毒品']"
   ]
  },
  {
   "cell_type": "code",
   "execution_count": 11,
   "metadata": {},
   "outputs": [
    {
     "data": {
      "text/plain": [
       "101735"
      ]
     },
     "execution_count": 11,
     "metadata": {},
     "output_type": "execute_result"
    }
   ],
   "source": [
    "len(nationalDrug)"
   ]
  },
  {
   "cell_type": "code",
   "execution_count": 15,
   "metadata": {},
   "outputs": [
    {
     "data": {
      "text/html": [
       "<div>\n",
       "<style scoped>\n",
       "    .dataframe tbody tr th:only-of-type {\n",
       "        vertical-align: middle;\n",
       "    }\n",
       "\n",
       "    .dataframe tbody tr th {\n",
       "        vertical-align: top;\n",
       "    }\n",
       "\n",
       "    .dataframe thead th {\n",
       "        text-align: right;\n",
       "    }\n",
       "</style>\n",
       "<table border=\"1\" class=\"dataframe\">\n",
       "  <thead>\n",
       "    <tr style=\"text-align: right;\">\n",
       "      <th></th>\n",
       "      <th>fact</th>\n",
       "      <th>lawArticle</th>\n",
       "      <th>imprisonment</th>\n",
       "    </tr>\n",
       "  </thead>\n",
       "  <tbody>\n",
       "    <tr>\n",
       "      <th>887035</th>\n",
       "      <td>公诉机关指控，2013年9月份，被告人栗某让马某某、曲某为其推销月饼，栗某提供给马某某、曲某五小包土料面作为报酬。2013年9月16日，栗某以100元价格向李某某出售毒品土料面一包。当天，察右后旗公安局禁毒大队民警在白镇道西曲有母亲邢某某家中查获贩卖毒品人员栗某，并当场从其身上收缴毒品土料面0.28克，经内蒙古自治区公安厅毒品检验鉴定，送检毒品土料面检验出海洛因成分。</td>\n",
       "      <td>347</td>\n",
       "      <td>24</td>\n",
       "    </tr>\n",
       "  </tbody>\n",
       "</table>\n",
       "</div>"
      ],
      "text/plain": [
       "                                                                                                                                                                                             fact  \\\n",
       "887035  公诉机关指控，2013年9月份，被告人栗某让马某某、曲某为其推销月饼，栗某提供给马某某、曲某五小包土料面作为报酬。2013年9月16日，栗某以100元价格向李某某出售毒品土料面一包。当天，察右后旗公安局禁毒大队民警在白镇道西曲有母亲邢某某家中查获贩卖毒品人员栗某，并当场从其身上收缴毒品土料面0.28克，经内蒙古自治区公安厅毒品检验鉴定，送检毒品土料面检验出海洛因成分。   \n",
       "\n",
       "        lawArticle  imprisonment  \n",
       "887035         347            24  "
      ]
     },
     "execution_count": 15,
     "metadata": {},
     "output_type": "execute_result"
    }
   ],
   "source": [
    "nationalDrug.sample()[['fact','lawArticle', 'imprisonment']]"
   ]
  },
  {
   "cell_type": "code",
   "execution_count": null,
   "metadata": {},
   "outputs": [],
   "source": []
  },
  {
   "cell_type": "code",
   "execution_count": 40,
   "metadata": {},
   "outputs": [
    {
     "data": {
      "text/html": [
       "<div>\n",
       "<style scoped>\n",
       "    .dataframe tbody tr th:only-of-type {\n",
       "        vertical-align: middle;\n",
       "    }\n",
       "\n",
       "    .dataframe tbody tr th {\n",
       "        vertical-align: top;\n",
       "    }\n",
       "\n",
       "    .dataframe thead th {\n",
       "        text-align: right;\n",
       "    }\n",
       "</style>\n",
       "<table border=\"1\" class=\"dataframe\">\n",
       "  <thead>\n",
       "    <tr style=\"text-align: right;\">\n",
       "      <th></th>\n",
       "      <th>fact</th>\n",
       "      <th>lawArticle</th>\n",
       "      <th>imprisonment</th>\n",
       "      <th>deathPenalty</th>\n",
       "    </tr>\n",
       "  </thead>\n",
       "  <tbody>\n",
       "    <tr>\n",
       "      <th>673051</th>\n",
       "      <td>经审理查明，2014年1月12日下午，被告人李某甲伙同陈某某、祝某甲、祝某乙、陆某甲、陆某乙、沈某某（六人均已判）等人，在虞城县王集乡中心社区西侧水泥路上，随意殴打祝某丙、范某某、杨某某、许某某。经法医鉴定，祝某某伤情构成轻伤二级，范某某、杨某某伤情构成轻微伤。\\r\\n另查明，2014年12月23日，被害人祝某某对被告人李某甲的行为予以谅解。\\r\\n上述事实，被告人李某甲在开庭审理过程中亦无异议，并有情况说明及户籍证明、调解书、刑事判决书、被害人祝某某、杨某某、范某某的陈述、证人许某某的证言、同案犯陆某及、沈某某、陆某乙、陈某某、祝某甲、祝某乙、李某乙的供述、法医学人体损伤程度鉴定书经庭审举证、认证的证据证实，足以认定。</td>\n",
       "      <td>293</td>\n",
       "      <td>6</td>\n",
       "      <td>False</td>\n",
       "    </tr>\n",
       "  </tbody>\n",
       "</table>\n",
       "</div>"
      ],
      "text/plain": [
       "                                                                                                                                                                                                                                                                                                                              fact  \\\n",
       "673051  经审理查明，2014年1月12日下午，被告人李某甲伙同陈某某、祝某甲、祝某乙、陆某甲、陆某乙、沈某某（六人均已判）等人，在虞城县王集乡中心社区西侧水泥路上，随意殴打祝某丙、范某某、杨某某、许某某。经法医鉴定，祝某某伤情构成轻伤二级，范某某、杨某某伤情构成轻微伤。\\r\\n另查明，2014年12月23日，被害人祝某某对被告人李某甲的行为予以谅解。\\r\\n上述事实，被告人李某甲在开庭审理过程中亦无异议，并有情况说明及户籍证明、调解书、刑事判决书、被害人祝某某、杨某某、范某某的陈述、证人许某某的证言、同案犯陆某及、沈某某、陆某乙、陈某某、祝某甲、祝某乙、李某乙的供述、法医学人体损伤程度鉴定书经庭审举证、认证的证据证实，足以认定。   \n",
       "\n",
       "        lawArticle  imprisonment  deathPenalty  \n",
       "673051         293             6         False  "
      ]
     },
     "execution_count": 40,
     "metadata": {},
     "output_type": "execute_result"
    }
   ],
   "source": [
    "dfSorted.sample()[['fact','lawArticle', 'imprisonment', 'deathPenalty']]"
   ]
  },
  {
   "cell_type": "code",
   "execution_count": null,
   "metadata": {},
   "outputs": [],
   "source": []
  },
  {
   "cell_type": "code",
   "execution_count": null,
   "metadata": {},
   "outputs": [],
   "source": [
    "| (dfSorted['lawArticle'] == 238)"
   ]
  },
  {
   "cell_type": "code",
   "execution_count": 26,
   "metadata": {},
   "outputs": [],
   "source": [
    "nationalWeCh = dfSorted[(dfSorted['lawArticle'] == 416)\n",
    "                        | (dfSorted['lawArticle'] == 236)\n",
    "                        | (dfSorted['lawArticle'] == 237)\n",
    "                       | (dfSorted['lawArticle'] == 240)\n",
    "                       | (dfSorted['lawArticle'] == 241)\n",
    "                       | (dfSorted['lawArticle'] == 242)]\n",
    "\n",
    "\n"
   ]
  },
  {
   "cell_type": "code",
   "execution_count": 27,
   "metadata": {},
   "outputs": [
    {
     "data": {
      "text/plain": [
       "5029"
      ]
     },
     "execution_count": 27,
     "metadata": {},
     "output_type": "execute_result"
    }
   ],
   "source": [
    "len(nationalWeCh)"
   ]
  },
  {
   "cell_type": "code",
   "execution_count": 33,
   "metadata": {},
   "outputs": [
    {
     "data": {
      "text/html": [
       "<div>\n",
       "<style scoped>\n",
       "    .dataframe tbody tr th:only-of-type {\n",
       "        vertical-align: middle;\n",
       "    }\n",
       "\n",
       "    .dataframe tbody tr th {\n",
       "        vertical-align: top;\n",
       "    }\n",
       "\n",
       "    .dataframe thead th {\n",
       "        text-align: right;\n",
       "    }\n",
       "</style>\n",
       "<table border=\"1\" class=\"dataframe\">\n",
       "  <thead>\n",
       "    <tr style=\"text-align: right;\">\n",
       "      <th></th>\n",
       "      <th>fact</th>\n",
       "      <th>lawArticle</th>\n",
       "      <th>imprisonment</th>\n",
       "      <th>deathPenalty</th>\n",
       "    </tr>\n",
       "  </thead>\n",
       "  <tbody>\n",
       "    <tr>\n",
       "      <th>16788</th>\n",
       "      <td>大庆市让胡某人民检察院指控：2017年4月10日19时许，被告人杨2某与微信好友林某某见面吃饭，22时许，林某某乘出租车离开，被告人杨2某乘出租车尾随，当林某某在铁人广场西侧胃康医院路边下车后，杨2某将林某某强行拽至铁人广场西门附近的小树林内，采用暴力胁迫手段欲对林某某实施强奸。后公安机关赶到现场将杨2某抓获。\\r\\n公诉机关针对指控，提供了相关证据。公诉机关认为，被告人杨2某的行为已构成××，应依照《中华人民共和国刑法》××、××之规定予以处罚。\\r\\n被告人杨2某认同公诉机关的指控。</td>\n",
       "      <td>236</td>\n",
       "      <td>36</td>\n",
       "      <td>False</td>\n",
       "    </tr>\n",
       "  </tbody>\n",
       "</table>\n",
       "</div>"
      ],
      "text/plain": [
       "                                                                                                                                                                                                                                                         fact  \\\n",
       "16788  大庆市让胡某人民检察院指控：2017年4月10日19时许，被告人杨2某与微信好友林某某见面吃饭，22时许，林某某乘出租车离开，被告人杨2某乘出租车尾随，当林某某在铁人广场西侧胃康医院路边下车后，杨2某将林某某强行拽至铁人广场西门附近的小树林内，采用暴力胁迫手段欲对林某某实施强奸。后公安机关赶到现场将杨2某抓获。\\r\\n公诉机关针对指控，提供了相关证据。公诉机关认为，被告人杨2某的行为已构成××，应依照《中华人民共和国刑法》××、××之规定予以处罚。\\r\\n被告人杨2某认同公诉机关的指控。   \n",
       "\n",
       "       lawArticle  imprisonment  deathPenalty  \n",
       "16788         236            36         False  "
      ]
     },
     "execution_count": 33,
     "metadata": {},
     "output_type": "execute_result"
    }
   ],
   "source": [
    "# nationalWeCh.sample()[['fact','lawArticle', 'imprisonment', 'deathPenalty']]"
   ]
  },
  {
   "cell_type": "code",
   "execution_count": null,
   "metadata": {},
   "outputs": [],
   "source": []
  }
 ],
 "metadata": {
  "kernelspec": {
   "display_name": "Python 3",
   "language": "python",
   "name": "python3"
  },
  "language_info": {
   "codemirror_mode": {
    "name": "ipython",
    "version": 3
   },
   "file_extension": ".py",
   "mimetype": "text/x-python",
   "name": "python",
   "nbconvert_exporter": "python",
   "pygments_lexer": "ipython3",
   "version": "3.8.2"
  }
 },
 "nbformat": 4,
 "nbformat_minor": 4
}
